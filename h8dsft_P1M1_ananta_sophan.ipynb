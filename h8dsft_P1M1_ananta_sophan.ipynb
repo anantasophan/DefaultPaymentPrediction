{
  "cells": [
    {
      "cell_type": "markdown",
      "metadata": {
        "id": "9c95DqRs51pb"
      },
      "source": [
        "# Milestone 1\n",
        "# Batch HCK 002\n",
        "# Ananta Faadillah Sophan\n"
      ]
    },
    {
      "cell_type": "markdown",
      "metadata": {
        "id": "gcC7NRQ65-BJ"
      },
      "source": [
        "# Problem Statement\n",
        "Membuat model untuk mengklasifikasikan default payment nasabah pada Bank National Taiwan\n",
        "\n",
        "\n",
        "(Default Payment adalah kegagalan untuk membayar kembali hutang termasuk bunga atau pokok pinjaman atau sekuritas. Kegagalan pembayaran dapat terjadi ketika peminjam tidak dapat melakukan pembayaran tepat waktu, melewatkan pembayaran, atau menghindari atau berhenti melakukan pembayaran.)"
      ]
    },
    {
      "cell_type": "markdown",
      "metadata": {
        "id": "MKLW5Irk5yfV"
      },
      "source": [
        "## Query For Dataset\n",
        "SELECT limit_balance, sex, education_level, marital_status, age, pay_0, pay_2, pay_3, pay_4, pay_5, pay_6, bill_amt_1, bill_amt_2, bill_amt_3, bill_amt_4, bill_amt_5, bill_amt_6, pay_amt_1, pay_amt_2, pay_amt_3, pay_amt_4, pay_amt_5, pay_amt_6, default_payment_next_month\n",
        "from `bigquery-public-data.ml_datasets.credit_card_default`\n",
        "LIMIT 4000\n",
        "\n",
        "- Mengambil data dan kolom yang diperlukan dengan limit 4000 jumlah data nya"
      ]
    },
    {
      "cell_type": "markdown",
      "metadata": {
        "id": "rNgd9pmZ6BHh"
      },
      "source": [
        "## Import Libraries"
      ]
    },
    {
      "cell_type": "markdown",
      "source": [
        "Import Library yang dibutuhkan"
      ],
      "metadata": {
        "id": "MYOda43Fh8Gt"
      }
    },
    {
      "cell_type": "code",
      "execution_count": 1,
      "metadata": {
        "colab": {
          "base_uri": "https://localhost:8080/"
        },
        "id": "XskSpRqU6KOq",
        "outputId": "c6e6b587-206b-4805-894a-0d9685e3653e"
      },
      "outputs": [
        {
          "output_type": "stream",
          "name": "stdout",
          "text": [
            "Looking in indexes: https://pypi.org/simple, https://us-python.pkg.dev/colab-wheels/public/simple/\n",
            "Requirement already satisfied: feature_engine in /usr/local/lib/python3.7/dist-packages (1.4.0)\n",
            "Requirement already satisfied: scipy>=1.4.1 in /usr/local/lib/python3.7/dist-packages (from feature_engine) (1.7.3)\n",
            "Requirement already satisfied: scikit-learn>=1.0.0 in /usr/local/lib/python3.7/dist-packages (from feature_engine) (1.0.2)\n",
            "Requirement already satisfied: statsmodels>=0.11.1 in /usr/local/lib/python3.7/dist-packages (from feature_engine) (0.12.2)\n",
            "Requirement already satisfied: pandas>=1.0.3 in /usr/local/lib/python3.7/dist-packages (from feature_engine) (1.3.5)\n",
            "Requirement already satisfied: numpy>=1.18.2 in /usr/local/lib/python3.7/dist-packages (from feature_engine) (1.21.6)\n",
            "Requirement already satisfied: python-dateutil>=2.7.3 in /usr/local/lib/python3.7/dist-packages (from pandas>=1.0.3->feature_engine) (2.8.2)\n",
            "Requirement already satisfied: pytz>=2017.3 in /usr/local/lib/python3.7/dist-packages (from pandas>=1.0.3->feature_engine) (2022.6)\n",
            "Requirement already satisfied: six>=1.5 in /usr/local/lib/python3.7/dist-packages (from python-dateutil>=2.7.3->pandas>=1.0.3->feature_engine) (1.15.0)\n",
            "Requirement already satisfied: joblib>=0.11 in /usr/local/lib/python3.7/dist-packages (from scikit-learn>=1.0.0->feature_engine) (1.2.0)\n",
            "Requirement already satisfied: threadpoolctl>=2.0.0 in /usr/local/lib/python3.7/dist-packages (from scikit-learn>=1.0.0->feature_engine) (3.1.0)\n",
            "Requirement already satisfied: patsy>=0.5 in /usr/local/lib/python3.7/dist-packages (from statsmodels>=0.11.1->feature_engine) (0.5.3)\n"
          ]
        }
      ],
      "source": [
        "!pip install feature_engine"
      ]
    },
    {
      "cell_type": "code",
      "execution_count": 2,
      "metadata": {
        "id": "xe-g8U2q6JHO"
      },
      "outputs": [],
      "source": [
        "import pandas as pd\n",
        "import numpy as np\n",
        "import seaborn as sns\n",
        "import matplotlib.pyplot as plt\n",
        "import warnings\n",
        "warnings.filterwarnings('ignore')\n",
        "\n",
        "from scipy import stats\n",
        "from sklearn.model_selection import train_test_split,GridSearchCV,cross_val_score\n",
        "from feature_engine.outliers import Winsorizer\n",
        "from statsmodels.stats.outliers_influence import variance_inflation_factor\n",
        "from sklearn.linear_model import LogisticRegression\n",
        "from sklearn.svm import SVC\n",
        "from sklearn.tree import DecisionTreeClassifier\n",
        "from sklearn.ensemble import RandomForestClassifier,AdaBoostClassifier\n",
        "from sklearn.naive_bayes import GaussianNB\n",
        "from sklearn.metrics import confusion_matrix, classification_report, precision_score, recall_score, accuracy_score, f1_score, ConfusionMatrixDisplay\n",
        "from sklearn.preprocessing import MinMaxScaler\n",
        "from sklearn.neighbors import KNeighborsClassifier\n",
        "from sklearn.ensemble import GradientBoostingClassifier\n",
        "from sklearn.model_selection import RandomizedSearchCV\n",
        "from sklearn.model_selection import GridSearchCV\n",
        "\n"
      ]
    },
    {
      "cell_type": "code",
      "execution_count": 3,
      "metadata": {
        "id": "v64Ojs7bJ87Q"
      },
      "outputs": [],
      "source": [
        "from xgboost import XGBClassifier"
      ]
    },
    {
      "cell_type": "code",
      "execution_count": 4,
      "metadata": {
        "id": "LfL82WM4Ji9z"
      },
      "outputs": [],
      "source": [
        "try:\n",
        "    import xgboost\n",
        "except ImportError as ex:\n",
        "    print(\"Error: the xgboost library is not installed.\")\n",
        "    xgboost = None"
      ]
    },
    {
      "cell_type": "markdown",
      "metadata": {
        "id": "PsaPnglg6Paz"
      },
      "source": [
        "## Data Loading"
      ]
    },
    {
      "cell_type": "markdown",
      "source": [
        "Import Dataset yang akan digunakan"
      ],
      "metadata": {
        "id": "kpDXvuxSiE1i"
      }
    },
    {
      "cell_type": "code",
      "execution_count": 5,
      "metadata": {
        "id": "kXtIunWC6X6E"
      },
      "outputs": [],
      "source": [
        "df = pd.read_csv('/content/h8dsft_P1M1_ananta_sophan.csv.csv')"
      ]
    },
    {
      "cell_type": "code",
      "execution_count": 6,
      "metadata": {
        "colab": {
          "base_uri": "https://localhost:8080/",
          "height": 300
        },
        "id": "4ers5tvO62Vj",
        "outputId": "47dfa497-4961-418d-a3b0-41a5d066dba5"
      },
      "outputs": [
        {
          "output_type": "execute_result",
          "data": {
            "text/plain": [
              "   limit_balance  sex  education_level  marital_status   age  pay_0  pay_2  \\\n",
              "0       130000.0    1                1               1  45.0    0.0    0.0   \n",
              "1       230000.0    1                2               1  41.0    0.0    0.0   \n",
              "2        50000.0    1                2               1  42.0    0.0    0.0   \n",
              "3       200000.0    1                1               1  58.0    0.0    0.0   \n",
              "4       500000.0    1                1               1  39.0    0.0    0.0   \n",
              "\n",
              "   pay_3  pay_4  pay_5  ...  bill_amt_4  bill_amt_5  bill_amt_6  pay_amt_1  \\\n",
              "0    0.0    0.0      0  ...     62377.0     63832.0     65099.0     2886.0   \n",
              "1    0.0    0.0      0  ...    216260.0    215968.0    174195.0     9405.0   \n",
              "2    0.0    0.0      0  ...     31320.0     36227.0     35569.0     2007.0   \n",
              "3    0.0    0.0      0  ...    124647.0    126921.0    129167.0     7822.0   \n",
              "4    0.0    0.0      0  ...    174500.0    137406.0    204975.0    54209.0   \n",
              "\n",
              "   pay_amt_2  pay_amt_3  pay_amt_4  pay_amt_5  pay_amt_6  \\\n",
              "0     2908.0     2129.0     2354.0     2366.0     2291.0   \n",
              "1     7769.0     7757.0     8030.0     6549.0     5226.0   \n",
              "2     2000.0     1500.0     5400.0        0.0     3000.0   \n",
              "3     4417.0     4446.0     4597.0     4677.0     4698.0   \n",
              "4     4607.0     4603.0     5224.0   207440.0     7509.0   \n",
              "\n",
              "   default_payment_next_month  \n",
              "0                           0  \n",
              "1                           1  \n",
              "2                           0  \n",
              "3                           0  \n",
              "4                           0  \n",
              "\n",
              "[5 rows x 24 columns]"
            ],
            "text/html": [
              "\n",
              "  <div id=\"df-85d54ed1-59b2-4fed-bd5a-e6c6153c2ae0\">\n",
              "    <div class=\"colab-df-container\">\n",
              "      <div>\n",
              "<style scoped>\n",
              "    .dataframe tbody tr th:only-of-type {\n",
              "        vertical-align: middle;\n",
              "    }\n",
              "\n",
              "    .dataframe tbody tr th {\n",
              "        vertical-align: top;\n",
              "    }\n",
              "\n",
              "    .dataframe thead th {\n",
              "        text-align: right;\n",
              "    }\n",
              "</style>\n",
              "<table border=\"1\" class=\"dataframe\">\n",
              "  <thead>\n",
              "    <tr style=\"text-align: right;\">\n",
              "      <th></th>\n",
              "      <th>limit_balance</th>\n",
              "      <th>sex</th>\n",
              "      <th>education_level</th>\n",
              "      <th>marital_status</th>\n",
              "      <th>age</th>\n",
              "      <th>pay_0</th>\n",
              "      <th>pay_2</th>\n",
              "      <th>pay_3</th>\n",
              "      <th>pay_4</th>\n",
              "      <th>pay_5</th>\n",
              "      <th>...</th>\n",
              "      <th>bill_amt_4</th>\n",
              "      <th>bill_amt_5</th>\n",
              "      <th>bill_amt_6</th>\n",
              "      <th>pay_amt_1</th>\n",
              "      <th>pay_amt_2</th>\n",
              "      <th>pay_amt_3</th>\n",
              "      <th>pay_amt_4</th>\n",
              "      <th>pay_amt_5</th>\n",
              "      <th>pay_amt_6</th>\n",
              "      <th>default_payment_next_month</th>\n",
              "    </tr>\n",
              "  </thead>\n",
              "  <tbody>\n",
              "    <tr>\n",
              "      <th>0</th>\n",
              "      <td>130000.0</td>\n",
              "      <td>1</td>\n",
              "      <td>1</td>\n",
              "      <td>1</td>\n",
              "      <td>45.0</td>\n",
              "      <td>0.0</td>\n",
              "      <td>0.0</td>\n",
              "      <td>0.0</td>\n",
              "      <td>0.0</td>\n",
              "      <td>0</td>\n",
              "      <td>...</td>\n",
              "      <td>62377.0</td>\n",
              "      <td>63832.0</td>\n",
              "      <td>65099.0</td>\n",
              "      <td>2886.0</td>\n",
              "      <td>2908.0</td>\n",
              "      <td>2129.0</td>\n",
              "      <td>2354.0</td>\n",
              "      <td>2366.0</td>\n",
              "      <td>2291.0</td>\n",
              "      <td>0</td>\n",
              "    </tr>\n",
              "    <tr>\n",
              "      <th>1</th>\n",
              "      <td>230000.0</td>\n",
              "      <td>1</td>\n",
              "      <td>2</td>\n",
              "      <td>1</td>\n",
              "      <td>41.0</td>\n",
              "      <td>0.0</td>\n",
              "      <td>0.0</td>\n",
              "      <td>0.0</td>\n",
              "      <td>0.0</td>\n",
              "      <td>0</td>\n",
              "      <td>...</td>\n",
              "      <td>216260.0</td>\n",
              "      <td>215968.0</td>\n",
              "      <td>174195.0</td>\n",
              "      <td>9405.0</td>\n",
              "      <td>7769.0</td>\n",
              "      <td>7757.0</td>\n",
              "      <td>8030.0</td>\n",
              "      <td>6549.0</td>\n",
              "      <td>5226.0</td>\n",
              "      <td>1</td>\n",
              "    </tr>\n",
              "    <tr>\n",
              "      <th>2</th>\n",
              "      <td>50000.0</td>\n",
              "      <td>1</td>\n",
              "      <td>2</td>\n",
              "      <td>1</td>\n",
              "      <td>42.0</td>\n",
              "      <td>0.0</td>\n",
              "      <td>0.0</td>\n",
              "      <td>0.0</td>\n",
              "      <td>0.0</td>\n",
              "      <td>0</td>\n",
              "      <td>...</td>\n",
              "      <td>31320.0</td>\n",
              "      <td>36227.0</td>\n",
              "      <td>35569.0</td>\n",
              "      <td>2007.0</td>\n",
              "      <td>2000.0</td>\n",
              "      <td>1500.0</td>\n",
              "      <td>5400.0</td>\n",
              "      <td>0.0</td>\n",
              "      <td>3000.0</td>\n",
              "      <td>0</td>\n",
              "    </tr>\n",
              "    <tr>\n",
              "      <th>3</th>\n",
              "      <td>200000.0</td>\n",
              "      <td>1</td>\n",
              "      <td>1</td>\n",
              "      <td>1</td>\n",
              "      <td>58.0</td>\n",
              "      <td>0.0</td>\n",
              "      <td>0.0</td>\n",
              "      <td>0.0</td>\n",
              "      <td>0.0</td>\n",
              "      <td>0</td>\n",
              "      <td>...</td>\n",
              "      <td>124647.0</td>\n",
              "      <td>126921.0</td>\n",
              "      <td>129167.0</td>\n",
              "      <td>7822.0</td>\n",
              "      <td>4417.0</td>\n",
              "      <td>4446.0</td>\n",
              "      <td>4597.0</td>\n",
              "      <td>4677.0</td>\n",
              "      <td>4698.0</td>\n",
              "      <td>0</td>\n",
              "    </tr>\n",
              "    <tr>\n",
              "      <th>4</th>\n",
              "      <td>500000.0</td>\n",
              "      <td>1</td>\n",
              "      <td>1</td>\n",
              "      <td>1</td>\n",
              "      <td>39.0</td>\n",
              "      <td>0.0</td>\n",
              "      <td>0.0</td>\n",
              "      <td>0.0</td>\n",
              "      <td>0.0</td>\n",
              "      <td>0</td>\n",
              "      <td>...</td>\n",
              "      <td>174500.0</td>\n",
              "      <td>137406.0</td>\n",
              "      <td>204975.0</td>\n",
              "      <td>54209.0</td>\n",
              "      <td>4607.0</td>\n",
              "      <td>4603.0</td>\n",
              "      <td>5224.0</td>\n",
              "      <td>207440.0</td>\n",
              "      <td>7509.0</td>\n",
              "      <td>0</td>\n",
              "    </tr>\n",
              "  </tbody>\n",
              "</table>\n",
              "<p>5 rows × 24 columns</p>\n",
              "</div>\n",
              "      <button class=\"colab-df-convert\" onclick=\"convertToInteractive('df-85d54ed1-59b2-4fed-bd5a-e6c6153c2ae0')\"\n",
              "              title=\"Convert this dataframe to an interactive table.\"\n",
              "              style=\"display:none;\">\n",
              "        \n",
              "  <svg xmlns=\"http://www.w3.org/2000/svg\" height=\"24px\"viewBox=\"0 0 24 24\"\n",
              "       width=\"24px\">\n",
              "    <path d=\"M0 0h24v24H0V0z\" fill=\"none\"/>\n",
              "    <path d=\"M18.56 5.44l.94 2.06.94-2.06 2.06-.94-2.06-.94-.94-2.06-.94 2.06-2.06.94zm-11 1L8.5 8.5l.94-2.06 2.06-.94-2.06-.94L8.5 2.5l-.94 2.06-2.06.94zm10 10l.94 2.06.94-2.06 2.06-.94-2.06-.94-.94-2.06-.94 2.06-2.06.94z\"/><path d=\"M17.41 7.96l-1.37-1.37c-.4-.4-.92-.59-1.43-.59-.52 0-1.04.2-1.43.59L10.3 9.45l-7.72 7.72c-.78.78-.78 2.05 0 2.83L4 21.41c.39.39.9.59 1.41.59.51 0 1.02-.2 1.41-.59l7.78-7.78 2.81-2.81c.8-.78.8-2.07 0-2.86zM5.41 20L4 18.59l7.72-7.72 1.47 1.35L5.41 20z\"/>\n",
              "  </svg>\n",
              "      </button>\n",
              "      \n",
              "  <style>\n",
              "    .colab-df-container {\n",
              "      display:flex;\n",
              "      flex-wrap:wrap;\n",
              "      gap: 12px;\n",
              "    }\n",
              "\n",
              "    .colab-df-convert {\n",
              "      background-color: #E8F0FE;\n",
              "      border: none;\n",
              "      border-radius: 50%;\n",
              "      cursor: pointer;\n",
              "      display: none;\n",
              "      fill: #1967D2;\n",
              "      height: 32px;\n",
              "      padding: 0 0 0 0;\n",
              "      width: 32px;\n",
              "    }\n",
              "\n",
              "    .colab-df-convert:hover {\n",
              "      background-color: #E2EBFA;\n",
              "      box-shadow: 0px 1px 2px rgba(60, 64, 67, 0.3), 0px 1px 3px 1px rgba(60, 64, 67, 0.15);\n",
              "      fill: #174EA6;\n",
              "    }\n",
              "\n",
              "    [theme=dark] .colab-df-convert {\n",
              "      background-color: #3B4455;\n",
              "      fill: #D2E3FC;\n",
              "    }\n",
              "\n",
              "    [theme=dark] .colab-df-convert:hover {\n",
              "      background-color: #434B5C;\n",
              "      box-shadow: 0px 1px 3px 1px rgba(0, 0, 0, 0.15);\n",
              "      filter: drop-shadow(0px 1px 2px rgba(0, 0, 0, 0.3));\n",
              "      fill: #FFFFFF;\n",
              "    }\n",
              "  </style>\n",
              "\n",
              "      <script>\n",
              "        const buttonEl =\n",
              "          document.querySelector('#df-85d54ed1-59b2-4fed-bd5a-e6c6153c2ae0 button.colab-df-convert');\n",
              "        buttonEl.style.display =\n",
              "          google.colab.kernel.accessAllowed ? 'block' : 'none';\n",
              "\n",
              "        async function convertToInteractive(key) {\n",
              "          const element = document.querySelector('#df-85d54ed1-59b2-4fed-bd5a-e6c6153c2ae0');\n",
              "          const dataTable =\n",
              "            await google.colab.kernel.invokeFunction('convertToInteractive',\n",
              "                                                     [key], {});\n",
              "          if (!dataTable) return;\n",
              "\n",
              "          const docLinkHtml = 'Like what you see? Visit the ' +\n",
              "            '<a target=\"_blank\" href=https://colab.research.google.com/notebooks/data_table.ipynb>data table notebook</a>'\n",
              "            + ' to learn more about interactive tables.';\n",
              "          element.innerHTML = '';\n",
              "          dataTable['output_type'] = 'display_data';\n",
              "          await google.colab.output.renderOutput(dataTable, element);\n",
              "          const docLink = document.createElement('div');\n",
              "          docLink.innerHTML = docLinkHtml;\n",
              "          element.appendChild(docLink);\n",
              "        }\n",
              "      </script>\n",
              "    </div>\n",
              "  </div>\n",
              "  "
            ]
          },
          "metadata": {},
          "execution_count": 6
        }
      ],
      "source": [
        "df.head()"
      ]
    },
    {
      "cell_type": "code",
      "execution_count": 7,
      "metadata": {
        "colab": {
          "base_uri": "https://localhost:8080/",
          "height": 300
        },
        "id": "d_uKx1xm63ok",
        "outputId": "d70ca742-4836-4be6-b493-9f9d84d29e41"
      },
      "outputs": [
        {
          "output_type": "execute_result",
          "data": {
            "text/plain": [
              "      limit_balance  sex  education_level  marital_status   age  pay_0  pay_2  \\\n",
              "2960        80000.0    2                3               1  39.0   -1.0   -1.0   \n",
              "2961       110000.0    2                2               2  24.0   -1.0   -1.0   \n",
              "2962       160000.0    2                1               2  32.0   -1.0   -1.0   \n",
              "2963       210000.0    2                1               1  38.0    0.0    0.0   \n",
              "2964       360000.0    2                2               1  37.0   -1.0   -1.0   \n",
              "\n",
              "      pay_3  pay_4  pay_5  ...  bill_amt_4  bill_amt_5  bill_amt_6  pay_amt_1  \\\n",
              "2960   -1.0   -1.0     -2  ...         0.0         0.0      5000.0     5000.0   \n",
              "2961   -1.0   -1.0      0  ...     36986.0     40053.0     41196.0     1352.0   \n",
              "2962   -1.0   -1.0     -1  ...      3181.0      4998.0      1250.0     5726.0   \n",
              "2963   -1.0   -1.0      0  ...     23067.0     19972.0     45864.0     3000.0   \n",
              "2964    0.0   -1.0     -1  ...     10000.0     10000.0     10000.0    17444.0   \n",
              "\n",
              "      pay_amt_2  pay_amt_3  pay_amt_4  pay_amt_5  pay_amt_6  \\\n",
              "2960     5000.0        0.0     5000.0     5000.0      470.0   \n",
              "2961     1867.0    36986.0     5000.0     3000.0    23000.0   \n",
              "2962     5037.0     3182.0     5000.0     1252.0      749.0   \n",
              "2963     4521.0    24000.0    10000.0    30000.0     6432.0   \n",
              "2964    10035.0    10000.0    10000.0    10000.0        0.0   \n",
              "\n",
              "      default_payment_next_month  \n",
              "2960                           0  \n",
              "2961                           0  \n",
              "2962                           0  \n",
              "2963                           0  \n",
              "2964                           0  \n",
              "\n",
              "[5 rows x 24 columns]"
            ],
            "text/html": [
              "\n",
              "  <div id=\"df-2e06fafb-6f07-4b5a-bf18-dbd28e6502df\">\n",
              "    <div class=\"colab-df-container\">\n",
              "      <div>\n",
              "<style scoped>\n",
              "    .dataframe tbody tr th:only-of-type {\n",
              "        vertical-align: middle;\n",
              "    }\n",
              "\n",
              "    .dataframe tbody tr th {\n",
              "        vertical-align: top;\n",
              "    }\n",
              "\n",
              "    .dataframe thead th {\n",
              "        text-align: right;\n",
              "    }\n",
              "</style>\n",
              "<table border=\"1\" class=\"dataframe\">\n",
              "  <thead>\n",
              "    <tr style=\"text-align: right;\">\n",
              "      <th></th>\n",
              "      <th>limit_balance</th>\n",
              "      <th>sex</th>\n",
              "      <th>education_level</th>\n",
              "      <th>marital_status</th>\n",
              "      <th>age</th>\n",
              "      <th>pay_0</th>\n",
              "      <th>pay_2</th>\n",
              "      <th>pay_3</th>\n",
              "      <th>pay_4</th>\n",
              "      <th>pay_5</th>\n",
              "      <th>...</th>\n",
              "      <th>bill_amt_4</th>\n",
              "      <th>bill_amt_5</th>\n",
              "      <th>bill_amt_6</th>\n",
              "      <th>pay_amt_1</th>\n",
              "      <th>pay_amt_2</th>\n",
              "      <th>pay_amt_3</th>\n",
              "      <th>pay_amt_4</th>\n",
              "      <th>pay_amt_5</th>\n",
              "      <th>pay_amt_6</th>\n",
              "      <th>default_payment_next_month</th>\n",
              "    </tr>\n",
              "  </thead>\n",
              "  <tbody>\n",
              "    <tr>\n",
              "      <th>2960</th>\n",
              "      <td>80000.0</td>\n",
              "      <td>2</td>\n",
              "      <td>3</td>\n",
              "      <td>1</td>\n",
              "      <td>39.0</td>\n",
              "      <td>-1.0</td>\n",
              "      <td>-1.0</td>\n",
              "      <td>-1.0</td>\n",
              "      <td>-1.0</td>\n",
              "      <td>-2</td>\n",
              "      <td>...</td>\n",
              "      <td>0.0</td>\n",
              "      <td>0.0</td>\n",
              "      <td>5000.0</td>\n",
              "      <td>5000.0</td>\n",
              "      <td>5000.0</td>\n",
              "      <td>0.0</td>\n",
              "      <td>5000.0</td>\n",
              "      <td>5000.0</td>\n",
              "      <td>470.0</td>\n",
              "      <td>0</td>\n",
              "    </tr>\n",
              "    <tr>\n",
              "      <th>2961</th>\n",
              "      <td>110000.0</td>\n",
              "      <td>2</td>\n",
              "      <td>2</td>\n",
              "      <td>2</td>\n",
              "      <td>24.0</td>\n",
              "      <td>-1.0</td>\n",
              "      <td>-1.0</td>\n",
              "      <td>-1.0</td>\n",
              "      <td>-1.0</td>\n",
              "      <td>0</td>\n",
              "      <td>...</td>\n",
              "      <td>36986.0</td>\n",
              "      <td>40053.0</td>\n",
              "      <td>41196.0</td>\n",
              "      <td>1352.0</td>\n",
              "      <td>1867.0</td>\n",
              "      <td>36986.0</td>\n",
              "      <td>5000.0</td>\n",
              "      <td>3000.0</td>\n",
              "      <td>23000.0</td>\n",
              "      <td>0</td>\n",
              "    </tr>\n",
              "    <tr>\n",
              "      <th>2962</th>\n",
              "      <td>160000.0</td>\n",
              "      <td>2</td>\n",
              "      <td>1</td>\n",
              "      <td>2</td>\n",
              "      <td>32.0</td>\n",
              "      <td>-1.0</td>\n",
              "      <td>-1.0</td>\n",
              "      <td>-1.0</td>\n",
              "      <td>-1.0</td>\n",
              "      <td>-1</td>\n",
              "      <td>...</td>\n",
              "      <td>3181.0</td>\n",
              "      <td>4998.0</td>\n",
              "      <td>1250.0</td>\n",
              "      <td>5726.0</td>\n",
              "      <td>5037.0</td>\n",
              "      <td>3182.0</td>\n",
              "      <td>5000.0</td>\n",
              "      <td>1252.0</td>\n",
              "      <td>749.0</td>\n",
              "      <td>0</td>\n",
              "    </tr>\n",
              "    <tr>\n",
              "      <th>2963</th>\n",
              "      <td>210000.0</td>\n",
              "      <td>2</td>\n",
              "      <td>1</td>\n",
              "      <td>1</td>\n",
              "      <td>38.0</td>\n",
              "      <td>0.0</td>\n",
              "      <td>0.0</td>\n",
              "      <td>-1.0</td>\n",
              "      <td>-1.0</td>\n",
              "      <td>0</td>\n",
              "      <td>...</td>\n",
              "      <td>23067.0</td>\n",
              "      <td>19972.0</td>\n",
              "      <td>45864.0</td>\n",
              "      <td>3000.0</td>\n",
              "      <td>4521.0</td>\n",
              "      <td>24000.0</td>\n",
              "      <td>10000.0</td>\n",
              "      <td>30000.0</td>\n",
              "      <td>6432.0</td>\n",
              "      <td>0</td>\n",
              "    </tr>\n",
              "    <tr>\n",
              "      <th>2964</th>\n",
              "      <td>360000.0</td>\n",
              "      <td>2</td>\n",
              "      <td>2</td>\n",
              "      <td>1</td>\n",
              "      <td>37.0</td>\n",
              "      <td>-1.0</td>\n",
              "      <td>-1.0</td>\n",
              "      <td>0.0</td>\n",
              "      <td>-1.0</td>\n",
              "      <td>-1</td>\n",
              "      <td>...</td>\n",
              "      <td>10000.0</td>\n",
              "      <td>10000.0</td>\n",
              "      <td>10000.0</td>\n",
              "      <td>17444.0</td>\n",
              "      <td>10035.0</td>\n",
              "      <td>10000.0</td>\n",
              "      <td>10000.0</td>\n",
              "      <td>10000.0</td>\n",
              "      <td>0.0</td>\n",
              "      <td>0</td>\n",
              "    </tr>\n",
              "  </tbody>\n",
              "</table>\n",
              "<p>5 rows × 24 columns</p>\n",
              "</div>\n",
              "      <button class=\"colab-df-convert\" onclick=\"convertToInteractive('df-2e06fafb-6f07-4b5a-bf18-dbd28e6502df')\"\n",
              "              title=\"Convert this dataframe to an interactive table.\"\n",
              "              style=\"display:none;\">\n",
              "        \n",
              "  <svg xmlns=\"http://www.w3.org/2000/svg\" height=\"24px\"viewBox=\"0 0 24 24\"\n",
              "       width=\"24px\">\n",
              "    <path d=\"M0 0h24v24H0V0z\" fill=\"none\"/>\n",
              "    <path d=\"M18.56 5.44l.94 2.06.94-2.06 2.06-.94-2.06-.94-.94-2.06-.94 2.06-2.06.94zm-11 1L8.5 8.5l.94-2.06 2.06-.94-2.06-.94L8.5 2.5l-.94 2.06-2.06.94zm10 10l.94 2.06.94-2.06 2.06-.94-2.06-.94-.94-2.06-.94 2.06-2.06.94z\"/><path d=\"M17.41 7.96l-1.37-1.37c-.4-.4-.92-.59-1.43-.59-.52 0-1.04.2-1.43.59L10.3 9.45l-7.72 7.72c-.78.78-.78 2.05 0 2.83L4 21.41c.39.39.9.59 1.41.59.51 0 1.02-.2 1.41-.59l7.78-7.78 2.81-2.81c.8-.78.8-2.07 0-2.86zM5.41 20L4 18.59l7.72-7.72 1.47 1.35L5.41 20z\"/>\n",
              "  </svg>\n",
              "      </button>\n",
              "      \n",
              "  <style>\n",
              "    .colab-df-container {\n",
              "      display:flex;\n",
              "      flex-wrap:wrap;\n",
              "      gap: 12px;\n",
              "    }\n",
              "\n",
              "    .colab-df-convert {\n",
              "      background-color: #E8F0FE;\n",
              "      border: none;\n",
              "      border-radius: 50%;\n",
              "      cursor: pointer;\n",
              "      display: none;\n",
              "      fill: #1967D2;\n",
              "      height: 32px;\n",
              "      padding: 0 0 0 0;\n",
              "      width: 32px;\n",
              "    }\n",
              "\n",
              "    .colab-df-convert:hover {\n",
              "      background-color: #E2EBFA;\n",
              "      box-shadow: 0px 1px 2px rgba(60, 64, 67, 0.3), 0px 1px 3px 1px rgba(60, 64, 67, 0.15);\n",
              "      fill: #174EA6;\n",
              "    }\n",
              "\n",
              "    [theme=dark] .colab-df-convert {\n",
              "      background-color: #3B4455;\n",
              "      fill: #D2E3FC;\n",
              "    }\n",
              "\n",
              "    [theme=dark] .colab-df-convert:hover {\n",
              "      background-color: #434B5C;\n",
              "      box-shadow: 0px 1px 3px 1px rgba(0, 0, 0, 0.15);\n",
              "      filter: drop-shadow(0px 1px 2px rgba(0, 0, 0, 0.3));\n",
              "      fill: #FFFFFF;\n",
              "    }\n",
              "  </style>\n",
              "\n",
              "      <script>\n",
              "        const buttonEl =\n",
              "          document.querySelector('#df-2e06fafb-6f07-4b5a-bf18-dbd28e6502df button.colab-df-convert');\n",
              "        buttonEl.style.display =\n",
              "          google.colab.kernel.accessAllowed ? 'block' : 'none';\n",
              "\n",
              "        async function convertToInteractive(key) {\n",
              "          const element = document.querySelector('#df-2e06fafb-6f07-4b5a-bf18-dbd28e6502df');\n",
              "          const dataTable =\n",
              "            await google.colab.kernel.invokeFunction('convertToInteractive',\n",
              "                                                     [key], {});\n",
              "          if (!dataTable) return;\n",
              "\n",
              "          const docLinkHtml = 'Like what you see? Visit the ' +\n",
              "            '<a target=\"_blank\" href=https://colab.research.google.com/notebooks/data_table.ipynb>data table notebook</a>'\n",
              "            + ' to learn more about interactive tables.';\n",
              "          element.innerHTML = '';\n",
              "          dataTable['output_type'] = 'display_data';\n",
              "          await google.colab.output.renderOutput(dataTable, element);\n",
              "          const docLink = document.createElement('div');\n",
              "          docLink.innerHTML = docLinkHtml;\n",
              "          element.appendChild(docLink);\n",
              "        }\n",
              "      </script>\n",
              "    </div>\n",
              "  </div>\n",
              "  "
            ]
          },
          "metadata": {},
          "execution_count": 7
        }
      ],
      "source": [
        "df.tail()"
      ]
    },
    {
      "cell_type": "code",
      "execution_count": 8,
      "metadata": {
        "colab": {
          "base_uri": "https://localhost:8080/"
        },
        "id": "7n18j0Qx67C9",
        "outputId": "da3ae327-75bb-443a-9288-66c3a32f4949"
      },
      "outputs": [
        {
          "output_type": "execute_result",
          "data": {
            "text/plain": [
              "(2965, 24)"
            ]
          },
          "metadata": {},
          "execution_count": 8
        }
      ],
      "source": [
        "df.shape"
      ]
    },
    {
      "cell_type": "code",
      "execution_count": 9,
      "metadata": {
        "colab": {
          "base_uri": "https://localhost:8080/"
        },
        "id": "CKuXjBUL68Tc",
        "outputId": "c1114cc7-83ae-49f9-bc06-13b2ae1ba9e7"
      },
      "outputs": [
        {
          "output_type": "execute_result",
          "data": {
            "text/plain": [
              "limit_balance                 0\n",
              "sex                           0\n",
              "education_level               0\n",
              "marital_status                0\n",
              "age                           0\n",
              "pay_0                         0\n",
              "pay_2                         0\n",
              "pay_3                         0\n",
              "pay_4                         0\n",
              "pay_5                         0\n",
              "pay_6                         0\n",
              "bill_amt_1                    0\n",
              "bill_amt_2                    0\n",
              "bill_amt_3                    0\n",
              "bill_amt_4                    0\n",
              "bill_amt_5                    0\n",
              "bill_amt_6                    0\n",
              "pay_amt_1                     0\n",
              "pay_amt_2                     0\n",
              "pay_amt_3                     0\n",
              "pay_amt_4                     0\n",
              "pay_amt_5                     0\n",
              "pay_amt_6                     0\n",
              "default_payment_next_month    0\n",
              "dtype: int64"
            ]
          },
          "metadata": {},
          "execution_count": 9
        }
      ],
      "source": [
        "df.isnull().sum()"
      ]
    },
    {
      "cell_type": "code",
      "execution_count": 10,
      "metadata": {
        "colab": {
          "base_uri": "https://localhost:8080/"
        },
        "id": "aBMi9G3L7Asl",
        "outputId": "02e4cc1f-4334-47e4-dc36-b8c08cc752ca"
      },
      "outputs": [
        {
          "output_type": "execute_result",
          "data": {
            "text/plain": [
              "(1, 24)"
            ]
          },
          "metadata": {},
          "execution_count": 10
        }
      ],
      "source": [
        "df[df.duplicated()].shape"
      ]
    },
    {
      "cell_type": "markdown",
      "source": [
        "Setelah dilakukan sedikit overview terhadap dataset yang ada, dapat dilihat bahwa dataset tidak memiliki missing values dan hanya memiliki satu duplikasi data. Pembersihan duplikasi data dan pembersihan lebih lanjut akan dilakukan pada Data Cleaning Section\n",
        "\n",
        "-------------------------------------------------------------------------------"
      ],
      "metadata": {
        "id": "QtpRM0vHiJZ_"
      }
    },
    {
      "cell_type": "markdown",
      "metadata": {
        "id": "lni7jpMLDjJ_"
      },
      "source": [
        "## Data Cleaning\n"
      ]
    },
    {
      "cell_type": "markdown",
      "source": [
        "Membuat Copy data baru agar tidak mengganggu dataframe yang asli"
      ],
      "metadata": {
        "id": "ScolFq3AjAhv"
      }
    },
    {
      "cell_type": "code",
      "execution_count": 11,
      "metadata": {
        "id": "4A5ZBiZyEbTG"
      },
      "outputs": [],
      "source": [
        "df_clean = df.copy()"
      ]
    },
    {
      "cell_type": "markdown",
      "source": [
        "Melihat unique value yang ada di kolom dataset"
      ],
      "metadata": {
        "id": "RIrrPwn1jIuC"
      }
    },
    {
      "cell_type": "code",
      "execution_count": 12,
      "metadata": {
        "colab": {
          "base_uri": "https://localhost:8080/"
        },
        "id": "BoPMEOQu7Noi",
        "outputId": "a31a0c77-32e4-4a67-f182-99655e83a748"
      },
      "outputs": [
        {
          "output_type": "stream",
          "name": "stdout",
          "text": [
            "Value In limit_balance:  [130000. 230000.  50000. 200000. 500000. 100000. 140000. 460000.  20000.\n",
            "  80000. 780000. 220000. 210000. 420000. 150000. 170000. 180000.  70000.\n",
            " 320000. 110000. 410000. 190000. 260000. 300000. 290000. 380000. 240000.\n",
            " 280000. 340000. 160000. 360000. 390000. 350000.  90000. 310000. 480000.\n",
            "  30000.  60000. 400000. 800000.  10000. 120000. 470000. 250000. 370000.\n",
            " 490000. 430000. 330000.  40000. 530000. 510000. 270000. 440000. 700000.\n",
            " 750000. 560000. 450000. 680000. 620000.] \n",
            " Total Value: 59\n",
            "----------------------------------------------------------------------------------------------------\n",
            "Value In sex:  [1 2] \n",
            " Total Value: 2\n",
            "----------------------------------------------------------------------------------------------------\n",
            "Value In education_level:  [1 2 5 3 6 4 0] \n",
            " Total Value: 7\n",
            "----------------------------------------------------------------------------------------------------\n",
            "Value In marital_status:  [1 2 3 0] \n",
            " Total Value: 4\n",
            "----------------------------------------------------------------------------------------------------\n",
            "Value In age:  [45. 41. 42. 58. 39. 48. 40. 29. 43. 49. 31. 38. 66. 34. 47. 37. 61. 35.\n",
            " 55. 46. 25. 30. 56. 36. 52. 53. 51. 50. 33. 65. 54. 44. 32. 28. 63. 27.\n",
            " 26. 60. 24. 62. 22. 23. 21. 57. 69. 64. 67. 59. 68.] \n",
            " Total Value: 49\n",
            "----------------------------------------------------------------------------------------------------\n",
            "Value In pay_0:  [ 0.  2. -1.  1. -2.  3.  4.  5.  6.  7.  8.] \n",
            " Total Value: 11\n",
            "----------------------------------------------------------------------------------------------------\n",
            "Value In pay_2:  [ 0.  2. -2. -1.  3.  1.  4.  5.  6.  7.] \n",
            " Total Value: 10\n",
            "----------------------------------------------------------------------------------------------------\n",
            "Value In pay_3:  [ 0.  2. -1.  3. -2.  4.  5.  6.  7.] \n",
            " Total Value: 9\n",
            "----------------------------------------------------------------------------------------------------\n",
            "Value In pay_4:  [ 0.  2. -2.  3.  4.  5.  6.  7.  8. -1.] \n",
            " Total Value: 10\n",
            "----------------------------------------------------------------------------------------------------\n",
            "Value In pay_5:  [ 0  2 -1 -2  3  4  5  6  7] \n",
            " Total Value: 9\n",
            "----------------------------------------------------------------------------------------------------\n",
            "Value In pay_6:  [ 0  2 -1 -2  3  4  6  7] \n",
            " Total Value: 8\n",
            "----------------------------------------------------------------------------------------------------\n",
            "Value In bill_amt_1:  [ 58180. 301038.  35892. ...   1362.   9441.   8420.] \n",
            " Total Value: 2643\n",
            "----------------------------------------------------------------------------------------------------\n",
            "Value In bill_amt_2:  [ 59134. 305327.  32546. ...   5714.   8106.  17444.] \n",
            " Total Value: 2592\n",
            "----------------------------------------------------------------------------------------------------\n",
            "Value In bill_amt_3:  [ 61156. 213058.  30660. ...   5030.   4168.  17165.] \n",
            " Total Value: 2549\n",
            "----------------------------------------------------------------------------------------------------\n",
            "Value In bill_amt_4:  [ 62377. 216260.  31320. ...  36986.   3181.  23067.] \n",
            " Total Value: 2504\n",
            "----------------------------------------------------------------------------------------------------\n",
            "Value In bill_amt_5:  [ 63832. 215968.  36227. ...  40053.   4998.  19972.] \n",
            " Total Value: 2482\n",
            "----------------------------------------------------------------------------------------------------\n",
            "Value In bill_amt_6:  [ 65099. 174195.  35569. ...  41196.   1250.  45864.] \n",
            " Total Value: 2461\n",
            "----------------------------------------------------------------------------------------------------\n",
            "Value In pay_amt_1:  [ 2886.  9405.  2007. ...  1352.  5726. 17444.] \n",
            " Total Value: 1415\n",
            "----------------------------------------------------------------------------------------------------\n",
            "Value In pay_amt_2:  [ 2908.  7769.  2000. ...  5037.  4521. 10035.] \n",
            " Total Value: 1372\n",
            "----------------------------------------------------------------------------------------------------\n",
            "Value In pay_amt_3:  [ 2129.  7757.  1500. ... 12880. 36986.  3182.] \n",
            " Total Value: 1302\n",
            "----------------------------------------------------------------------------------------------------\n",
            "Value In pay_amt_4:  [2354. 8030. 5400. ...  466. 1453.  480.] \n",
            " Total Value: 1214\n",
            "----------------------------------------------------------------------------------------------------\n",
            "Value In pay_amt_5:  [2366. 6549.    0. ... 1508. 1320. 1252.] \n",
            " Total Value: 1194\n",
            "----------------------------------------------------------------------------------------------------\n",
            "Value In pay_amt_6:  [ 2291.  5226.  3000. ... 23000.   749.  6432.] \n",
            " Total Value: 1189\n",
            "----------------------------------------------------------------------------------------------------\n",
            "Value In default_payment_next_month:  [0 1] \n",
            " Total Value: 2\n",
            "----------------------------------------------------------------------------------------------------\n"
          ]
        }
      ],
      "source": [
        "for x in df:\n",
        "    print(f'Value In {x}: ', df[x].unique(), '\\n', 'Total Value:', len(df[x].unique()))\n",
        "    print('-'*100)"
      ]
    },
    {
      "cell_type": "markdown",
      "metadata": {
        "id": "aDMZbGAqALOj"
      },
      "source": [
        "Berikut adalah penjelasan maksud dari kolom yang ada di dataset berdasarkan Google Big Cloud: \n",
        "- limit_balance= Amount of given credit in NT dollars (includes individual and family/supplementary credit\t\n",
        "- sex= Gender (1=male, 2=female)\t\n",
        "- education_level= Education Level (1=graduate school, 2=university, 3=high school, 4=others, 5=unknown, 6=unknown)\t\n",
        "- marital_status= Marital status (1=married, 2=single, 3=others)\t\n",
        "- Age= age in years\t\n",
        "- pay_0= Repayment status in September, 2005 (-1=pay duly, 1=payment delay for one month, etc)\t\n",
        "- pay_2= Repayment status in August, 2005 \t\n",
        "- pay_3= Repayment status in July, 2005 \t\n",
        "- pay_4= Repayment status in June, 2005 \n",
        "- pay_5= Repayment status in May, 2005 \t\n",
        "- pay_6= Repayment status in April, 2005 \t\n",
        "- bill_amt_1= Amount of bill statement in September, 2005 \t\n",
        "- bill_amt_2= Amount of bill statement in August, 2005 \t\n",
        "- bill_amt_3= Amount of bill statement in July, 2005 \t\n",
        "- bill_amt_4= Amount of bill statement in June, 2005 \t\n",
        "- bill_amt_5= Amount of bill statement in May, 2005 \t\n",
        "- bill_amt_6= Amount of bill statement in April, 2005 \t\n",
        "- pay_amt_1= Amount of previous payment in September, 2005 \t\n",
        "- pay_amt_2= Amount of previous payment in August, 2005 \t\n",
        "- pay_amt_3= Amount of previous payment in July, 2005 \t\n",
        "- pay_amt_4= Amount of previous payment in June, 2005 \t\n",
        "- pay_amt_5= Amount of previous payment in May, 2005 \t\n",
        "- pay_amt_6= Amount of previous payment in April, 2005 \t\n",
        "- default_payment_next_month= Default payment (1=yes, 0=no)"
      ]
    },
    {
      "cell_type": "markdown",
      "source": [
        "Menghapus duplikasi data"
      ],
      "metadata": {
        "id": "UQ3PmtPijbVL"
      }
    },
    {
      "cell_type": "code",
      "execution_count": 13,
      "metadata": {
        "colab": {
          "base_uri": "https://localhost:8080/"
        },
        "id": "sWzj06SfEZQO",
        "outputId": "0cdb143d-1dd8-45e2-e1af-812fe77fa38f"
      },
      "outputs": [
        {
          "output_type": "execute_result",
          "data": {
            "text/plain": [
              "(0, 24)"
            ]
          },
          "metadata": {},
          "execution_count": 13
        }
      ],
      "source": [
        "df_clean.drop_duplicates(inplace=True)\n",
        "\n",
        "# shape of dataframe after remove duplicates\n",
        "df_clean[df_clean.duplicated()].shape"
      ]
    },
    {
      "cell_type": "markdown",
      "source": [
        "Setelah dilakukan penghapusan duplikasi data, saya melihat ada perbedaan antara deskripsi pada kolom marital_status ((1=married, 2=single, 3=others) namun ada value '0' pada marital_status yang tidak mempunyai arti. Selain itu, pada kolom education_level juga terdapat keanehan dimana deskripsi 5=unknown memiliki makna yang sama dengan 6=unknown dan kedua value tersebut tidak menurut saya bersifat ambigu. Berdasarkan analisa yang sudah dituliskan, saya akan melakukan grouping terhadap value tersebut"
      ],
      "metadata": {
        "id": "YS7TEkMDjhWz"
      }
    },
    {
      "cell_type": "markdown",
      "metadata": {
        "id": "RCMQvaEGFYIm"
      },
      "source": [
        "### FE: education_level"
      ]
    },
    {
      "cell_type": "markdown",
      "source": [
        "Melakukan Grouping pada kolom education_level"
      ],
      "metadata": {
        "id": "ZqK5Z8ZBKwmw"
      }
    },
    {
      "cell_type": "code",
      "execution_count": 14,
      "metadata": {
        "id": "uDkI5ZyEEwn9"
      },
      "outputs": [],
      "source": [
        "df_clean['education_level']=np.where(df_clean['education_level'] == 5, 4, df_clean['education_level'])\n",
        "df_clean['education_level']=np.where(df_clean['education_level'] == 6, 4, df_clean['education_level'])\n",
        "df_clean['education_level']=np.where(df_clean['education_level'] == 0, 4, df_clean['education_level'])"
      ]
    },
    {
      "cell_type": "code",
      "execution_count": 15,
      "metadata": {
        "colab": {
          "base_uri": "https://localhost:8080/"
        },
        "id": "qgiFmoNPFMxD",
        "outputId": "69311e3c-aefb-4378-b2db-2045a29f0139"
      },
      "outputs": [
        {
          "output_type": "execute_result",
          "data": {
            "text/plain": [
              "0       2\n",
              "6       4\n",
              "4      13\n",
              "5      24\n",
              "3     483\n",
              "1    1039\n",
              "2    1400\n",
              "Name: education_level, dtype: int64"
            ]
          },
          "metadata": {},
          "execution_count": 15
        }
      ],
      "source": [
        "df['education_level'].value_counts().sort_values()"
      ]
    },
    {
      "cell_type": "code",
      "execution_count": 16,
      "metadata": {
        "colab": {
          "base_uri": "https://localhost:8080/"
        },
        "id": "3S1F9yJXE86H",
        "outputId": "4230d21a-f711-449d-ec0b-ac2ed92e16b2"
      },
      "outputs": [
        {
          "output_type": "execute_result",
          "data": {
            "text/plain": [
              "4      43\n",
              "3     483\n",
              "1    1038\n",
              "2    1400\n",
              "Name: education_level, dtype: int64"
            ]
          },
          "metadata": {},
          "execution_count": 16
        }
      ],
      "source": [
        "df_clean['education_level'].value_counts().sort_values()"
      ]
    },
    {
      "cell_type": "markdown",
      "source": [
        "Value '5' dan '6' digabungkan ke value '4' yang memiliki arti sebagai 'Others' "
      ],
      "metadata": {
        "id": "gBjCRGW3K6yK"
      }
    },
    {
      "cell_type": "markdown",
      "metadata": {
        "id": "HJ8N2gvxFdaA"
      },
      "source": [
        "### FE: marital_status"
      ]
    },
    {
      "cell_type": "code",
      "execution_count": 17,
      "metadata": {
        "id": "eK4rEyUlFC4h"
      },
      "outputs": [],
      "source": [
        "df_clean['marital_status']=np.where(df_clean['marital_status'] == 0, 3, df_clean['marital_status'])"
      ]
    },
    {
      "cell_type": "code",
      "execution_count": 18,
      "metadata": {
        "colab": {
          "base_uri": "https://localhost:8080/"
        },
        "id": "xPc_hBoFF0Ne",
        "outputId": "453a2eba-69a3-43a0-ae01-063468a674f1"
      },
      "outputs": [
        {
          "output_type": "execute_result",
          "data": {
            "text/plain": [
              "0       4\n",
              "3      35\n",
              "1    1332\n",
              "2    1594\n",
              "Name: marital_status, dtype: int64"
            ]
          },
          "metadata": {},
          "execution_count": 18
        }
      ],
      "source": [
        "df['marital_status'].value_counts().sort_values()"
      ]
    },
    {
      "cell_type": "code",
      "execution_count": 19,
      "metadata": {
        "colab": {
          "base_uri": "https://localhost:8080/"
        },
        "id": "P6rT2S8TFxCu",
        "outputId": "dfa3a563-acad-4756-cfab-8e4d68d376a1"
      },
      "outputs": [
        {
          "output_type": "execute_result",
          "data": {
            "text/plain": [
              "3      39\n",
              "1    1331\n",
              "2    1594\n",
              "Name: marital_status, dtype: int64"
            ]
          },
          "metadata": {},
          "execution_count": 19
        }
      ],
      "source": [
        "df_clean['marital_status'].value_counts().sort_values()"
      ]
    },
    {
      "cell_type": "markdown",
      "source": [
        "Value '0' digabungkan ke value '3' yang memiliki arti sebagai 'Others' "
      ],
      "metadata": {
        "id": "BoUOf_XNLLwh"
      }
    },
    {
      "cell_type": "markdown",
      "source": [
        "--------------------------------------------------------------------------------"
      ],
      "metadata": {
        "id": "kw9kZNzmVdLC"
      }
    },
    {
      "cell_type": "markdown",
      "source": [
        "Melihat total jumlah baris dan kolom pada data yang sudah dibersihkan"
      ],
      "metadata": {
        "id": "hS_HrfBMLJuo"
      }
    },
    {
      "cell_type": "code",
      "execution_count": 20,
      "metadata": {
        "colab": {
          "base_uri": "https://localhost:8080/"
        },
        "id": "pwXadt9FGAGn",
        "outputId": "4bd12217-d507-4a48-99be-4736ae092e8d"
      },
      "outputs": [
        {
          "output_type": "execute_result",
          "data": {
            "text/plain": [
              "(2964, 24)"
            ]
          },
          "metadata": {},
          "execution_count": 20
        }
      ],
      "source": [
        "df_clean.shape"
      ]
    },
    {
      "cell_type": "markdown",
      "metadata": {
        "id": "2_jOuhAW6TiM"
      },
      "source": [
        "## Exploratory Data Analysis"
      ]
    },
    {
      "cell_type": "code",
      "execution_count": 21,
      "metadata": {
        "colab": {
          "base_uri": "https://localhost:8080/",
          "height": 0
        },
        "id": "Mf94z5WsDztC",
        "outputId": "5f6f2d64-33f3-42a2-fbe2-b02c696de46f"
      },
      "outputs": [
        {
          "output_type": "stream",
          "name": "stdout",
          "text": [
            "0    2330\n",
            "1     635\n",
            "Name: default_payment_next_month, dtype: int64\n",
            "--------------------------------------------------------------------------------\n"
          ]
        },
        {
          "output_type": "execute_result",
          "data": {
            "text/plain": [
              "<matplotlib.axes._subplots.AxesSubplot at 0x7fc3d2400c50>"
            ]
          },
          "metadata": {},
          "execution_count": 21
        },
        {
          "output_type": "display_data",
          "data": {
            "text/plain": [
              "<Figure size 432x288 with 1 Axes>"
            ],
            "image/png": "[encoded data removed]"
          },
          "metadata": {}
        }
      ],
      "source": [
        "print(df['default_payment_next_month'].value_counts())\n",
        "print('-'*80)\n",
        "df['default_payment_next_month'].value_counts().plot(kind='pie')\n"
      ]
    },
    {
      "cell_type": "markdown",
      "source": [
        "Dapat dilihat bahwa pada kolom 'default_payment_next_month' yang merupakan target, jumlah data antara '0' dan '1' tidak seimbang atau bisa disebut data imbalance. Data imbalance dapat mempengaruhi performa model yang akan dibuat nantinya.\n",
        "\n",
        "definisi dari kelas target:\n",
        "- 0 = nasabah yang melakukan pembayaran tepat waktu\n",
        "- 1 = nasabah yang melakukan pembayaran telat atau belum lunas"
      ],
      "metadata": {
        "id": "KccMWNReMJfa"
      }
    },
    {
      "cell_type": "markdown",
      "metadata": {
        "id": "PtYV6e2QI4lJ"
      },
      "source": [
        "### Categorical Columns that already being encoded"
      ]
    },
    {
      "cell_type": "code",
      "execution_count": 22,
      "metadata": {
        "colab": {
          "base_uri": "https://localhost:8080/",
          "height": 0
        },
        "id": "QA6w4G0mGx4z",
        "outputId": "c87e61c1-2a8d-4413-ba33-801b87545d51"
      },
      "outputs": [
        {
          "output_type": "display_data",
          "data": {
            "text/plain": [
              "<Figure size 1152x576 with 1 Axes>"
            ],
            "image/png": "[encoded data removed]"
          },
          "metadata": {
            "needs_background": "light"
          }
        },
        {
          "output_type": "display_data",
          "data": {
            "text/plain": [
              "<Figure size 1152x576 with 1 Axes>"
            ],
            "image/png": "[encoded data removed]"
          },
          "metadata": {
            "needs_background": "light"
          }
        },
        {
          "output_type": "display_data",
          "data": {
            "text/plain": [
              "<Figure size 1152x576 with 1 Axes>"
            ],
            "image/png": "[encoded data removed]"
          },
          "metadata": {
            "needs_background": "light"
          }
        },
        {
          "output_type": "display_data",
          "data": {
            "text/plain": [
              "<Figure size 1152x576 with 1 Axes>"
            ],
            "image/png": "[encoded data removed]"
          },
          "metadata": {
            "needs_background": "light"
          }
        },
        {
          "output_type": "display_data",
          "data": {
            "text/plain": [
              "<Figure size 1152x576 with 1 Axes>"
            ],
            "image/png": "[encoded data removed]"
          },
          "metadata": {
            "needs_background": "light"
          }
        },
        {
          "output_type": "display_data",
          "data": {
            "text/plain": [
              "<Figure size 1152x576 with 1 Axes>"
            ],
            "image/png": "[encoded data removed]"
          },
          "metadata": {
            "needs_background": "light"
          }
        },
        {
          "output_type": "display_data",
          "data": {
            "text/plain": [
              "<Figure size 1152x576 with 1 Axes>"
            ],
            "image/png": "[encoded data removed]"
          },
          "metadata": {
            "needs_background": "light"
          }
        },
        {
          "output_type": "display_data",
          "data": {
            "text/plain": [
              "<Figure size 1152x576 with 1 Axes>"
            ],
            "image/png": "[encoded data removed]"
          },
          "metadata": {
            "needs_background": "light"
          }
        },
        {
          "output_type": "display_data",
          "data": {
            "text/plain": [
              "<Figure size 1152x576 with 1 Axes>"
            ],
            "image/png": "[encoded data removed]"
          },
          "metadata": {
            "needs_background": "light"
          }
        },
        {
          "output_type": "display_data",
          "data": {
            "text/plain": [
              "<Figure size 1152x576 with 1 Axes>"
            ],
            "image/png": "[encoded data removed]"
          },
          "metadata": {
            "needs_background": "light"
          }
        }
      ],
      "source": [
        "catencoded = df_clean[['sex', 'education_level', 'marital_status', 'pay_0', 'pay_2', 'pay_3', 'pay_4', \n",
        "               'pay_5', 'pay_6', 'default_payment_next_month']]\n",
        "for col in catencoded:\n",
        "    plt.figure(figsize=(16,8))\n",
        "    sns.countplot(x=col,data=catencoded, palette=\"ocean_r\", hue='default_payment_next_month')\n",
        "    plt.show()"
      ]
    },
    {
      "cell_type": "markdown",
      "source": [
        "Jika dilihat dari plot, berikut adalah beberapa insight yang saya hasil EDA:\n",
        "1. dilihat dari jenis kelamin para nasabah, perempuan lebih banyak melakukan pinjaman daripada laki-laki, dan baik laki-laki maupun perempuan lebih banyak yang melakukan pembayaran tepat waktu daripada yang tidak\n",
        "2. dilihat dari tingkat edukasi para nasabah, nasabah yang paling banyak melakukan pinjaman adalah nasabah yang tingkat edukasinya adalah 'University'\n",
        "3. dilihat dari tingkat Status para nasabah, nasabah yang paling banyak melakukan pinjaman adalah nasabah yang belum menikah \n",
        "4. Dilihat dari Repayment status selama April sampai September (pay_0,pay_2,pay_3,pay_4,pay_5,pay_6), value yang paling banyak dari keenam kolom tersebut adalah '0' yang artinya nasabah lebih banyak melakukan pembayaran tepat waktu daripada tidak"
      ],
      "metadata": {
        "id": "8rYmt5NDgAHE"
      }
    },
    {
      "cell_type": "markdown",
      "source": [
        "#### Feature Selection (Categorical Columns)"
      ],
      "metadata": {
        "id": "qqFydlxg2RPW"
      }
    },
    {
      "cell_type": "markdown",
      "source": [
        "##### Heatmap Correlation"
      ],
      "metadata": {
        "id": "9z25kAq32ipD"
      }
    },
    {
      "cell_type": "code",
      "execution_count": 23,
      "metadata": {
        "colab": {
          "base_uri": "https://localhost:8080/",
          "height": 0
        },
        "id": "VAnbZ2hsIbXM",
        "outputId": "8ec02703-3be3-4194-c66b-28290d619f7a"
      },
      "outputs": [
        {
          "output_type": "display_data",
          "data": {
            "text/plain": [
              "<Figure size 2160x1080 with 2 Axes>"
            ],
            "image/png": "[encoded data removed]"
          },
          "metadata": {
            "needs_background": "light"
          }
        }
      ],
      "source": [
        "corr = catencoded.corr()\n",
        "\n",
        "plt.figure(figsize=(30, 15))\n",
        "sns.heatmap(corr, annot= True, vmin=0, vmax=1)\n",
        "plt.show()"
      ]
    },
    {
      "cell_type": "markdown",
      "source": [
        "dilihat dari Heatmap Correlation, jika threshold yang saya pakai adalah 0.2, maka korelasi feature dengan target yang akan dipilih adalah pay_0, pay_2, pay_3, pay_4, pay_5, pay_6 karena memiliki nilai diatas 0.2 yang artinya kolom tersebut cukup berpengaruh terhadap 'default_payment_next_month' yang merupakan target\n"
      ],
      "metadata": {
        "id": "D9aAr6uU2zc4"
      }
    },
    {
      "cell_type": "markdown",
      "source": [
        "--------------------------------------------------------------------------------"
      ],
      "metadata": {
        "id": "BL7g0oDW4IxQ"
      }
    },
    {
      "cell_type": "markdown",
      "source": [
        "membuat dataframe baru berisi feature yang dipilih"
      ],
      "metadata": {
        "id": "jPja4rEW4AG3"
      }
    },
    {
      "cell_type": "code",
      "execution_count": 24,
      "metadata": {
        "id": "QDkuKQRQJB8T"
      },
      "outputs": [],
      "source": [
        "df_cat = df_clean[['pay_0', 'pay_2',\n",
        " 'pay_3',\n",
        " 'pay_4',\n",
        " 'pay_5',\n",
        " 'pay_6','default_payment_next_month']]"
      ]
    },
    {
      "cell_type": "code",
      "execution_count": 25,
      "metadata": {
        "colab": {
          "base_uri": "https://localhost:8080/",
          "height": 0
        },
        "id": "HNcH3dIRJchn",
        "outputId": "62b045e0-df4e-405c-9d1d-e041b17dae60"
      },
      "outputs": [
        {
          "output_type": "execute_result",
          "data": {
            "text/plain": [
              "      pay_0  pay_2  pay_3  pay_4  pay_5  pay_6  default_payment_next_month\n",
              "2960   -1.0   -1.0   -1.0   -1.0     -2     -1                           0\n",
              "2961   -1.0   -1.0   -1.0   -1.0      0      0                           0\n",
              "2962   -1.0   -1.0   -1.0   -1.0     -1     -1                           0\n",
              "2963    0.0    0.0   -1.0   -1.0      0      0                           0\n",
              "2964   -1.0   -1.0    0.0   -1.0     -1     -1                           0"
            ],
            "text/html": [
              "\n",
              "  <div id=\"df-8888c561-a12d-4bae-bbde-e4e63b2cd7ee\">\n",
              "    <div class=\"colab-df-container\">\n",
              "      <div>\n",
              "<style scoped>\n",
              "    .dataframe tbody tr th:only-of-type {\n",
              "        vertical-align: middle;\n",
              "    }\n",
              "\n",
              "    .dataframe tbody tr th {\n",
              "        vertical-align: top;\n",
              "    }\n",
              "\n",
              "    .dataframe thead th {\n",
              "        text-align: right;\n",
              "    }\n",
              "</style>\n",
              "<table border=\"1\" class=\"dataframe\">\n",
              "  <thead>\n",
              "    <tr style=\"text-align: right;\">\n",
              "      <th></th>\n",
              "      <th>pay_0</th>\n",
              "      <th>pay_2</th>\n",
              "      <th>pay_3</th>\n",
              "      <th>pay_4</th>\n",
              "      <th>pay_5</th>\n",
              "      <th>pay_6</th>\n",
              "      <th>default_payment_next_month</th>\n",
              "    </tr>\n",
              "  </thead>\n",
              "  <tbody>\n",
              "    <tr>\n",
              "      <th>2960</th>\n",
              "      <td>-1.0</td>\n",
              "      <td>-1.0</td>\n",
              "      <td>-1.0</td>\n",
              "      <td>-1.0</td>\n",
              "      <td>-2</td>\n",
              "      <td>-1</td>\n",
              "      <td>0</td>\n",
              "    </tr>\n",
              "    <tr>\n",
              "      <th>2961</th>\n",
              "      <td>-1.0</td>\n",
              "      <td>-1.0</td>\n",
              "      <td>-1.0</td>\n",
              "      <td>-1.0</td>\n",
              "      <td>0</td>\n",
              "      <td>0</td>\n",
              "      <td>0</td>\n",
              "    </tr>\n",
              "    <tr>\n",
              "      <th>2962</th>\n",
              "      <td>-1.0</td>\n",
              "      <td>-1.0</td>\n",
              "      <td>-1.0</td>\n",
              "      <td>-1.0</td>\n",
              "      <td>-1</td>\n",
              "      <td>-1</td>\n",
              "      <td>0</td>\n",
              "    </tr>\n",
              "    <tr>\n",
              "      <th>2963</th>\n",
              "      <td>0.0</td>\n",
              "      <td>0.0</td>\n",
              "      <td>-1.0</td>\n",
              "      <td>-1.0</td>\n",
              "      <td>0</td>\n",
              "      <td>0</td>\n",
              "      <td>0</td>\n",
              "    </tr>\n",
              "    <tr>\n",
              "      <th>2964</th>\n",
              "      <td>-1.0</td>\n",
              "      <td>-1.0</td>\n",
              "      <td>0.0</td>\n",
              "      <td>-1.0</td>\n",
              "      <td>-1</td>\n",
              "      <td>-1</td>\n",
              "      <td>0</td>\n",
              "    </tr>\n",
              "  </tbody>\n",
              "</table>\n",
              "</div>\n",
              "      <button class=\"colab-df-convert\" onclick=\"convertToInteractive('df-8888c561-a12d-4bae-bbde-e4e63b2cd7ee')\"\n",
              "              title=\"Convert this dataframe to an interactive table.\"\n",
              "              style=\"display:none;\">\n",
              "        \n",
              "  <svg xmlns=\"http://www.w3.org/2000/svg\" height=\"24px\"viewBox=\"0 0 24 24\"\n",
              "       width=\"24px\">\n",
              "    <path d=\"M0 0h24v24H0V0z\" fill=\"none\"/>\n",
              "    <path d=\"M18.56 5.44l.94 2.06.94-2.06 2.06-.94-2.06-.94-.94-2.06-.94 2.06-2.06.94zm-11 1L8.5 8.5l.94-2.06 2.06-.94-2.06-.94L8.5 2.5l-.94 2.06-2.06.94zm10 10l.94 2.06.94-2.06 2.06-.94-2.06-.94-.94-2.06-.94 2.06-2.06.94z\"/><path d=\"M17.41 7.96l-1.37-1.37c-.4-.4-.92-.59-1.43-.59-.52 0-1.04.2-1.43.59L10.3 9.45l-7.72 7.72c-.78.78-.78 2.05 0 2.83L4 21.41c.39.39.9.59 1.41.59.51 0 1.02-.2 1.41-.59l7.78-7.78 2.81-2.81c.8-.78.8-2.07 0-2.86zM5.41 20L4 18.59l7.72-7.72 1.47 1.35L5.41 20z\"/>\n",
              "  </svg>\n",
              "      </button>\n",
              "      \n",
              "  <style>\n",
              "    .colab-df-container {\n",
              "      display:flex;\n",
              "      flex-wrap:wrap;\n",
              "      gap: 12px;\n",
              "    }\n",
              "\n",
              "    .colab-df-convert {\n",
              "      background-color: #E8F0FE;\n",
              "      border: none;\n",
              "      border-radius: 50%;\n",
              "      cursor: pointer;\n",
              "      display: none;\n",
              "      fill: #1967D2;\n",
              "      height: 32px;\n",
              "      padding: 0 0 0 0;\n",
              "      width: 32px;\n",
              "    }\n",
              "\n",
              "    .colab-df-convert:hover {\n",
              "      background-color: #E2EBFA;\n",
              "      box-shadow: 0px 1px 2px rgba(60, 64, 67, 0.3), 0px 1px 3px 1px rgba(60, 64, 67, 0.15);\n",
              "      fill: #174EA6;\n",
              "    }\n",
              "\n",
              "    [theme=dark] .colab-df-convert {\n",
              "      background-color: #3B4455;\n",
              "      fill: #D2E3FC;\n",
              "    }\n",
              "\n",
              "    [theme=dark] .colab-df-convert:hover {\n",
              "      background-color: #434B5C;\n",
              "      box-shadow: 0px 1px 3px 1px rgba(0, 0, 0, 0.15);\n",
              "      filter: drop-shadow(0px 1px 2px rgba(0, 0, 0, 0.3));\n",
              "      fill: #FFFFFF;\n",
              "    }\n",
              "  </style>\n",
              "\n",
              "      <script>\n",
              "        const buttonEl =\n",
              "          document.querySelector('#df-8888c561-a12d-4bae-bbde-e4e63b2cd7ee button.colab-df-convert');\n",
              "        buttonEl.style.display =\n",
              "          google.colab.kernel.accessAllowed ? 'block' : 'none';\n",
              "\n",
              "        async function convertToInteractive(key) {\n",
              "          const element = document.querySelector('#df-8888c561-a12d-4bae-bbde-e4e63b2cd7ee');\n",
              "          const dataTable =\n",
              "            await google.colab.kernel.invokeFunction('convertToInteractive',\n",
              "                                                     [key], {});\n",
              "          if (!dataTable) return;\n",
              "\n",
              "          const docLinkHtml = 'Like what you see? Visit the ' +\n",
              "            '<a target=\"_blank\" href=https://colab.research.google.com/notebooks/data_table.ipynb>data table notebook</a>'\n",
              "            + ' to learn more about interactive tables.';\n",
              "          element.innerHTML = '';\n",
              "          dataTable['output_type'] = 'display_data';\n",
              "          await google.colab.output.renderOutput(dataTable, element);\n",
              "          const docLink = document.createElement('div');\n",
              "          docLink.innerHTML = docLinkHtml;\n",
              "          element.appendChild(docLink);\n",
              "        }\n",
              "      </script>\n",
              "    </div>\n",
              "  </div>\n",
              "  "
            ]
          },
          "metadata": {},
          "execution_count": 25
        }
      ],
      "source": [
        "df_cat.tail()"
      ]
    },
    {
      "cell_type": "markdown",
      "source": [
        "##### VIF Test"
      ],
      "metadata": {
        "id": "d1X3LSlU8PMx"
      }
    },
    {
      "cell_type": "markdown",
      "source": [
        "VIF test dilakukan untuk mengetahui apakah kolom tersebut saling bergantung satu sama lain. Pada kasus ini, kolom 'pay' merupakan repayment status sehingga saya akan melihat apakah kolom-kolom 'pay' pada dataset kali ini saling bergantung atau tidak"
      ],
      "metadata": {
        "id": "y--WxW4E4c2k"
      }
    },
    {
      "cell_type": "code",
      "source": [
        "#Grouping numerical features\n",
        "vif_nums = ['pay_0','pay_2','pay_3','pay_4','pay_5','pay_6']\n",
        "#finding correlation between features\n",
        "def calc_vif(vif_cap):\n",
        "\n",
        "    X = df_cat[vif_cap]\n",
        "    \n",
        "    # Calculating VIF\n",
        "    vif = pd.DataFrame()\n",
        "    vif['Variable'] = X.columns\n",
        "    vif['VIF'] = [variance_inflation_factor(X.values, i) for i in range(X.shape[1])]\n",
        "\n",
        "    return(vif)\n",
        "\n",
        "# compute vif \n",
        "calc_vif(vif_nums).sort_values('VIF', ascending=False)"
      ],
      "metadata": {
        "colab": {
          "base_uri": "https://localhost:8080/",
          "height": 0
        },
        "id": "rLCZApMc8QlJ",
        "outputId": "cb44d8cf-2140-4a84-b9aa-9d36d5de4390"
      },
      "execution_count": 26,
      "outputs": [
        {
          "output_type": "execute_result",
          "data": {
            "text/plain": [
              "  Variable       VIF\n",
              "4    pay_5  4.805173\n",
              "3    pay_4  4.080385\n",
              "2    pay_3  3.399130\n",
              "5    pay_6  3.176901\n",
              "1    pay_2  3.114527\n",
              "0    pay_0  1.838570"
            ],
            "text/html": [
              "\n",
              "  <div id=\"df-89bc7557-5aac-4e38-abbb-04d6505e2f36\">\n",
              "    <div class=\"colab-df-container\">\n",
              "      <div>\n",
              "<style scoped>\n",
              "    .dataframe tbody tr th:only-of-type {\n",
              "        vertical-align: middle;\n",
              "    }\n",
              "\n",
              "    .dataframe tbody tr th {\n",
              "        vertical-align: top;\n",
              "    }\n",
              "\n",
              "    .dataframe thead th {\n",
              "        text-align: right;\n",
              "    }\n",
              "</style>\n",
              "<table border=\"1\" class=\"dataframe\">\n",
              "  <thead>\n",
              "    <tr style=\"text-align: right;\">\n",
              "      <th></th>\n",
              "      <th>Variable</th>\n",
              "      <th>VIF</th>\n",
              "    </tr>\n",
              "  </thead>\n",
              "  <tbody>\n",
              "    <tr>\n",
              "      <th>4</th>\n",
              "      <td>pay_5</td>\n",
              "      <td>4.805173</td>\n",
              "    </tr>\n",
              "    <tr>\n",
              "      <th>3</th>\n",
              "      <td>pay_4</td>\n",
              "      <td>4.080385</td>\n",
              "    </tr>\n",
              "    <tr>\n",
              "      <th>2</th>\n",
              "      <td>pay_3</td>\n",
              "      <td>3.399130</td>\n",
              "    </tr>\n",
              "    <tr>\n",
              "      <th>5</th>\n",
              "      <td>pay_6</td>\n",
              "      <td>3.176901</td>\n",
              "    </tr>\n",
              "    <tr>\n",
              "      <th>1</th>\n",
              "      <td>pay_2</td>\n",
              "      <td>3.114527</td>\n",
              "    </tr>\n",
              "    <tr>\n",
              "      <th>0</th>\n",
              "      <td>pay_0</td>\n",
              "      <td>1.838570</td>\n",
              "    </tr>\n",
              "  </tbody>\n",
              "</table>\n",
              "</div>\n",
              "      <button class=\"colab-df-convert\" onclick=\"convertToInteractive('df-89bc7557-5aac-4e38-abbb-04d6505e2f36')\"\n",
              "              title=\"Convert this dataframe to an interactive table.\"\n",
              "              style=\"display:none;\">\n",
              "        \n",
              "  <svg xmlns=\"http://www.w3.org/2000/svg\" height=\"24px\"viewBox=\"0 0 24 24\"\n",
              "       width=\"24px\">\n",
              "    <path d=\"M0 0h24v24H0V0z\" fill=\"none\"/>\n",
              "    <path d=\"M18.56 5.44l.94 2.06.94-2.06 2.06-.94-2.06-.94-.94-2.06-.94 2.06-2.06.94zm-11 1L8.5 8.5l.94-2.06 2.06-.94-2.06-.94L8.5 2.5l-.94 2.06-2.06.94zm10 10l.94 2.06.94-2.06 2.06-.94-2.06-.94-.94-2.06-.94 2.06-2.06.94z\"/><path d=\"M17.41 7.96l-1.37-1.37c-.4-.4-.92-.59-1.43-.59-.52 0-1.04.2-1.43.59L10.3 9.45l-7.72 7.72c-.78.78-.78 2.05 0 2.83L4 21.41c.39.39.9.59 1.41.59.51 0 1.02-.2 1.41-.59l7.78-7.78 2.81-2.81c.8-.78.8-2.07 0-2.86zM5.41 20L4 18.59l7.72-7.72 1.47 1.35L5.41 20z\"/>\n",
              "  </svg>\n",
              "      </button>\n",
              "      \n",
              "  <style>\n",
              "    .colab-df-container {\n",
              "      display:flex;\n",
              "      flex-wrap:wrap;\n",
              "      gap: 12px;\n",
              "    }\n",
              "\n",
              "    .colab-df-convert {\n",
              "      background-color: #E8F0FE;\n",
              "      border: none;\n",
              "      border-radius: 50%;\n",
              "      cursor: pointer;\n",
              "      display: none;\n",
              "      fill: #1967D2;\n",
              "      height: 32px;\n",
              "      padding: 0 0 0 0;\n",
              "      width: 32px;\n",
              "    }\n",
              "\n",
              "    .colab-df-convert:hover {\n",
              "      background-color: #E2EBFA;\n",
              "      box-shadow: 0px 1px 2px rgba(60, 64, 67, 0.3), 0px 1px 3px 1px rgba(60, 64, 67, 0.15);\n",
              "      fill: #174EA6;\n",
              "    }\n",
              "\n",
              "    [theme=dark] .colab-df-convert {\n",
              "      background-color: #3B4455;\n",
              "      fill: #D2E3FC;\n",
              "    }\n",
              "\n",
              "    [theme=dark] .colab-df-convert:hover {\n",
              "      background-color: #434B5C;\n",
              "      box-shadow: 0px 1px 3px 1px rgba(0, 0, 0, 0.15);\n",
              "      filter: drop-shadow(0px 1px 2px rgba(0, 0, 0, 0.3));\n",
              "      fill: #FFFFFF;\n",
              "    }\n",
              "  </style>\n",
              "\n",
              "      <script>\n",
              "        const buttonEl =\n",
              "          document.querySelector('#df-89bc7557-5aac-4e38-abbb-04d6505e2f36 button.colab-df-convert');\n",
              "        buttonEl.style.display =\n",
              "          google.colab.kernel.accessAllowed ? 'block' : 'none';\n",
              "\n",
              "        async function convertToInteractive(key) {\n",
              "          const element = document.querySelector('#df-89bc7557-5aac-4e38-abbb-04d6505e2f36');\n",
              "          const dataTable =\n",
              "            await google.colab.kernel.invokeFunction('convertToInteractive',\n",
              "                                                     [key], {});\n",
              "          if (!dataTable) return;\n",
              "\n",
              "          const docLinkHtml = 'Like what you see? Visit the ' +\n",
              "            '<a target=\"_blank\" href=https://colab.research.google.com/notebooks/data_table.ipynb>data table notebook</a>'\n",
              "            + ' to learn more about interactive tables.';\n",
              "          element.innerHTML = '';\n",
              "          dataTable['output_type'] = 'display_data';\n",
              "          await google.colab.output.renderOutput(dataTable, element);\n",
              "          const docLink = document.createElement('div');\n",
              "          docLink.innerHTML = docLinkHtml;\n",
              "          element.appendChild(docLink);\n",
              "        }\n",
              "      </script>\n",
              "    </div>\n",
              "  </div>\n",
              "  "
            ]
          },
          "metadata": {},
          "execution_count": 26
        }
      ]
    },
    {
      "cell_type": "markdown",
      "source": [
        "Jika Threshold yang dipakai adalah 5, maka antara kolom pay yang ada saling tidak bergantung. Karena kolom-kolom tersebut tidak bergantung, maka saya akan mengambil semuanya untuk dijadikan feature dalam modeling"
      ],
      "metadata": {
        "id": "Q6RYlX-X5jIq"
      }
    },
    {
      "cell_type": "markdown",
      "metadata": {
        "id": "fXL6ug6xJ05q"
      },
      "source": [
        "### Numerical Columns"
      ]
    },
    {
      "cell_type": "code",
      "execution_count": 27,
      "metadata": {
        "colab": {
          "base_uri": "https://localhost:8080/"
        },
        "id": "GeG7wdSsN71q",
        "outputId": "02f61768-1d2e-4409-ddd2-fcc390a6371f"
      },
      "outputs": [
        {
          "output_type": "execute_result",
          "data": {
            "text/plain": [
              "['limit_balance',\n",
              " 'sex',\n",
              " 'education_level',\n",
              " 'marital_status',\n",
              " 'age',\n",
              " 'pay_0',\n",
              " 'pay_2',\n",
              " 'pay_3',\n",
              " 'pay_4',\n",
              " 'pay_5',\n",
              " 'pay_6',\n",
              " 'bill_amt_1',\n",
              " 'bill_amt_2',\n",
              " 'bill_amt_3',\n",
              " 'bill_amt_4',\n",
              " 'bill_amt_5',\n",
              " 'bill_amt_6',\n",
              " 'pay_amt_1',\n",
              " 'pay_amt_2',\n",
              " 'pay_amt_3',\n",
              " 'pay_amt_4',\n",
              " 'pay_amt_5',\n",
              " 'pay_amt_6',\n",
              " 'default_payment_next_month']"
            ]
          },
          "metadata": {},
          "execution_count": 27
        }
      ],
      "source": [
        "df_clean.columns.tolist()"
      ]
    },
    {
      "cell_type": "markdown",
      "source": [
        "Mengambil kolom Numerikal dari dataset"
      ],
      "metadata": {
        "id": "qshza7Ns-iHL"
      }
    },
    {
      "cell_type": "code",
      "execution_count": 28,
      "metadata": {
        "id": "UjYSOA-SJ268"
      },
      "outputs": [],
      "source": [
        "df_num = df_clean[['limit_balance',\n",
        " 'age',\n",
        " 'bill_amt_1',\n",
        " 'bill_amt_2',\n",
        " 'bill_amt_3',\n",
        " 'bill_amt_4',\n",
        " 'bill_amt_5',\n",
        " 'bill_amt_6',\n",
        " 'pay_amt_1',\n",
        " 'pay_amt_2',\n",
        " 'pay_amt_3',\n",
        " 'pay_amt_4',\n",
        " 'pay_amt_5',\n",
        " 'pay_amt_6',\n",
        " 'default_payment_next_month'\n",
        "]]"
      ]
    },
    {
      "cell_type": "markdown",
      "source": [
        "Disini saya ingin melihat secara spesifik apakah ada hubungan 'limit_balance' dan 'age' dengan 'default_payment_next_month'"
      ],
      "metadata": {
        "id": "98EqnDhK-qFI"
      }
    },
    {
      "cell_type": "code",
      "source": [
        "numeda = df_num[['limit_balance',\n",
        " 'age',\n",
        " 'default_payment_next_month']]"
      ],
      "metadata": {
        "id": "-Mb0t5OPehDJ"
      },
      "execution_count": 29,
      "outputs": []
    },
    {
      "cell_type": "code",
      "source": [
        "sns.displot(x='age',data=numeda, palette=\"ocean_r\", hue='default_payment_next_month')\n",
        "plt.show()\n",
        "\n"
      ],
      "metadata": {
        "colab": {
          "base_uri": "https://localhost:8080/",
          "height": 0
        },
        "id": "VVDgB6enXZDW",
        "outputId": "c8f11400-81ad-44ba-cb98-61d35527e063"
      },
      "execution_count": 30,
      "outputs": [
        {
          "output_type": "display_data",
          "data": {
            "text/plain": [
              "<Figure size 517x360 with 1 Axes>"
            ],
            "image/png": "[encoded data removed]"
          },
          "metadata": {
            "needs_background": "light"
          }
        }
      ]
    },
    {
      "cell_type": "code",
      "source": [
        "plt.figure(figsize=(16,8))\n",
        "sns.histplot(x='limit_balance',data=numeda, palette=\"Reds\",hue = 'default_payment_next_month')\n",
        "plt.show()"
      ],
      "metadata": {
        "colab": {
          "base_uri": "https://localhost:8080/",
          "height": 0
        },
        "id": "9iitDtInbQrA",
        "outputId": "2ab65480-2ec0-4cee-c91d-96a4ce54194c"
      },
      "execution_count": 31,
      "outputs": [
        {
          "output_type": "display_data",
          "data": {
            "text/plain": [
              "<Figure size 1152x576 with 1 Axes>"
            ],
            "image/png": "[encoded data removed]"
          },
          "metadata": {
            "needs_background": "light"
          }
        }
      ]
    },
    {
      "cell_type": "markdown",
      "source": [
        "Jika dilihat dari plot, berikut adalah beberapa insight yang saya hasil EDA:\n",
        "1. Rentang umur nasabah pada Bank Nasional Taiwan adalah 20 sampai 70 tahun\n",
        "2. Limit Balance nasabah pada Bank Nasional Taiwan adalah 10000 NT sampai 800000 NT dan yang paling banyak tidak melakukan pembayaran tepat waktu atau belum lunas adalah limit balance yang dibawah 100000 NT"
      ],
      "metadata": {
        "id": "Tleu9Cr6FhK6"
      }
    },
    {
      "cell_type": "markdown",
      "source": [
        "--------------------------------------------------------------------------------"
      ],
      "metadata": {
        "id": "yyXoxsuLFiNM"
      }
    },
    {
      "cell_type": "markdown",
      "source": [
        "Melihat Statistik Deskriptif kolom numerikal"
      ],
      "metadata": {
        "id": "vAfZvBfXFkbq"
      }
    },
    {
      "cell_type": "code",
      "execution_count": 32,
      "metadata": {
        "colab": {
          "base_uri": "https://localhost:8080/",
          "height": 0
        },
        "id": "sJK5HbSmQeMX",
        "outputId": "28e09c4b-5cf1-4464-ea98-c91b4fd2179f"
      },
      "outputs": [
        {
          "output_type": "execute_result",
          "data": {
            "text/plain": [
              "                             count           mean            std      min  \\\n",
              "limit_balance               2964.0  163356.950067  125049.701016  10000.0   \n",
              "age                         2964.0      35.193657       9.110949     21.0   \n",
              "bill_amt_1                  2964.0   52135.889001   72334.536115 -11545.0   \n",
              "bill_amt_2                  2964.0   50666.241228   70790.828470 -67526.0   \n",
              "bill_amt_3                  2964.0   48256.032726   68151.445516 -25443.0   \n",
              "bill_amt_4                  2964.0   44104.558367   61912.600106 -46627.0   \n",
              "bill_amt_5                  2964.0   40969.898448   58276.878626 -46627.0   \n",
              "bill_amt_6                  2964.0   39786.491228   57308.498646 -73895.0   \n",
              "pay_amt_1                   2964.0    6351.044872   20888.933729      0.0   \n",
              "pay_amt_2                   2964.0    6274.610661   28884.317574      0.0   \n",
              "pay_amt_3                   2964.0    5152.234818   14289.177313      0.0   \n",
              "pay_amt_4                   2964.0    4562.914980   13283.476236      0.0   \n",
              "pay_amt_5                   2964.0    4914.944332   16736.920951      0.0   \n",
              "pay_amt_6                   2964.0    5384.517544   17278.585006      0.0   \n",
              "default_payment_next_month  2964.0       0.214238       0.410362      0.0   \n",
              "\n",
              "                                 25%       50%        75%        max  \n",
              "limit_balance               50000.00  140000.0  230000.00   800000.0  \n",
              "age                            28.00      34.0      41.00       69.0  \n",
              "bill_amt_1                   3979.75   24325.0   69863.00   613860.0  \n",
              "bill_amt_2                   3403.50   23169.0   67836.25   512650.0  \n",
              "bill_amt_3                   3311.75   21549.5   63034.50   578971.0  \n",
              "bill_amt_4                   2585.00   19895.0   58638.50   488808.0  \n",
              "bill_amt_5                   1974.50   18819.5   53414.50   441981.0  \n",
              "bill_amt_6                   1433.00   18511.5   52297.00   436172.0  \n",
              "pay_amt_1                    1013.00    2238.0    5089.50   493358.0  \n",
              "pay_amt_2                     997.50    2182.5    5000.00  1227082.0  \n",
              "pay_amt_3                     479.25    1997.0    4500.00   199209.0  \n",
              "pay_amt_4                     313.75    1600.0    4000.25   202076.0  \n",
              "pay_amt_5                     325.25    1646.5    4021.00   388071.0  \n",
              "pay_amt_6                     175.25    1626.5    4081.75   403500.0  \n",
              "default_payment_next_month      0.00       0.0       0.00        1.0  "
            ],
            "text/html": [
              "\n",
              "  <div id=\"df-970d4869-7879-44a1-a0db-9454023c62df\">\n",
              "    <div class=\"colab-df-container\">\n",
              "      <div>\n",
              "<style scoped>\n",
              "    .dataframe tbody tr th:only-of-type {\n",
              "        vertical-align: middle;\n",
              "    }\n",
              "\n",
              "    .dataframe tbody tr th {\n",
              "        vertical-align: top;\n",
              "    }\n",
              "\n",
              "    .dataframe thead th {\n",
              "        text-align: right;\n",
              "    }\n",
              "</style>\n",
              "<table border=\"1\" class=\"dataframe\">\n",
              "  <thead>\n",
              "    <tr style=\"text-align: right;\">\n",
              "      <th></th>\n",
              "      <th>count</th>\n",
              "      <th>mean</th>\n",
              "      <th>std</th>\n",
              "      <th>min</th>\n",
              "      <th>25%</th>\n",
              "      <th>50%</th>\n",
              "      <th>75%</th>\n",
              "      <th>max</th>\n",
              "    </tr>\n",
              "  </thead>\n",
              "  <tbody>\n",
              "    <tr>\n",
              "      <th>limit_balance</th>\n",
              "      <td>2964.0</td>\n",
              "      <td>163356.950067</td>\n",
              "      <td>125049.701016</td>\n",
              "      <td>10000.0</td>\n",
              "      <td>50000.00</td>\n",
              "      <td>140000.0</td>\n",
              "      <td>230000.00</td>\n",
              "      <td>800000.0</td>\n",
              "    </tr>\n",
              "    <tr>\n",
              "      <th>age</th>\n",
              "      <td>2964.0</td>\n",
              "      <td>35.193657</td>\n",
              "      <td>9.110949</td>\n",
              "      <td>21.0</td>\n",
              "      <td>28.00</td>\n",
              "      <td>34.0</td>\n",
              "      <td>41.00</td>\n",
              "      <td>69.0</td>\n",
              "    </tr>\n",
              "    <tr>\n",
              "      <th>bill_amt_1</th>\n",
              "      <td>2964.0</td>\n",
              "      <td>52135.889001</td>\n",
              "      <td>72334.536115</td>\n",
              "      <td>-11545.0</td>\n",
              "      <td>3979.75</td>\n",
              "      <td>24325.0</td>\n",
              "      <td>69863.00</td>\n",
              "      <td>613860.0</td>\n",
              "    </tr>\n",
              "    <tr>\n",
              "      <th>bill_amt_2</th>\n",
              "      <td>2964.0</td>\n",
              "      <td>50666.241228</td>\n",
              "      <td>70790.828470</td>\n",
              "      <td>-67526.0</td>\n",
              "      <td>3403.50</td>\n",
              "      <td>23169.0</td>\n",
              "      <td>67836.25</td>\n",
              "      <td>512650.0</td>\n",
              "    </tr>\n",
              "    <tr>\n",
              "      <th>bill_amt_3</th>\n",
              "      <td>2964.0</td>\n",
              "      <td>48256.032726</td>\n",
              "      <td>68151.445516</td>\n",
              "      <td>-25443.0</td>\n",
              "      <td>3311.75</td>\n",
              "      <td>21549.5</td>\n",
              "      <td>63034.50</td>\n",
              "      <td>578971.0</td>\n",
              "    </tr>\n",
              "    <tr>\n",
              "      <th>bill_amt_4</th>\n",
              "      <td>2964.0</td>\n",
              "      <td>44104.558367</td>\n",
              "      <td>61912.600106</td>\n",
              "      <td>-46627.0</td>\n",
              "      <td>2585.00</td>\n",
              "      <td>19895.0</td>\n",
              "      <td>58638.50</td>\n",
              "      <td>488808.0</td>\n",
              "    </tr>\n",
              "    <tr>\n",
              "      <th>bill_amt_5</th>\n",
              "      <td>2964.0</td>\n",
              "      <td>40969.898448</td>\n",
              "      <td>58276.878626</td>\n",
              "      <td>-46627.0</td>\n",
              "      <td>1974.50</td>\n",
              "      <td>18819.5</td>\n",
              "      <td>53414.50</td>\n",
              "      <td>441981.0</td>\n",
              "    </tr>\n",
              "    <tr>\n",
              "      <th>bill_amt_6</th>\n",
              "      <td>2964.0</td>\n",
              "      <td>39786.491228</td>\n",
              "      <td>57308.498646</td>\n",
              "      <td>-73895.0</td>\n",
              "      <td>1433.00</td>\n",
              "      <td>18511.5</td>\n",
              "      <td>52297.00</td>\n",
              "      <td>436172.0</td>\n",
              "    </tr>\n",
              "    <tr>\n",
              "      <th>pay_amt_1</th>\n",
              "      <td>2964.0</td>\n",
              "      <td>6351.044872</td>\n",
              "      <td>20888.933729</td>\n",
              "      <td>0.0</td>\n",
              "      <td>1013.00</td>\n",
              "      <td>2238.0</td>\n",
              "      <td>5089.50</td>\n",
              "      <td>493358.0</td>\n",
              "    </tr>\n",
              "    <tr>\n",
              "      <th>pay_amt_2</th>\n",
              "      <td>2964.0</td>\n",
              "      <td>6274.610661</td>\n",
              "      <td>28884.317574</td>\n",
              "      <td>0.0</td>\n",
              "      <td>997.50</td>\n",
              "      <td>2182.5</td>\n",
              "      <td>5000.00</td>\n",
              "      <td>1227082.0</td>\n",
              "    </tr>\n",
              "    <tr>\n",
              "      <th>pay_amt_3</th>\n",
              "      <td>2964.0</td>\n",
              "      <td>5152.234818</td>\n",
              "      <td>14289.177313</td>\n",
              "      <td>0.0</td>\n",
              "      <td>479.25</td>\n",
              "      <td>1997.0</td>\n",
              "      <td>4500.00</td>\n",
              "      <td>199209.0</td>\n",
              "    </tr>\n",
              "    <tr>\n",
              "      <th>pay_amt_4</th>\n",
              "      <td>2964.0</td>\n",
              "      <td>4562.914980</td>\n",
              "      <td>13283.476236</td>\n",
              "      <td>0.0</td>\n",
              "      <td>313.75</td>\n",
              "      <td>1600.0</td>\n",
              "      <td>4000.25</td>\n",
              "      <td>202076.0</td>\n",
              "    </tr>\n",
              "    <tr>\n",
              "      <th>pay_amt_5</th>\n",
              "      <td>2964.0</td>\n",
              "      <td>4914.944332</td>\n",
              "      <td>16736.920951</td>\n",
              "      <td>0.0</td>\n",
              "      <td>325.25</td>\n",
              "      <td>1646.5</td>\n",
              "      <td>4021.00</td>\n",
              "      <td>388071.0</td>\n",
              "    </tr>\n",
              "    <tr>\n",
              "      <th>pay_amt_6</th>\n",
              "      <td>2964.0</td>\n",
              "      <td>5384.517544</td>\n",
              "      <td>17278.585006</td>\n",
              "      <td>0.0</td>\n",
              "      <td>175.25</td>\n",
              "      <td>1626.5</td>\n",
              "      <td>4081.75</td>\n",
              "      <td>403500.0</td>\n",
              "    </tr>\n",
              "    <tr>\n",
              "      <th>default_payment_next_month</th>\n",
              "      <td>2964.0</td>\n",
              "      <td>0.214238</td>\n",
              "      <td>0.410362</td>\n",
              "      <td>0.0</td>\n",
              "      <td>0.00</td>\n",
              "      <td>0.0</td>\n",
              "      <td>0.00</td>\n",
              "      <td>1.0</td>\n",
              "    </tr>\n",
              "  </tbody>\n",
              "</table>\n",
              "</div>\n",
              "      <button class=\"colab-df-convert\" onclick=\"convertToInteractive('df-970d4869-7879-44a1-a0db-9454023c62df')\"\n",
              "              title=\"Convert this dataframe to an interactive table.\"\n",
              "              style=\"display:none;\">\n",
              "        \n",
              "  <svg xmlns=\"http://www.w3.org/2000/svg\" height=\"24px\"viewBox=\"0 0 24 24\"\n",
              "       width=\"24px\">\n",
              "    <path d=\"M0 0h24v24H0V0z\" fill=\"none\"/>\n",
              "    <path d=\"M18.56 5.44l.94 2.06.94-2.06 2.06-.94-2.06-.94-.94-2.06-.94 2.06-2.06.94zm-11 1L8.5 8.5l.94-2.06 2.06-.94-2.06-.94L8.5 2.5l-.94 2.06-2.06.94zm10 10l.94 2.06.94-2.06 2.06-.94-2.06-.94-.94-2.06-.94 2.06-2.06.94z\"/><path d=\"M17.41 7.96l-1.37-1.37c-.4-.4-.92-.59-1.43-.59-.52 0-1.04.2-1.43.59L10.3 9.45l-7.72 7.72c-.78.78-.78 2.05 0 2.83L4 21.41c.39.39.9.59 1.41.59.51 0 1.02-.2 1.41-.59l7.78-7.78 2.81-2.81c.8-.78.8-2.07 0-2.86zM5.41 20L4 18.59l7.72-7.72 1.47 1.35L5.41 20z\"/>\n",
              "  </svg>\n",
              "      </button>\n",
              "      \n",
              "  <style>\n",
              "    .colab-df-container {\n",
              "      display:flex;\n",
              "      flex-wrap:wrap;\n",
              "      gap: 12px;\n",
              "    }\n",
              "\n",
              "    .colab-df-convert {\n",
              "      background-color: #E8F0FE;\n",
              "      border: none;\n",
              "      border-radius: 50%;\n",
              "      cursor: pointer;\n",
              "      display: none;\n",
              "      fill: #1967D2;\n",
              "      height: 32px;\n",
              "      padding: 0 0 0 0;\n",
              "      width: 32px;\n",
              "    }\n",
              "\n",
              "    .colab-df-convert:hover {\n",
              "      background-color: #E2EBFA;\n",
              "      box-shadow: 0px 1px 2px rgba(60, 64, 67, 0.3), 0px 1px 3px 1px rgba(60, 64, 67, 0.15);\n",
              "      fill: #174EA6;\n",
              "    }\n",
              "\n",
              "    [theme=dark] .colab-df-convert {\n",
              "      background-color: #3B4455;\n",
              "      fill: #D2E3FC;\n",
              "    }\n",
              "\n",
              "    [theme=dark] .colab-df-convert:hover {\n",
              "      background-color: #434B5C;\n",
              "      box-shadow: 0px 1px 3px 1px rgba(0, 0, 0, 0.15);\n",
              "      filter: drop-shadow(0px 1px 2px rgba(0, 0, 0, 0.3));\n",
              "      fill: #FFFFFF;\n",
              "    }\n",
              "  </style>\n",
              "\n",
              "      <script>\n",
              "        const buttonEl =\n",
              "          document.querySelector('#df-970d4869-7879-44a1-a0db-9454023c62df button.colab-df-convert');\n",
              "        buttonEl.style.display =\n",
              "          google.colab.kernel.accessAllowed ? 'block' : 'none';\n",
              "\n",
              "        async function convertToInteractive(key) {\n",
              "          const element = document.querySelector('#df-970d4869-7879-44a1-a0db-9454023c62df');\n",
              "          const dataTable =\n",
              "            await google.colab.kernel.invokeFunction('convertToInteractive',\n",
              "                                                     [key], {});\n",
              "          if (!dataTable) return;\n",
              "\n",
              "          const docLinkHtml = 'Like what you see? Visit the ' +\n",
              "            '<a target=\"_blank\" href=https://colab.research.google.com/notebooks/data_table.ipynb>data table notebook</a>'\n",
              "            + ' to learn more about interactive tables.';\n",
              "          element.innerHTML = '';\n",
              "          dataTable['output_type'] = 'display_data';\n",
              "          await google.colab.output.renderOutput(dataTable, element);\n",
              "          const docLink = document.createElement('div');\n",
              "          docLink.innerHTML = docLinkHtml;\n",
              "          element.appendChild(docLink);\n",
              "        }\n",
              "      </script>\n",
              "    </div>\n",
              "  </div>\n",
              "  "
            ]
          },
          "metadata": {},
          "execution_count": 32
        }
      ],
      "source": [
        "df_num.describe().T"
      ]
    },
    {
      "cell_type": "markdown",
      "source": [
        "#### Feature Selection (Numerical Columns)"
      ],
      "metadata": {
        "id": "PHVVDwntBhO-"
      }
    },
    {
      "cell_type": "markdown",
      "source": [
        "##### Heatmap Correlation"
      ],
      "metadata": {
        "id": "oZjdEOOgBaA9"
      }
    },
    {
      "cell_type": "code",
      "execution_count": 33,
      "metadata": {
        "colab": {
          "base_uri": "https://localhost:8080/",
          "height": 0
        },
        "id": "T2BTgDg8OT0C",
        "outputId": "09b7a3f5-a611-4bd4-d353-a2b96b1e0b37"
      },
      "outputs": [
        {
          "output_type": "display_data",
          "data": {
            "text/plain": [
              "<Figure size 2160x1080 with 2 Axes>"
            ],
            "image/png": "[encoded data removed]"
          },
          "metadata": {
            "needs_background": "light"
          }
        }
      ],
      "source": [
        "corr2 = df_num.corr()\n",
        "\n",
        "plt.figure(figsize=(30, 15))\n",
        "sns.heatmap(corr2, annot= True, vmin=0, vmax=1)\n",
        "plt.show()"
      ]
    },
    {
      "cell_type": "markdown",
      "source": [
        "Dilihat dari Heatmap Correlation, hubungan antara target default_payment_next_month' dan kolom lainnya semuanya memiliki nilai korelasi yang kecil, maka dari itu saya hanya akan mengambil nilai yang paling mempengaruhi si targetnya"
      ],
      "metadata": {
        "id": "zTFCIETfBtlX"
      }
    },
    {
      "cell_type": "markdown",
      "source": [
        "--------------------------------------------------------------------------------"
      ],
      "metadata": {
        "id": "hmdxgqBpCvyA"
      }
    },
    {
      "cell_type": "markdown",
      "metadata": {
        "id": "d73vrEx9P_Zv"
      },
      "source": [
        "##### Feature Selection with Mutual Information"
      ]
    },
    {
      "cell_type": "markdown",
      "source": [
        "Untuk pemilihan feature selection lebih lanjut, saya akan menggunakan metode mutual info untuk mengetahui kolom mana yang paling mempengaruhi target"
      ],
      "metadata": {
        "id": "o7zYFQK1CzMu"
      }
    },
    {
      "cell_type": "code",
      "execution_count": 34,
      "metadata": {
        "id": "-u5R7FYaPmlC"
      },
      "outputs": [],
      "source": [
        "from sklearn.feature_selection import mutual_info_classif"
      ]
    },
    {
      "cell_type": "code",
      "execution_count": 35,
      "metadata": {
        "id": "7F0k2PSsOnrQ"
      },
      "outputs": [],
      "source": [
        "Xfs = df_num.drop('default_payment_next_month',axis=1)\n",
        "yfs = df_num['default_payment_next_month']"
      ]
    },
    {
      "cell_type": "code",
      "execution_count": 36,
      "metadata": {
        "colab": {
          "base_uri": "https://localhost:8080/"
        },
        "id": "Jr7pbIJ-PiIp",
        "outputId": "5f91d476-062e-4f6d-a727-9dbdc1b840d2"
      },
      "outputs": [
        {
          "output_type": "execute_result",
          "data": {
            "text/plain": [
              "array([0.02120874, 0.        , 0.00763327, 0.00986319, 0.00172475,\n",
              "       0.00731034, 0.00202779, 0.        , 0.02903579, 0.01793765,\n",
              "       0.01024077, 0.01372752, 0.01295807, 0.00788257])"
            ]
          },
          "metadata": {},
          "execution_count": 36
        }
      ],
      "source": [
        "mutual_info = mutual_info_classif(Xfs, yfs)\n",
        "mutual_info"
      ]
    },
    {
      "cell_type": "code",
      "execution_count": 37,
      "metadata": {
        "colab": {
          "base_uri": "https://localhost:8080/"
        },
        "id": "KKwpxYkNPoH3",
        "outputId": "834b9b5b-c2ed-45c3-b093-3e3a09d014fb"
      },
      "outputs": [
        {
          "output_type": "execute_result",
          "data": {
            "text/plain": [
              "pay_amt_1        0.029036\n",
              "limit_balance    0.021209\n",
              "pay_amt_2        0.017938\n",
              "pay_amt_4        0.013728\n",
              "pay_amt_5        0.012958\n",
              "pay_amt_3        0.010241\n",
              "bill_amt_2       0.009863\n",
              "pay_amt_6        0.007883\n",
              "bill_amt_1       0.007633\n",
              "bill_amt_4       0.007310\n",
              "bill_amt_5       0.002028\n",
              "bill_amt_3       0.001725\n",
              "age              0.000000\n",
              "bill_amt_6       0.000000\n",
              "dtype: float64"
            ]
          },
          "metadata": {},
          "execution_count": 37
        }
      ],
      "source": [
        "mutual_info = pd.Series(mutual_info)\n",
        "mutual_info.index = Xfs.columns\n",
        "mutual_info.sort_values(ascending=False)"
      ]
    },
    {
      "cell_type": "markdown",
      "source": [
        "Setelah dilihat, nilai mutual info yang didapatkan juga kecil, maka dari itu saya hanya akan mengambil nilai terbesar dari mutual info yaitu kolom 'pay_amt_1' yang paling mempengaruhi si targetnya"
      ],
      "metadata": {
        "id": "bGbKldiSDhUG"
      }
    },
    {
      "cell_type": "markdown",
      "source": [
        "--------------------------------------------------------------------------------"
      ],
      "metadata": {
        "id": "95BJUyiHD6ME"
      }
    },
    {
      "cell_type": "markdown",
      "source": [
        "membuat dataframe baru berisi feature yang dipilih"
      ],
      "metadata": {
        "id": "od3MqoV4EAzA"
      }
    },
    {
      "cell_type": "code",
      "execution_count": 38,
      "metadata": {
        "id": "3clRLA_cgHAd"
      },
      "outputs": [],
      "source": [
        "df_num = df_num[['limit_balance','pay_amt_1']]"
      ]
    },
    {
      "cell_type": "code",
      "execution_count": 39,
      "metadata": {
        "colab": {
          "base_uri": "https://localhost:8080/",
          "height": 0
        },
        "id": "PrTlYLlbhAnv",
        "outputId": "d1e3a3b6-2661-4c17-bf70-5b3933577716"
      },
      "outputs": [
        {
          "output_type": "execute_result",
          "data": {
            "text/plain": [
              "   limit_balance  pay_amt_1\n",
              "0       130000.0     2886.0\n",
              "1       230000.0     9405.0\n",
              "2        50000.0     2007.0\n",
              "3       200000.0     7822.0\n",
              "4       500000.0    54209.0"
            ],
            "text/html": [
              "\n",
              "  <div id=\"df-3b86b1c9-7db0-4409-a063-be43c5a5efcb\">\n",
              "    <div class=\"colab-df-container\">\n",
              "      <div>\n",
              "<style scoped>\n",
              "    .dataframe tbody tr th:only-of-type {\n",
              "        vertical-align: middle;\n",
              "    }\n",
              "\n",
              "    .dataframe tbody tr th {\n",
              "        vertical-align: top;\n",
              "    }\n",
              "\n",
              "    .dataframe thead th {\n",
              "        text-align: right;\n",
              "    }\n",
              "</style>\n",
              "<table border=\"1\" class=\"dataframe\">\n",
              "  <thead>\n",
              "    <tr style=\"text-align: right;\">\n",
              "      <th></th>\n",
              "      <th>limit_balance</th>\n",
              "      <th>pay_amt_1</th>\n",
              "    </tr>\n",
              "  </thead>\n",
              "  <tbody>\n",
              "    <tr>\n",
              "      <th>0</th>\n",
              "      <td>130000.0</td>\n",
              "      <td>2886.0</td>\n",
              "    </tr>\n",
              "    <tr>\n",
              "      <th>1</th>\n",
              "      <td>230000.0</td>\n",
              "      <td>9405.0</td>\n",
              "    </tr>\n",
              "    <tr>\n",
              "      <th>2</th>\n",
              "      <td>50000.0</td>\n",
              "      <td>2007.0</td>\n",
              "    </tr>\n",
              "    <tr>\n",
              "      <th>3</th>\n",
              "      <td>200000.0</td>\n",
              "      <td>7822.0</td>\n",
              "    </tr>\n",
              "    <tr>\n",
              "      <th>4</th>\n",
              "      <td>500000.0</td>\n",
              "      <td>54209.0</td>\n",
              "    </tr>\n",
              "  </tbody>\n",
              "</table>\n",
              "</div>\n",
              "      <button class=\"colab-df-convert\" onclick=\"convertToInteractive('df-3b86b1c9-7db0-4409-a063-be43c5a5efcb')\"\n",
              "              title=\"Convert this dataframe to an interactive table.\"\n",
              "              style=\"display:none;\">\n",
              "        \n",
              "  <svg xmlns=\"http://www.w3.org/2000/svg\" height=\"24px\"viewBox=\"0 0 24 24\"\n",
              "       width=\"24px\">\n",
              "    <path d=\"M0 0h24v24H0V0z\" fill=\"none\"/>\n",
              "    <path d=\"M18.56 5.44l.94 2.06.94-2.06 2.06-.94-2.06-.94-.94-2.06-.94 2.06-2.06.94zm-11 1L8.5 8.5l.94-2.06 2.06-.94-2.06-.94L8.5 2.5l-.94 2.06-2.06.94zm10 10l.94 2.06.94-2.06 2.06-.94-2.06-.94-.94-2.06-.94 2.06-2.06.94z\"/><path d=\"M17.41 7.96l-1.37-1.37c-.4-.4-.92-.59-1.43-.59-.52 0-1.04.2-1.43.59L10.3 9.45l-7.72 7.72c-.78.78-.78 2.05 0 2.83L4 21.41c.39.39.9.59 1.41.59.51 0 1.02-.2 1.41-.59l7.78-7.78 2.81-2.81c.8-.78.8-2.07 0-2.86zM5.41 20L4 18.59l7.72-7.72 1.47 1.35L5.41 20z\"/>\n",
              "  </svg>\n",
              "      </button>\n",
              "      \n",
              "  <style>\n",
              "    .colab-df-container {\n",
              "      display:flex;\n",
              "      flex-wrap:wrap;\n",
              "      gap: 12px;\n",
              "    }\n",
              "\n",
              "    .colab-df-convert {\n",
              "      background-color: #E8F0FE;\n",
              "      border: none;\n",
              "      border-radius: 50%;\n",
              "      cursor: pointer;\n",
              "      display: none;\n",
              "      fill: #1967D2;\n",
              "      height: 32px;\n",
              "      padding: 0 0 0 0;\n",
              "      width: 32px;\n",
              "    }\n",
              "\n",
              "    .colab-df-convert:hover {\n",
              "      background-color: #E2EBFA;\n",
              "      box-shadow: 0px 1px 2px rgba(60, 64, 67, 0.3), 0px 1px 3px 1px rgba(60, 64, 67, 0.15);\n",
              "      fill: #174EA6;\n",
              "    }\n",
              "\n",
              "    [theme=dark] .colab-df-convert {\n",
              "      background-color: #3B4455;\n",
              "      fill: #D2E3FC;\n",
              "    }\n",
              "\n",
              "    [theme=dark] .colab-df-convert:hover {\n",
              "      background-color: #434B5C;\n",
              "      box-shadow: 0px 1px 3px 1px rgba(0, 0, 0, 0.15);\n",
              "      filter: drop-shadow(0px 1px 2px rgba(0, 0, 0, 0.3));\n",
              "      fill: #FFFFFF;\n",
              "    }\n",
              "  </style>\n",
              "\n",
              "      <script>\n",
              "        const buttonEl =\n",
              "          document.querySelector('#df-3b86b1c9-7db0-4409-a063-be43c5a5efcb button.colab-df-convert');\n",
              "        buttonEl.style.display =\n",
              "          google.colab.kernel.accessAllowed ? 'block' : 'none';\n",
              "\n",
              "        async function convertToInteractive(key) {\n",
              "          const element = document.querySelector('#df-3b86b1c9-7db0-4409-a063-be43c5a5efcb');\n",
              "          const dataTable =\n",
              "            await google.colab.kernel.invokeFunction('convertToInteractive',\n",
              "                                                     [key], {});\n",
              "          if (!dataTable) return;\n",
              "\n",
              "          const docLinkHtml = 'Like what you see? Visit the ' +\n",
              "            '<a target=\"_blank\" href=https://colab.research.google.com/notebooks/data_table.ipynb>data table notebook</a>'\n",
              "            + ' to learn more about interactive tables.';\n",
              "          element.innerHTML = '';\n",
              "          dataTable['output_type'] = 'display_data';\n",
              "          await google.colab.output.renderOutput(dataTable, element);\n",
              "          const docLink = document.createElement('div');\n",
              "          docLink.innerHTML = docLinkHtml;\n",
              "          element.appendChild(docLink);\n",
              "        }\n",
              "      </script>\n",
              "    </div>\n",
              "  </div>\n",
              "  "
            ]
          },
          "metadata": {},
          "execution_count": 39
        }
      ],
      "source": [
        "df_num.head()"
      ]
    },
    {
      "cell_type": "markdown",
      "metadata": {
        "id": "aogTdigaIgw9"
      },
      "source": [
        "#### Handling Outlier"
      ]
    },
    {
      "cell_type": "markdown",
      "source": [
        "plotting persebaran data dan melihat upper boundaries, lower boundaries, dan nilai skew pada kolom numerikal"
      ],
      "metadata": {
        "id": "qNElRcGHFHxj"
      }
    },
    {
      "cell_type": "code",
      "execution_count": 40,
      "metadata": {
        "id": "sWiwwIvUJBL0"
      },
      "outputs": [],
      "source": [
        "def plot_dist(df_num, col):\n",
        "    fig, axes = plt.subplots(ncols = 2, figsize = (15, 5))\n",
        "\n",
        "# histogram\n",
        "    sns.histplot(df_num[col],ax = axes[0], bins=30)\n",
        "    axes[0].set_title(f\"Histogram '{col}'\")\n",
        "    axes[0].axvline(df_num[col].mean(), color = 'red', linestyle = 'dashed', label = 'mean')\n",
        "    axes[0].axvline(df_num[col].median(), color = 'green', linestyle = 'dashed', label = 'median')\n",
        "    axes[0].legend()\n",
        "\n",
        "# boxplot\n",
        "    if df_num[col].skew() >= 1 or df_num[col].skew() <= -1 :\n",
        "        sns.boxplot(y=df_num[col], ax =  axes[1], whis=3)\n",
        "        axes[1].set_title(f\"Boxplot '{col}'\")\n",
        "    \n",
        "        plt.show()\n",
        "    else:\n",
        "        sns.boxplot(y=df_num[col], ax =  axes[1], whis=1.5)\n",
        "        axes[1].set_title(f\"Boxplot '{col}'\")\n",
        "    \n",
        "        plt.show()\n",
        "        \n",
        "# skewness\n",
        "    print(df_num[col].name + ' Skewness: ' + str(df_num[col].skew()))\n",
        "    if -0.5 <= df_num[col].skew() <= 0.5:\n",
        "        print(\"Columns '{}' normal distribution\".format(col))\n",
        "    elif df_num[col].skew() > 0.5:\n",
        "        print(\"Columns '{}' right skewed\".format(col))\n",
        "    elif df_num[col].skew() < -0.5:\n",
        "        print(\"Columns '{}' left skewed\".format(col))"
      ]
    },
    {
      "cell_type": "markdown",
      "metadata": {
        "id": "S_SrLyp6JTOm"
      },
      "source": [
        "##### limit_balance"
      ]
    },
    {
      "cell_type": "code",
      "execution_count": 41,
      "metadata": {
        "colab": {
          "base_uri": "https://localhost:8080/",
          "height": 0
        },
        "id": "Rfka3cbJJKAZ",
        "outputId": "47caa35f-8caf-49a1-db15-759e703b7fe1"
      },
      "outputs": [
        {
          "output_type": "display_data",
          "data": {
            "text/plain": [
              "<Figure size 1080x360 with 2 Axes>"
            ],
            "image/png": "[encoded data removed]"
          },
          "metadata": {
            "needs_background": "light"
          }
        },
        {
          "output_type": "stream",
          "name": "stdout",
          "text": [
            "limit_balance Skewness: 1.0006047564306488\n",
            "Columns 'limit_balance' right skewed\n"
          ]
        }
      ],
      "source": [
        "# checking the distribution of limit_balance\n",
        "plot_dist(df_num, 'limit_balance')"
      ]
    },
    {
      "cell_type": "code",
      "execution_count": 42,
      "metadata": {
        "colab": {
          "base_uri": "https://localhost:8080/"
        },
        "id": "Qrs0EXgrJO3_",
        "outputId": "503f0214-fc6d-4380-a030-4f483ff0bcd9"
      },
      "outputs": [
        {
          "output_type": "stream",
          "name": "stdout",
          "text": [
            "count of outlier:  14\n",
            "percent limit_balance of outlier:  0.47233468286099867 %\n"
          ]
        }
      ],
      "source": [
        "# outlier detection using IQR \n",
        "Q3 = df_num['limit_balance'].quantile(.75)\n",
        "Q1 = df_num['limit_balance'].quantile(.25)\n",
        "\n",
        "IQR = Q3 - Q1\n",
        "\n",
        "upper = Q3 + (1.5 * IQR)\n",
        "lower = Q1 - (1.5 * IQR)\n",
        "\n",
        "outlier = df_num[(df_num['limit_balance'] > upper) | (df_num['limit_balance'] < lower)]\n",
        "\n",
        "print('count of outlier: ', outlier.shape[0])\n",
        "print('percent limit_balance of outlier: ', outlier.shape[0]/df_num.shape[0] * 100, '%')"
      ]
    },
    {
      "cell_type": "markdown",
      "source": [
        "Pada kolom 'limit_balance', dapat dilihat dari plot bahwa persebaran datanya cukup bagus dan tidak memiliki terlalu banyak outlier. Nilai skew dari kolom tersebut juga memiliki nilai yang sangat hampir mendekati satu sehingga saya menggunakan nilai 1.5 untuk mengetahui berapa banyak outliernya. Setelah dilihat, menurut saya data pada 'limit_balance' tidak perlu di handling outlier karena sudah memiliki persebaran data yang cukup bagus dan jumlah outlier yang sedikit"
      ],
      "metadata": {
        "id": "hI0ByP4kF8Vv"
      }
    },
    {
      "cell_type": "markdown",
      "metadata": {
        "id": "0IW45zAuKT3e"
      },
      "source": [
        "##### pay_amt_1"
      ]
    },
    {
      "cell_type": "code",
      "execution_count": 43,
      "metadata": {
        "colab": {
          "base_uri": "https://localhost:8080/",
          "height": 0
        },
        "id": "m425U_RBJlwE",
        "outputId": "6618879a-1057-4b0f-a891-66de538e05d0"
      },
      "outputs": [
        {
          "output_type": "display_data",
          "data": {
            "text/plain": [
              "<Figure size 1080x360 with 2 Axes>"
            ],
            "image/png": "[encoded data removed]"
          },
          "metadata": {
            "needs_background": "light"
          }
        },
        {
          "output_type": "stream",
          "name": "stdout",
          "text": [
            "pay_amt_1 Skewness: 11.87590259977231\n",
            "Columns 'pay_amt_1' right skewed\n"
          ]
        }
      ],
      "source": [
        "# checking the distribution of limit_balance\n",
        "plot_dist(df_num, 'pay_amt_1')"
      ]
    },
    {
      "cell_type": "code",
      "execution_count": 44,
      "metadata": {
        "colab": {
          "base_uri": "https://localhost:8080/"
        },
        "id": "y_Y87z3kKICH",
        "outputId": "42cc70d0-c93b-4fd6-db21-41e48e8cbda9"
      },
      "outputs": [
        {
          "output_type": "stream",
          "name": "stdout",
          "text": [
            "count of outlier:  127\n",
            "percent pay_amt_1 of outlier:  4.284750337381917 %\n"
          ]
        }
      ],
      "source": [
        "# outlier detection using IQR \n",
        "Q3 = df_num['pay_amt_1'].quantile(.75)\n",
        "Q1 = df_num['pay_amt_1'].quantile(.15)\n",
        "\n",
        "IQR = Q3 - Q1\n",
        "\n",
        "upper = Q3 + (3 * IQR)\n",
        "lower = Q1 - (3 * IQR)\n",
        "\n",
        "outlier = df_num[(df_num['pay_amt_1'] > upper) | (df_num['pay_amt_1'] < lower)]\n",
        "\n",
        "print('count of outlier: ', outlier.shape[0])\n",
        "print('percent pay_amt_1 of outlier: ', outlier.shape[0]/df_num.shape[0] * 100, '%')"
      ]
    },
    {
      "cell_type": "markdown",
      "source": [
        "Pada kolom 'pay_amt_1', dapat dilihat dari plot bahwa persebaran datanya tidak normal dan memiliki nilai skew yang tinggi. Karena nilai skew yang tinggi, maka saya menggunakan nilai 3 untuk mengetahui berapa banyak outlier yang ada. Setelah dilihat persentase dan jumlah outliernya, menurut saya kolom ini akan dilakukan handling outlier dengan metode capping"
      ],
      "metadata": {
        "id": "kfZ3-PEaGa76"
      }
    },
    {
      "cell_type": "code",
      "execution_count": 45,
      "metadata": {
        "id": "qmj304DlKZ16"
      },
      "outputs": [],
      "source": [
        "# capping outlier\n",
        "wins = Winsorizer(capping_method='iqr', tail='both', fold=1.5, variables=['pay_amt_1'])\n",
        "\n",
        "df_num_cleaned = wins.fit_transform(df_num)"
      ]
    },
    {
      "cell_type": "code",
      "execution_count": 46,
      "metadata": {
        "colab": {
          "base_uri": "https://localhost:8080/"
        },
        "id": "Ri7gK0b-Kz4_",
        "outputId": "14c5a8d3-0845-416a-fd83-911c91325b0a"
      },
      "outputs": [
        {
          "output_type": "stream",
          "name": "stdout",
          "text": [
            "before handling: \n",
            "            pay_amt_1\n",
            "count    2964.000000\n",
            "mean     6351.044872\n",
            "std     20888.933729\n",
            "min         0.000000\n",
            "25%      1013.000000\n",
            "50%      2238.000000\n",
            "75%      5089.500000\n",
            "max    493358.000000\n",
            "after handling: \n",
            "           pay_amt_1\n",
            "count   2964.000000\n",
            "mean    3607.965250\n",
            "std     3543.546039\n",
            "min        0.000000\n",
            "25%     1013.000000\n",
            "50%     2238.000000\n",
            "75%     5089.500000\n",
            "max    11204.250000\n"
          ]
        }
      ],
      "source": [
        "out = ['pay_amt_1']\n",
        "# Compare before and after outlier handling\n",
        "print('before handling: \\n', df_num[out].describe()) \n",
        "print('after handling: \\n', df_num_cleaned[out].describe())"
      ]
    },
    {
      "cell_type": "markdown",
      "metadata": {
        "id": "OLoexVskilJx"
      },
      "source": [
        "### Feature Selection "
      ]
    },
    {
      "cell_type": "markdown",
      "source": [
        "Menggabungkan kembali kolom kategorikal dan numerikal yang sudah dipilih untuk menjadi feature "
      ],
      "metadata": {
        "id": "oGAR0DwMIfLT"
      }
    },
    {
      "cell_type": "code",
      "execution_count": 47,
      "metadata": {
        "colab": {
          "base_uri": "https://localhost:8080/",
          "height": 0
        },
        "id": "cuCuedyNhP0j",
        "outputId": "74ac2c7d-0971-4946-aace-35c15dcd1ecc"
      },
      "outputs": [
        {
          "output_type": "execute_result",
          "data": {
            "text/plain": [
              "   limit_balance  pay_amt_1  pay_0  pay_2  pay_3  pay_4  pay_5  pay_6  \\\n",
              "0       130000.0    2886.00    0.0    0.0    0.0    0.0      0      0   \n",
              "1       230000.0    9405.00    0.0    0.0    0.0    0.0      0      0   \n",
              "2        50000.0    2007.00    0.0    0.0    0.0    0.0      0      2   \n",
              "3       200000.0    7822.00    0.0    0.0    0.0    0.0      0      0   \n",
              "4       500000.0   11204.25    0.0    0.0    0.0    0.0      0      0   \n",
              "\n",
              "   default_payment_next_month  \n",
              "0                           0  \n",
              "1                           1  \n",
              "2                           0  \n",
              "3                           0  \n",
              "4                           0  "
            ],
            "text/html": [
              "\n",
              "  <div id=\"df-b0d515d7-46cf-4cbe-9007-8dddcf469c69\">\n",
              "    <div class=\"colab-df-container\">\n",
              "      <div>\n",
              "<style scoped>\n",
              "    .dataframe tbody tr th:only-of-type {\n",
              "        vertical-align: middle;\n",
              "    }\n",
              "\n",
              "    .dataframe tbody tr th {\n",
              "        vertical-align: top;\n",
              "    }\n",
              "\n",
              "    .dataframe thead th {\n",
              "        text-align: right;\n",
              "    }\n",
              "</style>\n",
              "<table border=\"1\" class=\"dataframe\">\n",
              "  <thead>\n",
              "    <tr style=\"text-align: right;\">\n",
              "      <th></th>\n",
              "      <th>limit_balance</th>\n",
              "      <th>pay_amt_1</th>\n",
              "      <th>pay_0</th>\n",
              "      <th>pay_2</th>\n",
              "      <th>pay_3</th>\n",
              "      <th>pay_4</th>\n",
              "      <th>pay_5</th>\n",
              "      <th>pay_6</th>\n",
              "      <th>default_payment_next_month</th>\n",
              "    </tr>\n",
              "  </thead>\n",
              "  <tbody>\n",
              "    <tr>\n",
              "      <th>0</th>\n",
              "      <td>130000.0</td>\n",
              "      <td>2886.00</td>\n",
              "      <td>0.0</td>\n",
              "      <td>0.0</td>\n",
              "      <td>0.0</td>\n",
              "      <td>0.0</td>\n",
              "      <td>0</td>\n",
              "      <td>0</td>\n",
              "      <td>0</td>\n",
              "    </tr>\n",
              "    <tr>\n",
              "      <th>1</th>\n",
              "      <td>230000.0</td>\n",
              "      <td>9405.00</td>\n",
              "      <td>0.0</td>\n",
              "      <td>0.0</td>\n",
              "      <td>0.0</td>\n",
              "      <td>0.0</td>\n",
              "      <td>0</td>\n",
              "      <td>0</td>\n",
              "      <td>1</td>\n",
              "    </tr>\n",
              "    <tr>\n",
              "      <th>2</th>\n",
              "      <td>50000.0</td>\n",
              "      <td>2007.00</td>\n",
              "      <td>0.0</td>\n",
              "      <td>0.0</td>\n",
              "      <td>0.0</td>\n",
              "      <td>0.0</td>\n",
              "      <td>0</td>\n",
              "      <td>2</td>\n",
              "      <td>0</td>\n",
              "    </tr>\n",
              "    <tr>\n",
              "      <th>3</th>\n",
              "      <td>200000.0</td>\n",
              "      <td>7822.00</td>\n",
              "      <td>0.0</td>\n",
              "      <td>0.0</td>\n",
              "      <td>0.0</td>\n",
              "      <td>0.0</td>\n",
              "      <td>0</td>\n",
              "      <td>0</td>\n",
              "      <td>0</td>\n",
              "    </tr>\n",
              "    <tr>\n",
              "      <th>4</th>\n",
              "      <td>500000.0</td>\n",
              "      <td>11204.25</td>\n",
              "      <td>0.0</td>\n",
              "      <td>0.0</td>\n",
              "      <td>0.0</td>\n",
              "      <td>0.0</td>\n",
              "      <td>0</td>\n",
              "      <td>0</td>\n",
              "      <td>0</td>\n",
              "    </tr>\n",
              "  </tbody>\n",
              "</table>\n",
              "</div>\n",
              "      <button class=\"colab-df-convert\" onclick=\"convertToInteractive('df-b0d515d7-46cf-4cbe-9007-8dddcf469c69')\"\n",
              "              title=\"Convert this dataframe to an interactive table.\"\n",
              "              style=\"display:none;\">\n",
              "        \n",
              "  <svg xmlns=\"http://www.w3.org/2000/svg\" height=\"24px\"viewBox=\"0 0 24 24\"\n",
              "       width=\"24px\">\n",
              "    <path d=\"M0 0h24v24H0V0z\" fill=\"none\"/>\n",
              "    <path d=\"M18.56 5.44l.94 2.06.94-2.06 2.06-.94-2.06-.94-.94-2.06-.94 2.06-2.06.94zm-11 1L8.5 8.5l.94-2.06 2.06-.94-2.06-.94L8.5 2.5l-.94 2.06-2.06.94zm10 10l.94 2.06.94-2.06 2.06-.94-2.06-.94-.94-2.06-.94 2.06-2.06.94z\"/><path d=\"M17.41 7.96l-1.37-1.37c-.4-.4-.92-.59-1.43-.59-.52 0-1.04.2-1.43.59L10.3 9.45l-7.72 7.72c-.78.78-.78 2.05 0 2.83L4 21.41c.39.39.9.59 1.41.59.51 0 1.02-.2 1.41-.59l7.78-7.78 2.81-2.81c.8-.78.8-2.07 0-2.86zM5.41 20L4 18.59l7.72-7.72 1.47 1.35L5.41 20z\"/>\n",
              "  </svg>\n",
              "      </button>\n",
              "      \n",
              "  <style>\n",
              "    .colab-df-container {\n",
              "      display:flex;\n",
              "      flex-wrap:wrap;\n",
              "      gap: 12px;\n",
              "    }\n",
              "\n",
              "    .colab-df-convert {\n",
              "      background-color: #E8F0FE;\n",
              "      border: none;\n",
              "      border-radius: 50%;\n",
              "      cursor: pointer;\n",
              "      display: none;\n",
              "      fill: #1967D2;\n",
              "      height: 32px;\n",
              "      padding: 0 0 0 0;\n",
              "      width: 32px;\n",
              "    }\n",
              "\n",
              "    .colab-df-convert:hover {\n",
              "      background-color: #E2EBFA;\n",
              "      box-shadow: 0px 1px 2px rgba(60, 64, 67, 0.3), 0px 1px 3px 1px rgba(60, 64, 67, 0.15);\n",
              "      fill: #174EA6;\n",
              "    }\n",
              "\n",
              "    [theme=dark] .colab-df-convert {\n",
              "      background-color: #3B4455;\n",
              "      fill: #D2E3FC;\n",
              "    }\n",
              "\n",
              "    [theme=dark] .colab-df-convert:hover {\n",
              "      background-color: #434B5C;\n",
              "      box-shadow: 0px 1px 3px 1px rgba(0, 0, 0, 0.15);\n",
              "      filter: drop-shadow(0px 1px 2px rgba(0, 0, 0, 0.3));\n",
              "      fill: #FFFFFF;\n",
              "    }\n",
              "  </style>\n",
              "\n",
              "      <script>\n",
              "        const buttonEl =\n",
              "          document.querySelector('#df-b0d515d7-46cf-4cbe-9007-8dddcf469c69 button.colab-df-convert');\n",
              "        buttonEl.style.display =\n",
              "          google.colab.kernel.accessAllowed ? 'block' : 'none';\n",
              "\n",
              "        async function convertToInteractive(key) {\n",
              "          const element = document.querySelector('#df-b0d515d7-46cf-4cbe-9007-8dddcf469c69');\n",
              "          const dataTable =\n",
              "            await google.colab.kernel.invokeFunction('convertToInteractive',\n",
              "                                                     [key], {});\n",
              "          if (!dataTable) return;\n",
              "\n",
              "          const docLinkHtml = 'Like what you see? Visit the ' +\n",
              "            '<a target=\"_blank\" href=https://colab.research.google.com/notebooks/data_table.ipynb>data table notebook</a>'\n",
              "            + ' to learn more about interactive tables.';\n",
              "          element.innerHTML = '';\n",
              "          dataTable['output_type'] = 'display_data';\n",
              "          await google.colab.output.renderOutput(dataTable, element);\n",
              "          const docLink = document.createElement('div');\n",
              "          docLink.innerHTML = docLinkHtml;\n",
              "          element.appendChild(docLink);\n",
              "        }\n",
              "      </script>\n",
              "    </div>\n",
              "  </div>\n",
              "  "
            ]
          },
          "metadata": {},
          "execution_count": 47
        }
      ],
      "source": [
        "df_final = pd.concat([df_num_cleaned.reset_index(drop=True), df_cat.reset_index(drop=True)], axis=1)\n",
        "df_final.head()"
      ]
    },
    {
      "cell_type": "markdown",
      "source": [
        "Memisahkan x dan y"
      ],
      "metadata": {
        "id": "hM7igQhiI1S4"
      }
    },
    {
      "cell_type": "code",
      "execution_count": 48,
      "metadata": {
        "id": "F2mA6pcBnQ3h"
      },
      "outputs": [],
      "source": [
        "X = df_final.drop('default_payment_next_month',axis=1)\n",
        "y = df_final['default_payment_next_month']"
      ]
    },
    {
      "cell_type": "code",
      "execution_count": 49,
      "metadata": {
        "id": "tZMRUKpgy7pG"
      },
      "outputs": [],
      "source": [
        "X_train, X_test, y_train, y_test = train_test_split(X, y, test_size=0.3, random_state=17)"
      ]
    },
    {
      "cell_type": "markdown",
      "source": [
        "### Scaling"
      ],
      "metadata": {
        "id": "A5HoKSp-lLDS"
      }
    },
    {
      "cell_type": "markdown",
      "source": [
        "Melakukan scaling dengan MinMaxScaler karena distribusi datanya tidak normal pada kolom 'pay_amt_1'. Scaling dilakukan dengan tujuan agar model tidak bingung jika membaca nilai dari sebuah value karena sudah dibuat menjadi rentang skala yang lebih kecil"
      ],
      "metadata": {
        "id": "XQLsFKgcI6J6"
      }
    },
    {
      "cell_type": "code",
      "execution_count": 50,
      "metadata": {
        "id": "hy6jXdsYidf5"
      },
      "outputs": [],
      "source": [
        "num_col = ['limit_balance', 'pay_amt_1']\n",
        "scaler = MinMaxScaler()\n",
        "\n",
        "num_scaled = pd.DataFrame(scaler.fit_transform(df_final[num_col]))\n",
        "num_scaled.columns = num_col\n",
        "\n",
        "df_final.drop(num_col, axis=1, inplace=True)\n",
        "df_final = pd.concat([df_final, num_scaled], axis=1)"
      ]
    },
    {
      "cell_type": "code",
      "execution_count": 51,
      "metadata": {
        "colab": {
          "base_uri": "https://localhost:8080/",
          "height": 0
        },
        "id": "NLxqZ3_zmRSs",
        "outputId": "1c379bc8-8295-448b-a50f-91a110695f8c"
      },
      "outputs": [
        {
          "output_type": "execute_result",
          "data": {
            "text/plain": [
              "   pay_0  pay_2  pay_3  pay_4  pay_5  pay_6  default_payment_next_month  \\\n",
              "0    0.0    0.0    0.0    0.0      0      0                           0   \n",
              "1    0.0    0.0    0.0    0.0      0      0                           1   \n",
              "2    0.0    0.0    0.0    0.0      0      2                           0   \n",
              "3    0.0    0.0    0.0    0.0      0      0                           0   \n",
              "4    0.0    0.0    0.0    0.0      0      0                           0   \n",
              "\n",
              "   limit_balance  pay_amt_1  \n",
              "0       0.151899   0.257581  \n",
              "1       0.278481   0.839414  \n",
              "2       0.050633   0.179128  \n",
              "3       0.240506   0.698128  \n",
              "4       0.620253   1.000000  "
            ],
            "text/html": [
              "\n",
              "  <div id=\"df-69eefe5d-d104-4baf-b4a8-48ea724f59d4\">\n",
              "    <div class=\"colab-df-container\">\n",
              "      <div>\n",
              "<style scoped>\n",
              "    .dataframe tbody tr th:only-of-type {\n",
              "        vertical-align: middle;\n",
              "    }\n",
              "\n",
              "    .dataframe tbody tr th {\n",
              "        vertical-align: top;\n",
              "    }\n",
              "\n",
              "    .dataframe thead th {\n",
              "        text-align: right;\n",
              "    }\n",
              "</style>\n",
              "<table border=\"1\" class=\"dataframe\">\n",
              "  <thead>\n",
              "    <tr style=\"text-align: right;\">\n",
              "      <th></th>\n",
              "      <th>pay_0</th>\n",
              "      <th>pay_2</th>\n",
              "      <th>pay_3</th>\n",
              "      <th>pay_4</th>\n",
              "      <th>pay_5</th>\n",
              "      <th>pay_6</th>\n",
              "      <th>default_payment_next_month</th>\n",
              "      <th>limit_balance</th>\n",
              "      <th>pay_amt_1</th>\n",
              "    </tr>\n",
              "  </thead>\n",
              "  <tbody>\n",
              "    <tr>\n",
              "      <th>0</th>\n",
              "      <td>0.0</td>\n",
              "      <td>0.0</td>\n",
              "      <td>0.0</td>\n",
              "      <td>0.0</td>\n",
              "      <td>0</td>\n",
              "      <td>0</td>\n",
              "      <td>0</td>\n",
              "      <td>0.151899</td>\n",
              "      <td>0.257581</td>\n",
              "    </tr>\n",
              "    <tr>\n",
              "      <th>1</th>\n",
              "      <td>0.0</td>\n",
              "      <td>0.0</td>\n",
              "      <td>0.0</td>\n",
              "      <td>0.0</td>\n",
              "      <td>0</td>\n",
              "      <td>0</td>\n",
              "      <td>1</td>\n",
              "      <td>0.278481</td>\n",
              "      <td>0.839414</td>\n",
              "    </tr>\n",
              "    <tr>\n",
              "      <th>2</th>\n",
              "      <td>0.0</td>\n",
              "      <td>0.0</td>\n",
              "      <td>0.0</td>\n",
              "      <td>0.0</td>\n",
              "      <td>0</td>\n",
              "      <td>2</td>\n",
              "      <td>0</td>\n",
              "      <td>0.050633</td>\n",
              "      <td>0.179128</td>\n",
              "    </tr>\n",
              "    <tr>\n",
              "      <th>3</th>\n",
              "      <td>0.0</td>\n",
              "      <td>0.0</td>\n",
              "      <td>0.0</td>\n",
              "      <td>0.0</td>\n",
              "      <td>0</td>\n",
              "      <td>0</td>\n",
              "      <td>0</td>\n",
              "      <td>0.240506</td>\n",
              "      <td>0.698128</td>\n",
              "    </tr>\n",
              "    <tr>\n",
              "      <th>4</th>\n",
              "      <td>0.0</td>\n",
              "      <td>0.0</td>\n",
              "      <td>0.0</td>\n",
              "      <td>0.0</td>\n",
              "      <td>0</td>\n",
              "      <td>0</td>\n",
              "      <td>0</td>\n",
              "      <td>0.620253</td>\n",
              "      <td>1.000000</td>\n",
              "    </tr>\n",
              "  </tbody>\n",
              "</table>\n",
              "</div>\n",
              "      <button class=\"colab-df-convert\" onclick=\"convertToInteractive('df-69eefe5d-d104-4baf-b4a8-48ea724f59d4')\"\n",
              "              title=\"Convert this dataframe to an interactive table.\"\n",
              "              style=\"display:none;\">\n",
              "        \n",
              "  <svg xmlns=\"http://www.w3.org/2000/svg\" height=\"24px\"viewBox=\"0 0 24 24\"\n",
              "       width=\"24px\">\n",
              "    <path d=\"M0 0h24v24H0V0z\" fill=\"none\"/>\n",
              "    <path d=\"M18.56 5.44l.94 2.06.94-2.06 2.06-.94-2.06-.94-.94-2.06-.94 2.06-2.06.94zm-11 1L8.5 8.5l.94-2.06 2.06-.94-2.06-.94L8.5 2.5l-.94 2.06-2.06.94zm10 10l.94 2.06.94-2.06 2.06-.94-2.06-.94-.94-2.06-.94 2.06-2.06.94z\"/><path d=\"M17.41 7.96l-1.37-1.37c-.4-.4-.92-.59-1.43-.59-.52 0-1.04.2-1.43.59L10.3 9.45l-7.72 7.72c-.78.78-.78 2.05 0 2.83L4 21.41c.39.39.9.59 1.41.59.51 0 1.02-.2 1.41-.59l7.78-7.78 2.81-2.81c.8-.78.8-2.07 0-2.86zM5.41 20L4 18.59l7.72-7.72 1.47 1.35L5.41 20z\"/>\n",
              "  </svg>\n",
              "      </button>\n",
              "      \n",
              "  <style>\n",
              "    .colab-df-container {\n",
              "      display:flex;\n",
              "      flex-wrap:wrap;\n",
              "      gap: 12px;\n",
              "    }\n",
              "\n",
              "    .colab-df-convert {\n",
              "      background-color: #E8F0FE;\n",
              "      border: none;\n",
              "      border-radius: 50%;\n",
              "      cursor: pointer;\n",
              "      display: none;\n",
              "      fill: #1967D2;\n",
              "      height: 32px;\n",
              "      padding: 0 0 0 0;\n",
              "      width: 32px;\n",
              "    }\n",
              "\n",
              "    .colab-df-convert:hover {\n",
              "      background-color: #E2EBFA;\n",
              "      box-shadow: 0px 1px 2px rgba(60, 64, 67, 0.3), 0px 1px 3px 1px rgba(60, 64, 67, 0.15);\n",
              "      fill: #174EA6;\n",
              "    }\n",
              "\n",
              "    [theme=dark] .colab-df-convert {\n",
              "      background-color: #3B4455;\n",
              "      fill: #D2E3FC;\n",
              "    }\n",
              "\n",
              "    [theme=dark] .colab-df-convert:hover {\n",
              "      background-color: #434B5C;\n",
              "      box-shadow: 0px 1px 3px 1px rgba(0, 0, 0, 0.15);\n",
              "      filter: drop-shadow(0px 1px 2px rgba(0, 0, 0, 0.3));\n",
              "      fill: #FFFFFF;\n",
              "    }\n",
              "  </style>\n",
              "\n",
              "      <script>\n",
              "        const buttonEl =\n",
              "          document.querySelector('#df-69eefe5d-d104-4baf-b4a8-48ea724f59d4 button.colab-df-convert');\n",
              "        buttonEl.style.display =\n",
              "          google.colab.kernel.accessAllowed ? 'block' : 'none';\n",
              "\n",
              "        async function convertToInteractive(key) {\n",
              "          const element = document.querySelector('#df-69eefe5d-d104-4baf-b4a8-48ea724f59d4');\n",
              "          const dataTable =\n",
              "            await google.colab.kernel.invokeFunction('convertToInteractive',\n",
              "                                                     [key], {});\n",
              "          if (!dataTable) return;\n",
              "\n",
              "          const docLinkHtml = 'Like what you see? Visit the ' +\n",
              "            '<a target=\"_blank\" href=https://colab.research.google.com/notebooks/data_table.ipynb>data table notebook</a>'\n",
              "            + ' to learn more about interactive tables.';\n",
              "          element.innerHTML = '';\n",
              "          dataTable['output_type'] = 'display_data';\n",
              "          await google.colab.output.renderOutput(dataTable, element);\n",
              "          const docLink = document.createElement('div');\n",
              "          docLink.innerHTML = docLinkHtml;\n",
              "          element.appendChild(docLink);\n",
              "        }\n",
              "      </script>\n",
              "    </div>\n",
              "  </div>\n",
              "  "
            ]
          },
          "metadata": {},
          "execution_count": 51
        }
      ],
      "source": [
        "df_final.head()"
      ]
    },
    {
      "cell_type": "markdown",
      "metadata": {
        "id": "eZllFy4WirLO"
      },
      "source": [
        "## Data PreProcessing"
      ]
    },
    {
      "cell_type": "markdown",
      "source": [
        "Melakukan Handling Outlier dan juga Scaling seperti yang sudah dilakukan sebelumnya, namun kali ini dilakukan pada data testing yang nantinya akan menjadi Test Set yang akan dipakai oleh model yang dibuat"
      ],
      "metadata": {
        "id": "oFWHnb3pKjXy"
      }
    },
    {
      "cell_type": "code",
      "execution_count": 52,
      "metadata": {
        "id": "YT5KM7IXoiL9"
      },
      "outputs": [],
      "source": [
        "testing  = pd.concat([X_test, y_test],axis = 1)"
      ]
    },
    {
      "cell_type": "code",
      "execution_count": 53,
      "metadata": {
        "colab": {
          "base_uri": "https://localhost:8080/",
          "height": 0
        },
        "id": "AzhwmZPQvqXd",
        "outputId": "0a7175ea-8ca8-4938-c114-fc92648380e5"
      },
      "outputs": [
        {
          "output_type": "execute_result",
          "data": {
            "text/plain": [
              "      limit_balance  pay_amt_1  pay_0  pay_2  pay_3  pay_4  pay_5  pay_6  \\\n",
              "91         180000.0    7187.00    0.0    0.0    0.0    0.0      0      0   \n",
              "325         20000.0    1318.00    0.0    0.0    0.0    0.0      0      0   \n",
              "47         240000.0    8000.00    0.0    0.0    0.0    0.0      0      0   \n",
              "2847       240000.0   11204.25   -1.0   -1.0    0.0   -1.0     -1     -1   \n",
              "446        150000.0    2000.00    0.0    0.0    0.0    0.0      0      0   \n",
              "\n",
              "      default_payment_next_month  \n",
              "91                             0  \n",
              "325                            0  \n",
              "47                             0  \n",
              "2847                           1  \n",
              "446                            0  "
            ],
            "text/html": [
              "\n",
              "  <div id=\"df-5b3be8f1-ca2b-4102-8c46-4923bcb3d092\">\n",
              "    <div class=\"colab-df-container\">\n",
              "      <div>\n",
              "<style scoped>\n",
              "    .dataframe tbody tr th:only-of-type {\n",
              "        vertical-align: middle;\n",
              "    }\n",
              "\n",
              "    .dataframe tbody tr th {\n",
              "        vertical-align: top;\n",
              "    }\n",
              "\n",
              "    .dataframe thead th {\n",
              "        text-align: right;\n",
              "    }\n",
              "</style>\n",
              "<table border=\"1\" class=\"dataframe\">\n",
              "  <thead>\n",
              "    <tr style=\"text-align: right;\">\n",
              "      <th></th>\n",
              "      <th>limit_balance</th>\n",
              "      <th>pay_amt_1</th>\n",
              "      <th>pay_0</th>\n",
              "      <th>pay_2</th>\n",
              "      <th>pay_3</th>\n",
              "      <th>pay_4</th>\n",
              "      <th>pay_5</th>\n",
              "      <th>pay_6</th>\n",
              "      <th>default_payment_next_month</th>\n",
              "    </tr>\n",
              "  </thead>\n",
              "  <tbody>\n",
              "    <tr>\n",
              "      <th>91</th>\n",
              "      <td>180000.0</td>\n",
              "      <td>7187.00</td>\n",
              "      <td>0.0</td>\n",
              "      <td>0.0</td>\n",
              "      <td>0.0</td>\n",
              "      <td>0.0</td>\n",
              "      <td>0</td>\n",
              "      <td>0</td>\n",
              "      <td>0</td>\n",
              "    </tr>\n",
              "    <tr>\n",
              "      <th>325</th>\n",
              "      <td>20000.0</td>\n",
              "      <td>1318.00</td>\n",
              "      <td>0.0</td>\n",
              "      <td>0.0</td>\n",
              "      <td>0.0</td>\n",
              "      <td>0.0</td>\n",
              "      <td>0</td>\n",
              "      <td>0</td>\n",
              "      <td>0</td>\n",
              "    </tr>\n",
              "    <tr>\n",
              "      <th>47</th>\n",
              "      <td>240000.0</td>\n",
              "      <td>8000.00</td>\n",
              "      <td>0.0</td>\n",
              "      <td>0.0</td>\n",
              "      <td>0.0</td>\n",
              "      <td>0.0</td>\n",
              "      <td>0</td>\n",
              "      <td>0</td>\n",
              "      <td>0</td>\n",
              "    </tr>\n",
              "    <tr>\n",
              "      <th>2847</th>\n",
              "      <td>240000.0</td>\n",
              "      <td>11204.25</td>\n",
              "      <td>-1.0</td>\n",
              "      <td>-1.0</td>\n",
              "      <td>0.0</td>\n",
              "      <td>-1.0</td>\n",
              "      <td>-1</td>\n",
              "      <td>-1</td>\n",
              "      <td>1</td>\n",
              "    </tr>\n",
              "    <tr>\n",
              "      <th>446</th>\n",
              "      <td>150000.0</td>\n",
              "      <td>2000.00</td>\n",
              "      <td>0.0</td>\n",
              "      <td>0.0</td>\n",
              "      <td>0.0</td>\n",
              "      <td>0.0</td>\n",
              "      <td>0</td>\n",
              "      <td>0</td>\n",
              "      <td>0</td>\n",
              "    </tr>\n",
              "  </tbody>\n",
              "</table>\n",
              "</div>\n",
              "      <button class=\"colab-df-convert\" onclick=\"convertToInteractive('df-5b3be8f1-ca2b-4102-8c46-4923bcb3d092')\"\n",
              "              title=\"Convert this dataframe to an interactive table.\"\n",
              "              style=\"display:none;\">\n",
              "        \n",
              "  <svg xmlns=\"http://www.w3.org/2000/svg\" height=\"24px\"viewBox=\"0 0 24 24\"\n",
              "       width=\"24px\">\n",
              "    <path d=\"M0 0h24v24H0V0z\" fill=\"none\"/>\n",
              "    <path d=\"M18.56 5.44l.94 2.06.94-2.06 2.06-.94-2.06-.94-.94-2.06-.94 2.06-2.06.94zm-11 1L8.5 8.5l.94-2.06 2.06-.94-2.06-.94L8.5 2.5l-.94 2.06-2.06.94zm10 10l.94 2.06.94-2.06 2.06-.94-2.06-.94-.94-2.06-.94 2.06-2.06.94z\"/><path d=\"M17.41 7.96l-1.37-1.37c-.4-.4-.92-.59-1.43-.59-.52 0-1.04.2-1.43.59L10.3 9.45l-7.72 7.72c-.78.78-.78 2.05 0 2.83L4 21.41c.39.39.9.59 1.41.59.51 0 1.02-.2 1.41-.59l7.78-7.78 2.81-2.81c.8-.78.8-2.07 0-2.86zM5.41 20L4 18.59l7.72-7.72 1.47 1.35L5.41 20z\"/>\n",
              "  </svg>\n",
              "      </button>\n",
              "      \n",
              "  <style>\n",
              "    .colab-df-container {\n",
              "      display:flex;\n",
              "      flex-wrap:wrap;\n",
              "      gap: 12px;\n",
              "    }\n",
              "\n",
              "    .colab-df-convert {\n",
              "      background-color: #E8F0FE;\n",
              "      border: none;\n",
              "      border-radius: 50%;\n",
              "      cursor: pointer;\n",
              "      display: none;\n",
              "      fill: #1967D2;\n",
              "      height: 32px;\n",
              "      padding: 0 0 0 0;\n",
              "      width: 32px;\n",
              "    }\n",
              "\n",
              "    .colab-df-convert:hover {\n",
              "      background-color: #E2EBFA;\n",
              "      box-shadow: 0px 1px 2px rgba(60, 64, 67, 0.3), 0px 1px 3px 1px rgba(60, 64, 67, 0.15);\n",
              "      fill: #174EA6;\n",
              "    }\n",
              "\n",
              "    [theme=dark] .colab-df-convert {\n",
              "      background-color: #3B4455;\n",
              "      fill: #D2E3FC;\n",
              "    }\n",
              "\n",
              "    [theme=dark] .colab-df-convert:hover {\n",
              "      background-color: #434B5C;\n",
              "      box-shadow: 0px 1px 3px 1px rgba(0, 0, 0, 0.15);\n",
              "      filter: drop-shadow(0px 1px 2px rgba(0, 0, 0, 0.3));\n",
              "      fill: #FFFFFF;\n",
              "    }\n",
              "  </style>\n",
              "\n",
              "      <script>\n",
              "        const buttonEl =\n",
              "          document.querySelector('#df-5b3be8f1-ca2b-4102-8c46-4923bcb3d092 button.colab-df-convert');\n",
              "        buttonEl.style.display =\n",
              "          google.colab.kernel.accessAllowed ? 'block' : 'none';\n",
              "\n",
              "        async function convertToInteractive(key) {\n",
              "          const element = document.querySelector('#df-5b3be8f1-ca2b-4102-8c46-4923bcb3d092');\n",
              "          const dataTable =\n",
              "            await google.colab.kernel.invokeFunction('convertToInteractive',\n",
              "                                                     [key], {});\n",
              "          if (!dataTable) return;\n",
              "\n",
              "          const docLinkHtml = 'Like what you see? Visit the ' +\n",
              "            '<a target=\"_blank\" href=https://colab.research.google.com/notebooks/data_table.ipynb>data table notebook</a>'\n",
              "            + ' to learn more about interactive tables.';\n",
              "          element.innerHTML = '';\n",
              "          dataTable['output_type'] = 'display_data';\n",
              "          await google.colab.output.renderOutput(dataTable, element);\n",
              "          const docLink = document.createElement('div');\n",
              "          docLink.innerHTML = docLinkHtml;\n",
              "          element.appendChild(docLink);\n",
              "        }\n",
              "      </script>\n",
              "    </div>\n",
              "  </div>\n",
              "  "
            ]
          },
          "metadata": {},
          "execution_count": 53
        }
      ],
      "source": [
        "testing.head()"
      ]
    },
    {
      "cell_type": "code",
      "execution_count": 54,
      "metadata": {
        "colab": {
          "base_uri": "https://localhost:8080/"
        },
        "id": "Qqam0LERxMy4",
        "outputId": "42f9d477-2a48-4d8e-e70d-98ff93c0e3cf"
      },
      "outputs": [
        {
          "output_type": "execute_result",
          "data": {
            "text/plain": [
              "['limit_balance', 'pay_amt_1']"
            ]
          },
          "metadata": {},
          "execution_count": 54
        }
      ],
      "source": [
        "num_col"
      ]
    },
    {
      "cell_type": "code",
      "execution_count": 55,
      "metadata": {
        "id": "Yzm1PSDTLPGB"
      },
      "outputs": [],
      "source": [
        "testing[num_col] = wins.transform(testing[num_col])\n"
      ]
    },
    {
      "cell_type": "code",
      "execution_count": 56,
      "metadata": {
        "colab": {
          "base_uri": "https://localhost:8080/",
          "height": 0
        },
        "id": "nO74TDFpwCMc",
        "outputId": "01821563-598e-4c01-bfaa-ed28f83635bd"
      },
      "outputs": [
        {
          "output_type": "execute_result",
          "data": {
            "text/plain": [
              "      limit_balance  pay_amt_1  pay_0  pay_2  pay_3  pay_4  pay_5  pay_6  \\\n",
              "91         0.215190   0.641453    0.0    0.0    0.0    0.0      0      0   \n",
              "325        0.012658   0.117634    0.0    0.0    0.0    0.0      0      0   \n",
              "47         0.291139   0.714015    0.0    0.0    0.0    0.0      0      0   \n",
              "2847       0.291139   1.000000   -1.0   -1.0    0.0   -1.0     -1     -1   \n",
              "446        0.177215   0.178504    0.0    0.0    0.0    0.0      0      0   \n",
              "...             ...        ...    ...    ...    ...    ...    ...    ...   \n",
              "1245       0.050633   0.143249    0.0    0.0    0.0    0.0      2      0   \n",
              "2498       0.367089   0.131379    0.0    0.0    0.0   -1.0     -1      2   \n",
              "2725       0.189873   0.939643   -1.0   -1.0   -1.0   -1.0     -1     -1   \n",
              "1853       0.101266   0.365933    2.0    0.0    0.0    2.0      0      0   \n",
              "2397       0.139241   0.000000    1.0   -2.0   -2.0   -2.0     -1     -1   \n",
              "\n",
              "      default_payment_next_month  \n",
              "91                             0  \n",
              "325                            0  \n",
              "47                             0  \n",
              "2847                           1  \n",
              "446                            0  \n",
              "...                          ...  \n",
              "1245                           0  \n",
              "2498                           0  \n",
              "2725                           0  \n",
              "1853                           1  \n",
              "2397                           1  \n",
              "\n",
              "[890 rows x 9 columns]"
            ],
            "text/html": [
              "\n",
              "  <div id=\"df-96cfa97a-ac19-4d4a-bc66-00ff7dc967c0\">\n",
              "    <div class=\"colab-df-container\">\n",
              "      <div>\n",
              "<style scoped>\n",
              "    .dataframe tbody tr th:only-of-type {\n",
              "        vertical-align: middle;\n",
              "    }\n",
              "\n",
              "    .dataframe tbody tr th {\n",
              "        vertical-align: top;\n",
              "    }\n",
              "\n",
              "    .dataframe thead th {\n",
              "        text-align: right;\n",
              "    }\n",
              "</style>\n",
              "<table border=\"1\" class=\"dataframe\">\n",
              "  <thead>\n",
              "    <tr style=\"text-align: right;\">\n",
              "      <th></th>\n",
              "      <th>limit_balance</th>\n",
              "      <th>pay_amt_1</th>\n",
              "      <th>pay_0</th>\n",
              "      <th>pay_2</th>\n",
              "      <th>pay_3</th>\n",
              "      <th>pay_4</th>\n",
              "      <th>pay_5</th>\n",
              "      <th>pay_6</th>\n",
              "      <th>default_payment_next_month</th>\n",
              "    </tr>\n",
              "  </thead>\n",
              "  <tbody>\n",
              "    <tr>\n",
              "      <th>91</th>\n",
              "      <td>0.215190</td>\n",
              "      <td>0.641453</td>\n",
              "      <td>0.0</td>\n",
              "      <td>0.0</td>\n",
              "      <td>0.0</td>\n",
              "      <td>0.0</td>\n",
              "      <td>0</td>\n",
              "      <td>0</td>\n",
              "      <td>0</td>\n",
              "    </tr>\n",
              "    <tr>\n",
              "      <th>325</th>\n",
              "      <td>0.012658</td>\n",
              "      <td>0.117634</td>\n",
              "      <td>0.0</td>\n",
              "      <td>0.0</td>\n",
              "      <td>0.0</td>\n",
              "      <td>0.0</td>\n",
              "      <td>0</td>\n",
              "      <td>0</td>\n",
              "      <td>0</td>\n",
              "    </tr>\n",
              "    <tr>\n",
              "      <th>47</th>\n",
              "      <td>0.291139</td>\n",
              "      <td>0.714015</td>\n",
              "      <td>0.0</td>\n",
              "      <td>0.0</td>\n",
              "      <td>0.0</td>\n",
              "      <td>0.0</td>\n",
              "      <td>0</td>\n",
              "      <td>0</td>\n",
              "      <td>0</td>\n",
              "    </tr>\n",
              "    <tr>\n",
              "      <th>2847</th>\n",
              "      <td>0.291139</td>\n",
              "      <td>1.000000</td>\n",
              "      <td>-1.0</td>\n",
              "      <td>-1.0</td>\n",
              "      <td>0.0</td>\n",
              "      <td>-1.0</td>\n",
              "      <td>-1</td>\n",
              "      <td>-1</td>\n",
              "      <td>1</td>\n",
              "    </tr>\n",
              "    <tr>\n",
              "      <th>446</th>\n",
              "      <td>0.177215</td>\n",
              "      <td>0.178504</td>\n",
              "      <td>0.0</td>\n",
              "      <td>0.0</td>\n",
              "      <td>0.0</td>\n",
              "      <td>0.0</td>\n",
              "      <td>0</td>\n",
              "      <td>0</td>\n",
              "      <td>0</td>\n",
              "    </tr>\n",
              "    <tr>\n",
              "      <th>...</th>\n",
              "      <td>...</td>\n",
              "      <td>...</td>\n",
              "      <td>...</td>\n",
              "      <td>...</td>\n",
              "      <td>...</td>\n",
              "      <td>...</td>\n",
              "      <td>...</td>\n",
              "      <td>...</td>\n",
              "      <td>...</td>\n",
              "    </tr>\n",
              "    <tr>\n",
              "      <th>1245</th>\n",
              "      <td>0.050633</td>\n",
              "      <td>0.143249</td>\n",
              "      <td>0.0</td>\n",
              "      <td>0.0</td>\n",
              "      <td>0.0</td>\n",
              "      <td>0.0</td>\n",
              "      <td>2</td>\n",
              "      <td>0</td>\n",
              "      <td>0</td>\n",
              "    </tr>\n",
              "    <tr>\n",
              "      <th>2498</th>\n",
              "      <td>0.367089</td>\n",
              "      <td>0.131379</td>\n",
              "      <td>0.0</td>\n",
              "      <td>0.0</td>\n",
              "      <td>0.0</td>\n",
              "      <td>-1.0</td>\n",
              "      <td>-1</td>\n",
              "      <td>2</td>\n",
              "      <td>0</td>\n",
              "    </tr>\n",
              "    <tr>\n",
              "      <th>2725</th>\n",
              "      <td>0.189873</td>\n",
              "      <td>0.939643</td>\n",
              "      <td>-1.0</td>\n",
              "      <td>-1.0</td>\n",
              "      <td>-1.0</td>\n",
              "      <td>-1.0</td>\n",
              "      <td>-1</td>\n",
              "      <td>-1</td>\n",
              "      <td>0</td>\n",
              "    </tr>\n",
              "    <tr>\n",
              "      <th>1853</th>\n",
              "      <td>0.101266</td>\n",
              "      <td>0.365933</td>\n",
              "      <td>2.0</td>\n",
              "      <td>0.0</td>\n",
              "      <td>0.0</td>\n",
              "      <td>2.0</td>\n",
              "      <td>0</td>\n",
              "      <td>0</td>\n",
              "      <td>1</td>\n",
              "    </tr>\n",
              "    <tr>\n",
              "      <th>2397</th>\n",
              "      <td>0.139241</td>\n",
              "      <td>0.000000</td>\n",
              "      <td>1.0</td>\n",
              "      <td>-2.0</td>\n",
              "      <td>-2.0</td>\n",
              "      <td>-2.0</td>\n",
              "      <td>-1</td>\n",
              "      <td>-1</td>\n",
              "      <td>1</td>\n",
              "    </tr>\n",
              "  </tbody>\n",
              "</table>\n",
              "<p>890 rows × 9 columns</p>\n",
              "</div>\n",
              "      <button class=\"colab-df-convert\" onclick=\"convertToInteractive('df-96cfa97a-ac19-4d4a-bc66-00ff7dc967c0')\"\n",
              "              title=\"Convert this dataframe to an interactive table.\"\n",
              "              style=\"display:none;\">\n",
              "        \n",
              "  <svg xmlns=\"http://www.w3.org/2000/svg\" height=\"24px\"viewBox=\"0 0 24 24\"\n",
              "       width=\"24px\">\n",
              "    <path d=\"M0 0h24v24H0V0z\" fill=\"none\"/>\n",
              "    <path d=\"M18.56 5.44l.94 2.06.94-2.06 2.06-.94-2.06-.94-.94-2.06-.94 2.06-2.06.94zm-11 1L8.5 8.5l.94-2.06 2.06-.94-2.06-.94L8.5 2.5l-.94 2.06-2.06.94zm10 10l.94 2.06.94-2.06 2.06-.94-2.06-.94-.94-2.06-.94 2.06-2.06.94z\"/><path d=\"M17.41 7.96l-1.37-1.37c-.4-.4-.92-.59-1.43-.59-.52 0-1.04.2-1.43.59L10.3 9.45l-7.72 7.72c-.78.78-.78 2.05 0 2.83L4 21.41c.39.39.9.59 1.41.59.51 0 1.02-.2 1.41-.59l7.78-7.78 2.81-2.81c.8-.78.8-2.07 0-2.86zM5.41 20L4 18.59l7.72-7.72 1.47 1.35L5.41 20z\"/>\n",
              "  </svg>\n",
              "      </button>\n",
              "      \n",
              "  <style>\n",
              "    .colab-df-container {\n",
              "      display:flex;\n",
              "      flex-wrap:wrap;\n",
              "      gap: 12px;\n",
              "    }\n",
              "\n",
              "    .colab-df-convert {\n",
              "      background-color: #E8F0FE;\n",
              "      border: none;\n",
              "      border-radius: 50%;\n",
              "      cursor: pointer;\n",
              "      display: none;\n",
              "      fill: #1967D2;\n",
              "      height: 32px;\n",
              "      padding: 0 0 0 0;\n",
              "      width: 32px;\n",
              "    }\n",
              "\n",
              "    .colab-df-convert:hover {\n",
              "      background-color: #E2EBFA;\n",
              "      box-shadow: 0px 1px 2px rgba(60, 64, 67, 0.3), 0px 1px 3px 1px rgba(60, 64, 67, 0.15);\n",
              "      fill: #174EA6;\n",
              "    }\n",
              "\n",
              "    [theme=dark] .colab-df-convert {\n",
              "      background-color: #3B4455;\n",
              "      fill: #D2E3FC;\n",
              "    }\n",
              "\n",
              "    [theme=dark] .colab-df-convert:hover {\n",
              "      background-color: #434B5C;\n",
              "      box-shadow: 0px 1px 3px 1px rgba(0, 0, 0, 0.15);\n",
              "      filter: drop-shadow(0px 1px 2px rgba(0, 0, 0, 0.3));\n",
              "      fill: #FFFFFF;\n",
              "    }\n",
              "  </style>\n",
              "\n",
              "      <script>\n",
              "        const buttonEl =\n",
              "          document.querySelector('#df-96cfa97a-ac19-4d4a-bc66-00ff7dc967c0 button.colab-df-convert');\n",
              "        buttonEl.style.display =\n",
              "          google.colab.kernel.accessAllowed ? 'block' : 'none';\n",
              "\n",
              "        async function convertToInteractive(key) {\n",
              "          const element = document.querySelector('#df-96cfa97a-ac19-4d4a-bc66-00ff7dc967c0');\n",
              "          const dataTable =\n",
              "            await google.colab.kernel.invokeFunction('convertToInteractive',\n",
              "                                                     [key], {});\n",
              "          if (!dataTable) return;\n",
              "\n",
              "          const docLinkHtml = 'Like what you see? Visit the ' +\n",
              "            '<a target=\"_blank\" href=https://colab.research.google.com/notebooks/data_table.ipynb>data table notebook</a>'\n",
              "            + ' to learn more about interactive tables.';\n",
              "          element.innerHTML = '';\n",
              "          dataTable['output_type'] = 'display_data';\n",
              "          await google.colab.output.renderOutput(dataTable, element);\n",
              "          const docLink = document.createElement('div');\n",
              "          docLink.innerHTML = docLinkHtml;\n",
              "          element.appendChild(docLink);\n",
              "        }\n",
              "      </script>\n",
              "    </div>\n",
              "  </div>\n",
              "  "
            ]
          },
          "metadata": {},
          "execution_count": 56
        }
      ],
      "source": [
        "testing[num_col] = scaler.transform(testing[num_col])\n",
        "testing"
      ]
    },
    {
      "cell_type": "markdown",
      "source": [
        "Memisahkan Train dan Test Set"
      ],
      "metadata": {
        "id": "AWigOSo8JsN2"
      }
    },
    {
      "cell_type": "code",
      "execution_count": 57,
      "metadata": {
        "id": "t4xJUNe7zZy-"
      },
      "outputs": [],
      "source": [
        "X_train = df_final.drop('default_payment_next_month',axis=1).copy()\n",
        "y_train = df_final['default_payment_next_month']\n",
        "\n",
        "X_test = testing.drop('default_payment_next_month',axis=1).copy()\n",
        "y_test = testing['default_payment_next_month']"
      ]
    },
    {
      "cell_type": "code",
      "execution_count": 58,
      "metadata": {
        "id": "6MyFYFl1PyVT"
      },
      "outputs": [],
      "source": [
        "X_train = X_train[['limit_balance',\n",
        " 'pay_amt_1',\n",
        " 'pay_0',\n",
        " 'pay_2',\n",
        " 'pay_3',\n",
        " 'pay_4',\n",
        " 'pay_5',\n",
        " 'pay_6'\n",
        "]]"
      ]
    },
    {
      "cell_type": "markdown",
      "metadata": {
        "id": "j9w7I2Jmzze1"
      },
      "source": [
        "## Cross Validation"
      ]
    },
    {
      "cell_type": "markdown",
      "source": [
        "Cross-validation (CV) adigunakan untuk mengevaluasi kinerja model. Tujuan penggunaan cross validation adalah untuk mengatahui model mana yang paling baik untuk dipakai. Disini saya akan mencoba 7 modeling dan melihat model mana yang paling baik ditinjau dari nilai rata-rata dan standar deviasi nya"
      ],
      "metadata": {
        "id": "DBrR2Ma7LLgg"
      }
    },
    {
      "cell_type": "markdown",
      "source": [
        "### Cross Validation for Each Model"
      ],
      "metadata": {
        "id": "tPp9_sKdL1Jh"
      }
    },
    {
      "cell_type": "markdown",
      "metadata": {
        "id": "ZXnA2PtS0oRG"
      },
      "source": [
        "#### Logistic Regression"
      ]
    },
    {
      "cell_type": "code",
      "execution_count": 59,
      "metadata": {
        "colab": {
          "base_uri": "https://localhost:8080/"
        },
        "id": "wAw1hle-1TRz",
        "outputId": "df77bb4b-5b3c-485f-e2e6-b3f29abc2dc6"
      },
      "outputs": [
        {
          "output_type": "stream",
          "name": "stdout",
          "text": [
            "Accuracy Score - All - Cross Validation  :  [0.79089376 0.8010118  0.85666105 0.80775717 0.81418919]\n",
            "Accuracy Score - Mean - Cross Validation :  0.8141025933184449\n",
            "Accuracy Score - Std - Cross Validation  :  0.022634100217524485\n"
          ]
        }
      ],
      "source": [
        "logreg_model = LogisticRegression()\n",
        "logreg_crossval = cross_val_score(logreg_model, \n",
        "                         X_train, \n",
        "                         y_train, \n",
        "                         cv=5, \n",
        "                         scoring='accuracy')\n",
        "\n",
        "print('Accuracy Score - All - Cross Validation  : ', logreg_crossval)\n",
        "print('Accuracy Score - Mean - Cross Validation : ', logreg_crossval.mean())\n",
        "print('Accuracy Score - Std - Cross Validation  : ', logreg_crossval.std())"
      ]
    },
    {
      "cell_type": "markdown",
      "metadata": {
        "id": "AVFF07rO0oTU"
      },
      "source": [
        "#### SVM"
      ]
    },
    {
      "cell_type": "code",
      "execution_count": 60,
      "metadata": {
        "colab": {
          "base_uri": "https://localhost:8080/"
        },
        "id": "en2_Sj1r2PvH",
        "outputId": "f5555f03-ad92-4303-c83d-153b77533ba0"
      },
      "outputs": [
        {
          "output_type": "stream",
          "name": "stdout",
          "text": [
            "Accuracy Score - All - Cross Validation  :  [0.80775717 0.83473862 0.85834739 0.30522766 0.7972973 ]\n",
            "Accuracy Score - Mean - Cross Validation :  0.7206736247208422\n",
            "Accuracy Score - Std - Cross Validation  :  0.2088132996554719\n"
          ]
        }
      ],
      "source": [
        "SVC_model = SVC()\n",
        "SVC_crossval = cross_val_score(SVC_model, \n",
        "                         X_train, \n",
        "                         y_train, \n",
        "                         cv=5, \n",
        "                         scoring='accuracy')\n",
        "\n",
        "print('Accuracy Score - All - Cross Validation  : ', SVC_crossval)\n",
        "print('Accuracy Score - Mean - Cross Validation : ', SVC_crossval.mean())\n",
        "print('Accuracy Score - Std - Cross Validation  : ', SVC_crossval.std())"
      ]
    },
    {
      "cell_type": "markdown",
      "metadata": {
        "id": "PGKbQYQb08lI"
      },
      "source": [
        "#### Decision Tree"
      ]
    },
    {
      "cell_type": "code",
      "execution_count": 61,
      "metadata": {
        "colab": {
          "base_uri": "https://localhost:8080/"
        },
        "id": "KRvjCqg92exf",
        "outputId": "6e95e97d-7393-43c3-83b2-a547923ef12d"
      },
      "outputs": [
        {
          "output_type": "stream",
          "name": "stdout",
          "text": [
            "Accrucary Score - All - Cross Validation  :  [0.75716695 0.75548061 0.78077572 0.26306914 0.74662162]\n",
            "Accrucary Score - Mean - Cross Validation :  0.6606228066177475\n",
            "Accrucary Score - Std - Cross Validation  :  0.19909807098058546\n"
          ]
        }
      ],
      "source": [
        "dtree_model = DecisionTreeClassifier()\n",
        "dtree_crossval = cross_val_score(dtree_model, \n",
        "                         X_train, \n",
        "                         y_train, \n",
        "                         cv=5, \n",
        "                         scoring='accuracy')\n",
        "\n",
        "print('Accrucary Score - All - Cross Validation  : ', dtree_crossval)\n",
        "print('Accrucary Score - Mean - Cross Validation : ', dtree_crossval.mean())\n",
        "print('Accrucary Score - Std - Cross Validation  : ', dtree_crossval.std())"
      ]
    },
    {
      "cell_type": "markdown",
      "metadata": {
        "id": "_34BceFd0-KC"
      },
      "source": [
        "#### KNN"
      ]
    },
    {
      "cell_type": "code",
      "execution_count": 62,
      "metadata": {
        "colab": {
          "base_uri": "https://localhost:8080/"
        },
        "id": "jpqs1oL-2sEW",
        "outputId": "7fd34a9e-cfe5-48dd-f7d7-550fe37e113a"
      },
      "outputs": [
        {
          "output_type": "stream",
          "name": "stdout",
          "text": [
            "Accrucary Score - All - Cross Validation  :  [0.79595278 0.81450253 0.82799325 0.39460371 0.81081081]\n",
            "Accrucary Score - Mean - Cross Validation :  0.7287726174741352\n",
            "Accrucary Score - Std - Cross Validation  :  0.16739572942399228\n"
          ]
        }
      ],
      "source": [
        "KNN_model = KNeighborsClassifier()\n",
        "KNN_crossval = cross_val_score(KNN_model, \n",
        "                         X_train, \n",
        "                         y_train, \n",
        "                         cv=5, \n",
        "                         scoring='accuracy')\n",
        "\n",
        "print('Accrucary Score - All - Cross Validation  : ', KNN_crossval)\n",
        "print('Accrucary Score - Mean - Cross Validation : ', KNN_crossval.mean())\n",
        "print('Accrucary Score - Std - Cross Validation  : ', KNN_crossval.std())"
      ]
    },
    {
      "cell_type": "markdown",
      "metadata": {
        "id": "pm4ETsBM1BNV"
      },
      "source": [
        "#### Naive Bayes"
      ]
    },
    {
      "cell_type": "code",
      "execution_count": 63,
      "metadata": {
        "colab": {
          "base_uri": "https://localhost:8080/"
        },
        "id": "gpSj0I3H3QIw",
        "outputId": "a3465c27-12f1-45d8-8f88-33f398621bfa"
      },
      "outputs": [
        {
          "output_type": "stream",
          "name": "stdout",
          "text": [
            "Accrucary Score - All - Cross Validation  :  [0.77234401 0.83136594 0.87015177 0.26812816 0.81418919]\n",
            "Accrucary Score - Mean - Cross Validation :  0.7112358142290688\n",
            "Accrucary Score - Std - Cross Validation  :  0.2237693135084175\n"
          ]
        }
      ],
      "source": [
        "NB_model = GaussianNB()\n",
        "NB_crossval = cross_val_score(NB_model, \n",
        "                         X_train, \n",
        "                         y_train, \n",
        "                         cv=5, \n",
        "                         scoring='accuracy')\n",
        "\n",
        "print('Accrucary Score - All - Cross Validation  : ', NB_crossval)\n",
        "print('Accrucary Score - Mean - Cross Validation : ', NB_crossval.mean())\n",
        "print('Accrucary Score - Std - Cross Validation  : ', NB_crossval.std())\n"
      ]
    },
    {
      "cell_type": "markdown",
      "metadata": {
        "id": "2fOvSvPV1FEw"
      },
      "source": [
        "#### Random Forest"
      ]
    },
    {
      "cell_type": "code",
      "execution_count": 64,
      "metadata": {
        "colab": {
          "base_uri": "https://localhost:8080/"
        },
        "id": "349qex_hz2rJ",
        "outputId": "9942d313-9b69-4d03-a81f-937ae7a09a2d"
      },
      "outputs": [
        {
          "output_type": "stream",
          "name": "stdout",
          "text": [
            "Accrucary Score - All - Cross Validation  :  [0.79595278 0.79089376 0.83473862 0.29510961 0.80912162]\n",
            "Accrucary Score - Mean - Cross Validation :  0.705163278793127\n",
            "Accrucary Score - Std - Cross Validation  :  0.2055886983169716\n"
          ]
        }
      ],
      "source": [
        "RF_model = RandomForestClassifier()\n",
        "RF_crossval = cross_val_score(RF_model, \n",
        "                         X_train, \n",
        "                         y_train, \n",
        "                         cv=5, \n",
        "                         scoring='accuracy')\n",
        "\n",
        "print('Accrucary Score - All - Cross Validation  : ', RF_crossval)\n",
        "print('Accrucary Score - Mean - Cross Validation : ', RF_crossval.mean())\n",
        "print('Accrucary Score - Std - Cross Validation  : ', RF_crossval.std())\n"
      ]
    },
    {
      "cell_type": "markdown",
      "metadata": {
        "id": "A7vzBN7SKAuo"
      },
      "source": [
        "#### Gradient Boosting\n",
        "\n"
      ]
    },
    {
      "cell_type": "code",
      "execution_count": 65,
      "metadata": {
        "colab": {
          "base_uri": "https://localhost:8080/"
        },
        "id": "v9BMO1M_KClu",
        "outputId": "e0fb0123-7575-49eb-c71d-fd66ae1a35d9"
      },
      "outputs": [
        {
          "output_type": "stream",
          "name": "stdout",
          "text": [
            "Accrucary Score - All - Cross Validation  :  [0.81281619 0.83305228 0.86846543 0.28330523 0.80067568]\n",
            "Accrucary Score - Mean - Cross Validation :  0.7196629597557085\n",
            "Accrucary Score - Std - Cross Validation  :  0.21938457872855388\n"
          ]
        }
      ],
      "source": [
        "gb_model = GradientBoostingClassifier()\n",
        "gb_crossval = cross_val_score(gb_model, \n",
        "                         X_train, \n",
        "                         y_train, \n",
        "                         cv=5, \n",
        "                         scoring='accuracy')\n",
        "\n",
        "print('Accrucary Score - All - Cross Validation  : ', gb_crossval)\n",
        "print('Accrucary Score - Mean - Cross Validation : ', gb_crossval.mean())\n",
        "print('Accrucary Score - Std - Cross Validation  : ', gb_crossval.std())"
      ]
    },
    {
      "cell_type": "markdown",
      "metadata": {
        "id": "0BNo8qXALO_W"
      },
      "source": [
        "#### AdaBoost"
      ]
    },
    {
      "cell_type": "code",
      "execution_count": 66,
      "metadata": {
        "colab": {
          "base_uri": "https://localhost:8080/"
        },
        "id": "gtPLoNGcKtqI",
        "outputId": "e35fd578-ecec-4d55-9113-2b7faf751c88"
      },
      "outputs": [
        {
          "output_type": "stream",
          "name": "stdout",
          "text": [
            "Accrucary Score - All - Cross Validation  :  [0.80269815 0.84148398 0.87183811 0.26812816 0.81925676]\n",
            "Accrucary Score - Mean - Cross Validation :  0.7206810309466297\n",
            "Accrucary Score - Std - Cross Validation  :  0.2274598405858915\n"
          ]
        }
      ],
      "source": [
        "adb_model = AdaBoostClassifier()\n",
        "adb_crossval = cross_val_score(adb_model, \n",
        "                         X_train, \n",
        "                         y_train, \n",
        "                         cv=5, \n",
        "                         scoring='accuracy')\n",
        "\n",
        "print('Accrucary Score - All - Cross Validation  : ', adb_crossval)\n",
        "print('Accrucary Score - Mean - Cross Validation : ', adb_crossval.mean())\n",
        "print('Accrucary Score - Std - Cross Validation  : ', adb_crossval.std())"
      ]
    },
    {
      "cell_type": "markdown",
      "source": [
        "### Best Model"
      ],
      "metadata": {
        "id": "bIybDspbmSRp"
      }
    },
    {
      "cell_type": "code",
      "source": [
        "crossval = [logreg_crossval,SVC_crossval,dtree_crossval,KNN_crossval,NB_crossval,RF_crossval, gb_crossval, adb_crossval]\n",
        "mean = []\n",
        "std = []\n",
        "for i in crossval:\n",
        "    mean.append(i.mean())\n",
        "    std.append(i.std())\n",
        "model = ['Logistic Regression', 'SVM', 'Decision Tree', 'KNN', 'Naive Bayes' ,'Random Forest','Gradient Boosting','AdaBoost']\n",
        "bestmodel = pd.DataFrame(model)\n",
        "bestmodel['Mean']=np.round(mean,2)\n",
        "bestmodel['Std']=np.round(std,2)\n",
        "bestmodel.rename(columns={0:'Model'},inplace = True)\n",
        "bestmodel.sort_values(by= 'Mean' , ascending = False).reset_index(drop=True)"
      ],
      "metadata": {
        "colab": {
          "base_uri": "https://localhost:8080/",
          "height": 0
        },
        "id": "xpef3yYSmUy-",
        "outputId": "315e397a-aa98-4d5d-bb40-ae235e774891"
      },
      "execution_count": 67,
      "outputs": [
        {
          "output_type": "execute_result",
          "data": {
            "text/plain": [
              "                 Model  Mean   Std\n",
              "0  Logistic Regression  0.81  0.02\n",
              "1                  KNN  0.73  0.17\n",
              "2                  SVM  0.72  0.21\n",
              "3    Gradient Boosting  0.72  0.22\n",
              "4             AdaBoost  0.72  0.23\n",
              "5          Naive Bayes  0.71  0.22\n",
              "6        Random Forest  0.71  0.21\n",
              "7        Decision Tree  0.66  0.20"
            ],
            "text/html": [
              "\n",
              "  <div id=\"df-75328e9c-61c6-4939-afed-ec9fb5b10e85\">\n",
              "    <div class=\"colab-df-container\">\n",
              "      <div>\n",
              "<style scoped>\n",
              "    .dataframe tbody tr th:only-of-type {\n",
              "        vertical-align: middle;\n",
              "    }\n",
              "\n",
              "    .dataframe tbody tr th {\n",
              "        vertical-align: top;\n",
              "    }\n",
              "\n",
              "    .dataframe thead th {\n",
              "        text-align: right;\n",
              "    }\n",
              "</style>\n",
              "<table border=\"1\" class=\"dataframe\">\n",
              "  <thead>\n",
              "    <tr style=\"text-align: right;\">\n",
              "      <th></th>\n",
              "      <th>Model</th>\n",
              "      <th>Mean</th>\n",
              "      <th>Std</th>\n",
              "    </tr>\n",
              "  </thead>\n",
              "  <tbody>\n",
              "    <tr>\n",
              "      <th>0</th>\n",
              "      <td>Logistic Regression</td>\n",
              "      <td>0.81</td>\n",
              "      <td>0.02</td>\n",
              "    </tr>\n",
              "    <tr>\n",
              "      <th>1</th>\n",
              "      <td>KNN</td>\n",
              "      <td>0.73</td>\n",
              "      <td>0.17</td>\n",
              "    </tr>\n",
              "    <tr>\n",
              "      <th>2</th>\n",
              "      <td>SVM</td>\n",
              "      <td>0.72</td>\n",
              "      <td>0.21</td>\n",
              "    </tr>\n",
              "    <tr>\n",
              "      <th>3</th>\n",
              "      <td>Gradient Boosting</td>\n",
              "      <td>0.72</td>\n",
              "      <td>0.22</td>\n",
              "    </tr>\n",
              "    <tr>\n",
              "      <th>4</th>\n",
              "      <td>AdaBoost</td>\n",
              "      <td>0.72</td>\n",
              "      <td>0.23</td>\n",
              "    </tr>\n",
              "    <tr>\n",
              "      <th>5</th>\n",
              "      <td>Naive Bayes</td>\n",
              "      <td>0.71</td>\n",
              "      <td>0.22</td>\n",
              "    </tr>\n",
              "    <tr>\n",
              "      <th>6</th>\n",
              "      <td>Random Forest</td>\n",
              "      <td>0.71</td>\n",
              "      <td>0.21</td>\n",
              "    </tr>\n",
              "    <tr>\n",
              "      <th>7</th>\n",
              "      <td>Decision Tree</td>\n",
              "      <td>0.66</td>\n",
              "      <td>0.20</td>\n",
              "    </tr>\n",
              "  </tbody>\n",
              "</table>\n",
              "</div>\n",
              "      <button class=\"colab-df-convert\" onclick=\"convertToInteractive('df-75328e9c-61c6-4939-afed-ec9fb5b10e85')\"\n",
              "              title=\"Convert this dataframe to an interactive table.\"\n",
              "              style=\"display:none;\">\n",
              "        \n",
              "  <svg xmlns=\"http://www.w3.org/2000/svg\" height=\"24px\"viewBox=\"0 0 24 24\"\n",
              "       width=\"24px\">\n",
              "    <path d=\"M0 0h24v24H0V0z\" fill=\"none\"/>\n",
              "    <path d=\"M18.56 5.44l.94 2.06.94-2.06 2.06-.94-2.06-.94-.94-2.06-.94 2.06-2.06.94zm-11 1L8.5 8.5l.94-2.06 2.06-.94-2.06-.94L8.5 2.5l-.94 2.06-2.06.94zm10 10l.94 2.06.94-2.06 2.06-.94-2.06-.94-.94-2.06-.94 2.06-2.06.94z\"/><path d=\"M17.41 7.96l-1.37-1.37c-.4-.4-.92-.59-1.43-.59-.52 0-1.04.2-1.43.59L10.3 9.45l-7.72 7.72c-.78.78-.78 2.05 0 2.83L4 21.41c.39.39.9.59 1.41.59.51 0 1.02-.2 1.41-.59l7.78-7.78 2.81-2.81c.8-.78.8-2.07 0-2.86zM5.41 20L4 18.59l7.72-7.72 1.47 1.35L5.41 20z\"/>\n",
              "  </svg>\n",
              "      </button>\n",
              "      \n",
              "  <style>\n",
              "    .colab-df-container {\n",
              "      display:flex;\n",
              "      flex-wrap:wrap;\n",
              "      gap: 12px;\n",
              "    }\n",
              "\n",
              "    .colab-df-convert {\n",
              "      background-color: #E8F0FE;\n",
              "      border: none;\n",
              "      border-radius: 50%;\n",
              "      cursor: pointer;\n",
              "      display: none;\n",
              "      fill: #1967D2;\n",
              "      height: 32px;\n",
              "      padding: 0 0 0 0;\n",
              "      width: 32px;\n",
              "    }\n",
              "\n",
              "    .colab-df-convert:hover {\n",
              "      background-color: #E2EBFA;\n",
              "      box-shadow: 0px 1px 2px rgba(60, 64, 67, 0.3), 0px 1px 3px 1px rgba(60, 64, 67, 0.15);\n",
              "      fill: #174EA6;\n",
              "    }\n",
              "\n",
              "    [theme=dark] .colab-df-convert {\n",
              "      background-color: #3B4455;\n",
              "      fill: #D2E3FC;\n",
              "    }\n",
              "\n",
              "    [theme=dark] .colab-df-convert:hover {\n",
              "      background-color: #434B5C;\n",
              "      box-shadow: 0px 1px 3px 1px rgba(0, 0, 0, 0.15);\n",
              "      filter: drop-shadow(0px 1px 2px rgba(0, 0, 0, 0.3));\n",
              "      fill: #FFFFFF;\n",
              "    }\n",
              "  </style>\n",
              "\n",
              "      <script>\n",
              "        const buttonEl =\n",
              "          document.querySelector('#df-75328e9c-61c6-4939-afed-ec9fb5b10e85 button.colab-df-convert');\n",
              "        buttonEl.style.display =\n",
              "          google.colab.kernel.accessAllowed ? 'block' : 'none';\n",
              "\n",
              "        async function convertToInteractive(key) {\n",
              "          const element = document.querySelector('#df-75328e9c-61c6-4939-afed-ec9fb5b10e85');\n",
              "          const dataTable =\n",
              "            await google.colab.kernel.invokeFunction('convertToInteractive',\n",
              "                                                     [key], {});\n",
              "          if (!dataTable) return;\n",
              "\n",
              "          const docLinkHtml = 'Like what you see? Visit the ' +\n",
              "            '<a target=\"_blank\" href=https://colab.research.google.com/notebooks/data_table.ipynb>data table notebook</a>'\n",
              "            + ' to learn more about interactive tables.';\n",
              "          element.innerHTML = '';\n",
              "          dataTable['output_type'] = 'display_data';\n",
              "          await google.colab.output.renderOutput(dataTable, element);\n",
              "          const docLink = document.createElement('div');\n",
              "          docLink.innerHTML = docLinkHtml;\n",
              "          element.appendChild(docLink);\n",
              "        }\n",
              "      </script>\n",
              "    </div>\n",
              "  </div>\n",
              "  "
            ]
          },
          "metadata": {},
          "execution_count": 67
        }
      ]
    },
    {
      "cell_type": "markdown",
      "source": [
        "Dari perbandingan antara semua model, dapat dilihat bahwa Logistic Regression merupakan model yang paling baik diantara yang lainnya. Selain memiliki nilai rata-rata yang paling besar, model Logistic Regression juga memiliki nilai standar deviasi yang paling kecil"
      ],
      "metadata": {
        "id": "7BVzewgLnFJF"
      }
    },
    {
      "cell_type": "markdown",
      "metadata": {
        "id": "6Pm2KlRnMqFj"
      },
      "source": [
        "## Model Definition, Training, and Evaluation for Logistic Regression"
      ]
    },
    {
      "cell_type": "markdown",
      "source": [
        "Mencoba model Logistic Regression dengan default parameter dan melihat hasil evaluasinya"
      ],
      "metadata": {
        "id": "Xy7r_t01O8ml"
      }
    },
    {
      "cell_type": "code",
      "source": [
        "logreg_model.fit(X_train,y_train)"
      ],
      "metadata": {
        "colab": {
          "base_uri": "https://localhost:8080/"
        },
        "id": "T7wDQaYQoOhu",
        "outputId": "0dad4153-6ded-4bd4-d0a0-f338ffd74061"
      },
      "execution_count": 68,
      "outputs": [
        {
          "output_type": "execute_result",
          "data": {
            "text/plain": [
              "LogisticRegression()"
            ]
          },
          "metadata": {},
          "execution_count": 68
        }
      ]
    },
    {
      "cell_type": "code",
      "source": [
        "# Check Performance Model against Test-Set\n",
        "\n",
        "y_pred_test = logreg_model.predict(X_test)\n",
        "print('F1 Score - Test Set   : ', f1_score(y_test, y_pred_test), '\\n')\n",
        "print('Accrucary Score - Test Set   : ', accuracy_score(y_test, y_pred_test), '\\n')\n",
        "print('Classification Report : \\n', classification_report(y_test, y_pred_test), '\\n')\n",
        "print('Confusion Matrix      : \\n', ConfusionMatrixDisplay.from_estimator(logreg_model, X_test, y_test, cmap='Reds'))"
      ],
      "metadata": {
        "colab": {
          "base_uri": "https://localhost:8080/",
          "height": 0
        },
        "id": "HJiFgerOopkJ",
        "outputId": "9165af15-01c9-4ffa-8587-6e05f5bcf590"
      },
      "execution_count": 69,
      "outputs": [
        {
          "output_type": "stream",
          "name": "stdout",
          "text": [
            "F1 Score - Test Set   :  0.4758364312267658 \n",
            "\n",
            "Accrucary Score - Test Set   :  0.8415730337078652 \n",
            "\n",
            "Classification Report : \n",
            "               precision    recall  f1-score   support\n",
            "\n",
            "           0       0.85      0.97      0.91       705\n",
            "           1       0.76      0.35      0.48       185\n",
            "\n",
            "    accuracy                           0.84       890\n",
            "   macro avg       0.81      0.66      0.69       890\n",
            "weighted avg       0.83      0.84      0.82       890\n",
            " \n",
            "\n",
            "Confusion Matrix      : \n",
            " <sklearn.metrics._plot.confusion_matrix.ConfusionMatrixDisplay object at 0x7fc3eb6f5d10>\n"
          ]
        },
        {
          "output_type": "display_data",
          "data": {
            "text/plain": [
              "<Figure size 432x288 with 2 Axes>"
            ],
            "image/png": "[encoded data removed]"
          },
          "metadata": {
            "needs_background": "light"
          }
        }
      ]
    },
    {
      "cell_type": "markdown",
      "source": [
        "Model Evaluation untuk Logistic Regression default di tuning akan dijelaskan pada section Classification Report Comparison"
      ],
      "metadata": {
        "id": "03IAntzUpo8o"
      }
    },
    {
      "cell_type": "markdown",
      "metadata": {
        "id": "0efkwMU_E1RZ"
      },
      "source": [
        "## Hyperparamater Tuning For Logistic Regression\n",
        "\n"
      ]
    },
    {
      "cell_type": "markdown",
      "source": [
        "Setelah dilakukan modeling dengan default parameter, saya akan mencoba tuning model Logistic Regression dengan menggunakan GridSearch. Beberapa Hyperparameter yang akan saya coba masukan adalah penalty,C,Solver, dan max_iter. Saya juga akan memasukkan beberapa kombinasi untuk mengetahui jenis apa saja yang terbaik dari Hyperparameter yang sudah dimasukkan"
      ],
      "metadata": {
        "id": "QLaeDE-VUXhK"
      }
    },
    {
      "cell_type": "code",
      "execution_count": 70,
      "metadata": {
        "id": "C9Rdn4aZMSdN"
      },
      "outputs": [],
      "source": [
        "param_grid = [    \n",
        "    {'penalty' : ['l1', 'l2', 'elasticnet', 'none'],\n",
        "    'C' : np.logspace(-4, 4, 20),\n",
        "    'solver' : ['lbfgs','newton-cg','liblinear','sag','saga'],\n",
        "    'max_iter' : [100, 1000,2500, 5000]\n",
        "    }\n",
        "]"
      ]
    },
    {
      "cell_type": "code",
      "execution_count": 71,
      "metadata": {
        "id": "sioeB2YZMUTq"
      },
      "outputs": [],
      "source": [
        "gridcv = GridSearchCV(logreg_model, param_grid = param_grid, cv = 3,  n_jobs=-1)"
      ]
    },
    {
      "cell_type": "code",
      "execution_count": 72,
      "metadata": {
        "colab": {
          "base_uri": "https://localhost:8080/"
        },
        "id": "GaceXZdaMlMI",
        "outputId": "b8e2dbfc-1c89-480d-b004-464e62d5b595"
      },
      "outputs": [
        {
          "output_type": "execute_result",
          "data": {
            "text/plain": [
              "GridSearchCV(cv=3, estimator=LogisticRegression(), n_jobs=-1,\n",
              "             param_grid=[{'C': array([1.00000000e-04, 2.63665090e-04, 6.95192796e-04, 1.83298071e-03,\n",
              "       4.83293024e-03, 1.27427499e-02, 3.35981829e-02, 8.85866790e-02,\n",
              "       2.33572147e-01, 6.15848211e-01, 1.62377674e+00, 4.28133240e+00,\n",
              "       1.12883789e+01, 2.97635144e+01, 7.84759970e+01, 2.06913808e+02,\n",
              "       5.45559478e+02, 1.43844989e+03, 3.79269019e+03, 1.00000000e+04]),\n",
              "                          'max_iter': [100, 1000, 2500, 5000],\n",
              "                          'penalty': ['l1', 'l2', 'elasticnet', 'none'],\n",
              "                          'solver': ['lbfgs', 'newton-cg', 'liblinear', 'sag',\n",
              "                                     'saga']}])"
            ]
          },
          "metadata": {},
          "execution_count": 72
        }
      ],
      "source": [
        "gridcv.fit(X_train, y_train)"
      ]
    },
    {
      "cell_type": "code",
      "execution_count": 73,
      "metadata": {
        "colab": {
          "base_uri": "https://localhost:8080/"
        },
        "id": "8LAmrIMlMxEG",
        "outputId": "84f0a356-d70b-4f91-fe39-e8c27fc2904a"
      },
      "outputs": [
        {
          "output_type": "execute_result",
          "data": {
            "text/plain": [
              "{'C': 0.004832930238571752,\n",
              " 'max_iter': 100,\n",
              " 'penalty': 'l2',\n",
              " 'solver': 'liblinear'}"
            ]
          },
          "metadata": {},
          "execution_count": 73
        }
      ],
      "source": [
        "gridcv.best_params_"
      ]
    },
    {
      "cell_type": "code",
      "execution_count": 74,
      "metadata": {
        "id": "N-tWLJmzM9O9"
      },
      "outputs": [],
      "source": [
        "gridcvbest = gridcv.best_estimator_"
      ]
    },
    {
      "cell_type": "markdown",
      "source": [
        "setelah dilakukan gridsearch, didapatkan kombinasi parameter yang terbaik yaitu:\n",
        "- C = 0.004832930238571752\n",
        "- max_iter= 100\n",
        "- penalty= l2\n",
        "- solver= 'liblinear"
      ],
      "metadata": {
        "id": "RnvTD_57Vdr7"
      }
    },
    {
      "cell_type": "code",
      "execution_count": 75,
      "metadata": {
        "colab": {
          "base_uri": "https://localhost:8080/",
          "height": 574
        },
        "id": "5FofHwZxNNpP",
        "outputId": "488f1d74-24e7-4456-b8dc-772b046d42d3"
      },
      "outputs": [
        {
          "output_type": "stream",
          "name": "stdout",
          "text": [
            "F1 Score - Test Set   :  0.4758364312267658 \n",
            "\n",
            "Accrucary Score - Test Set   :  0.8415730337078652 \n",
            "\n",
            "Classification Report : \n",
            "               precision    recall  f1-score   support\n",
            "\n",
            "           0       0.85      0.97      0.91       705\n",
            "           1       0.76      0.35      0.48       185\n",
            "\n",
            "    accuracy                           0.84       890\n",
            "   macro avg       0.81      0.66      0.69       890\n",
            "weighted avg       0.83      0.84      0.82       890\n",
            " \n",
            "\n",
            "Confusion Matrix      : \n",
            " <sklearn.metrics._plot.confusion_matrix.ConfusionMatrixDisplay object at 0x7fc3ccd80190>\n"
          ]
        },
        {
          "output_type": "display_data",
          "data": {
            "text/plain": [
              "<Figure size 432x288 with 2 Axes>"
            ],
            "image/png": "[encoded data removed]"
          },
          "metadata": {
            "needs_background": "light"
          }
        }
      ],
      "source": [
        "# Check Performance Model against Test-Set\n",
        "\n",
        "y_pred_test_grid = gridcvbest.predict(X_test)\n",
        "print('F1 Score - Test Set   : ', f1_score(y_test, y_pred_test), '\\n')\n",
        "print('Accrucary Score - Test Set   : ', accuracy_score(y_test, y_pred_test), '\\n')\n",
        "print('Classification Report : \\n', classification_report(y_test, y_pred_test), '\\n')\n",
        "print('Confusion Matrix      : \\n', ConfusionMatrixDisplay.from_estimator(gridcvbest, X_test, y_test, cmap='Reds'))"
      ]
    },
    {
      "cell_type": "markdown",
      "source": [
        "Model Evaluation untuk Logistic Regression yang sudah di tuning akan dijelaskan pada section Classification Report Comparison"
      ],
      "metadata": {
        "id": "aqGqR72xV8wM"
      }
    },
    {
      "cell_type": "markdown",
      "source": [
        "## Classification Report Comparison"
      ],
      "metadata": {
        "id": "1Xo0dIT7sDpX"
      }
    },
    {
      "cell_type": "code",
      "source": [
        "print('Default Logistic Regression')\n",
        "print('F1 Score - Test Set   : ', f1_score(y_test, y_pred_test), '\\n')\n",
        "print('Accrucary Score - Test Set   : ', accuracy_score(y_test, y_pred_test), '\\n')\n",
        "print('='*100)\n",
        "print('Tuned Logistic Regression')\n",
        "print('F1 Score - Test Set   : ', f1_score(y_test, y_pred_test_grid), '\\n')\n",
        "print('Accrucary Score - Test Set   : ', accuracy_score(y_test, y_pred_test_grid), '\\n')\n",
        "print('='*100)\n",
        "\n",
        "print('Classification Report Default Logistic Regression : \\n\\n', classification_report(y_test, y_pred_test), '\\n')\n",
        "print('Classification Report Tuned Logistic Regression: \\n\\n', classification_report(y_test, y_pred_test_grid), '\\n')\n",
        "print('='*100)\n",
        "print('='*100)\n",
        "print('Confusion Matrix of Default Logistic Regression      : \\n','\\n')\n",
        "print(ConfusionMatrixDisplay.from_estimator(logreg_model, X_test, y_test, cmap='Reds'))\n",
        "\n",
        "\n",
        "\n"
      ],
      "metadata": {
        "colab": {
          "base_uri": "https://localhost:8080/",
          "height": 1000
        },
        "id": "PIuY2nuosHPT",
        "outputId": "026301c4-6f3a-4ada-9211-83e75bc9095f"
      },
      "execution_count": 76,
      "outputs": [
        {
          "output_type": "stream",
          "name": "stdout",
          "text": [
            "Default Logistic Regression\n",
            "F1 Score - Test Set   :  0.4758364312267658 \n",
            "\n",
            "Accrucary Score - Test Set   :  0.8415730337078652 \n",
            "\n",
            "====================================================================================================\n",
            "Tuned Logistic Regression\n",
            "F1 Score - Test Set   :  0.44106463878327007 \n",
            "\n",
            "Accrucary Score - Test Set   :  0.8348314606741573 \n",
            "\n",
            "====================================================================================================\n",
            "Classification Report Default Logistic Regression : \n",
            "\n",
            "               precision    recall  f1-score   support\n",
            "\n",
            "           0       0.85      0.97      0.91       705\n",
            "           1       0.76      0.35      0.48       185\n",
            "\n",
            "    accuracy                           0.84       890\n",
            "   macro avg       0.81      0.66      0.69       890\n",
            "weighted avg       0.83      0.84      0.82       890\n",
            " \n",
            "\n",
            "Classification Report Tuned Logistic Regression: \n",
            "\n",
            "               precision    recall  f1-score   support\n",
            "\n",
            "           0       0.84      0.97      0.90       705\n",
            "           1       0.74      0.31      0.44       185\n",
            "\n",
            "    accuracy                           0.83       890\n",
            "   macro avg       0.79      0.64      0.67       890\n",
            "weighted avg       0.82      0.83      0.81       890\n",
            " \n",
            "\n",
            "====================================================================================================\n",
            "====================================================================================================\n",
            "Confusion Matrix of Default Logistic Regression      : \n",
            " \n",
            "\n",
            "<sklearn.metrics._plot.confusion_matrix.ConfusionMatrixDisplay object at 0x7fc3ccc558d0>\n"
          ]
        },
        {
          "output_type": "display_data",
          "data": {
            "text/plain": [
              "<Figure size 432x288 with 2 Axes>"
            ],
            "image/png": "[encoded data removed]"
          },
          "metadata": {
            "needs_background": "light"
          }
        }
      ]
    },
    {
      "cell_type": "code",
      "source": [
        "print('Confusion Matrix of Tuned Logistic Regression     : \\n','\\n')\n",
        "print(ConfusionMatrixDisplay.from_estimator(gridcvbest, X_test, y_test, cmap='Reds'))\n"
      ],
      "metadata": {
        "colab": {
          "base_uri": "https://localhost:8080/",
          "height": 348
        },
        "id": "ZbtGeXNIw_Y6",
        "outputId": "140ef68b-e6bb-446d-cd58-755ce4617388"
      },
      "execution_count": 77,
      "outputs": [
        {
          "output_type": "stream",
          "name": "stdout",
          "text": [
            "Confusion Matrix of Tuned Logistic Regression     : \n",
            " \n",
            "\n",
            "<sklearn.metrics._plot.confusion_matrix.ConfusionMatrixDisplay object at 0x7fc3ccc58e90>\n"
          ]
        },
        {
          "output_type": "display_data",
          "data": {
            "text/plain": [
              "<Figure size 432x288 with 2 Axes>"
            ],
            "image/png": "[encoded data removed]"
          },
          "metadata": {
            "needs_background": "light"
          }
        }
      ]
    },
    {
      "cell_type": "markdown",
      "source": [
        "**Berikut adalah definisi dari kelas target:**\n",
        "- 0 = nasabah yang melakukan pembayaran tepat waktu\n",
        "- 1 = nasabah yang melakukan pembayaran telat atau belum lunas\n",
        " \n",
        "**dalam kasus kali ini saya menentukan bahwa:**\n",
        "- target +  = 1 yang artinya adalah nasabah yang melakukan pembayaran telat atau belum lunas\n",
        "- target -  = 0 yang artinya adalah nasabah yang melakukan pembayaran tepat waktu\n",
        "------------------------------------------------------------------------------\n",
        "Urgensi dalam kasus kali ini adalah jika model memprediksi bahwa nasabah melakukan pembayaran tepat waktu tetapi pada kenyataannya nasabah melakukan pembayaran telat atau belum lunas, keadaan tersebut dianggap berbahaya karena salah prediksi dalam hal ini dapat menyebabkan kerugian pada Bank.\n",
        "\n",
        "Maka  pada model kali ini saya ingin sebisa mungkin meminimalisir False Negative (kesalahan memprediksi kelas 1 menjadi kelas 0)\n",
        "\n",
        "Dari penjabaran tersebut, maka saya memfokuskan untuk melihat nilai recall pada \n",
        "kelas 1. \n",
        "\n",
        "-------------------------------------------------------------------------------\n",
        "**Perbandingan Nilai Recall**\n",
        "1. Default Logistic Regression\n",
        "\n",
        "Jika dilihat dari nilai recall pada kelas 1, dapat dikatakan bahwa model memiliki nilai recall yang kecil yang artinya model tidak dapat memprediksi nilai kelas yang difokuskan yaitu nilai kelas 1\n",
        "\n",
        "2. Tuned Logistic Regression\n",
        "\n",
        "Jika dilihat dari nilai recall pada kelas 1, dapat dikatakan bahwa model memiliki nilai recall yang kecil yang artinya model tidak dapat memprediksi nilai kelas yang difokuskan yaitu nilai kelas 1\n",
        "\n",
        "**Perbandingan Confusion Matrix**\n",
        "1. Default Logistic Regression\n",
        "\n",
        "Dilihat dari Confusion Matrix, model dapat memprediksi nasabah yang melakukan pembayaran tepat waktu sebanyak 685 orang dan hanya salah memprediksi sebanyak 20 orang sebagai nasabah yang melakukan pembayaran telat atau belum lunas padahal tidak. Tetapi model hanya dapat memprediksi nasabah yang melakukan pembayaran telat atau belum lunas sebanyak 64 orang dari total 185 orang yang artinya sebanyak 121 salah diprediksi sebagai nasabah yang melakukan pembayaran tepat waktu padahal tidak\n",
        "2. Tuned Logistic Regression\n",
        "\n",
        "Dilihat dari Confusion Matrix, model dapat memprediksi nasabah yang melakukan pembayaran tepat waktu sebanyak 685 orang dan hanya salah memprediksi sebanyak 20 orang sebagai nasabah yang melakukan pembayaran telat atau belum lunas padahal tidak. Tetapi model hanya dapat memprediksi nasabah yang melakukan pembayaran telat atau belum lunas sebanyak 58 orang dari total 185 orang yang artinya sebanyak 127 salah diprediksi sebagai nasabah yang melakukan pembayaran tepat waktu padahal tidak\n",
        "\n",
        "--------------------------------------------------------------------------------\n",
        "Jika dilihat dari kedua perbandingan dari model yang tidak dituning dan tuning, baik dari nilai recall dan confusion matrix, model default logistic regression lebih baik secara keseluruhan, karena memiliki nilai recall yang lebih besar dan lebih baik dalam memprediksi nasabah yang melakukan pembayaran telat atau belum lunas walaupun dalam implementasi prediksinya tidak memiliki keakuratan yang baik "
      ],
      "metadata": {
        "id": "p-y-7Sd8xhcd"
      }
    },
    {
      "cell_type": "markdown",
      "source": [
        "## Model Inference"
      ],
      "metadata": {
        "id": "8Rw4Jv09pgJA"
      }
    },
    {
      "cell_type": "markdown",
      "source": [
        "Menerapkan Model yang sudah Dibuat ke Data Baru Diluar dari Train-Set maupun Test-Set"
      ],
      "metadata": {
        "id": "rAB1YgB5S4bF"
      }
    },
    {
      "cell_type": "markdown",
      "source": [
        "Membuat data sampel sebanyak 15 baris"
      ],
      "metadata": {
        "id": "Hm3_W7E-S8mx"
      }
    },
    {
      "cell_type": "code",
      "source": [
        "inf = df_final.sample(15, random_state=17)\n",
        "inf.reset_index(drop=True, inplace=True)\n",
        "inf"
      ],
      "metadata": {
        "colab": {
          "base_uri": "https://localhost:8080/",
          "height": 520
        },
        "id": "64k3nAF3phyf",
        "outputId": "6da141f7-ac5c-4bd8-e509-b25bff0425cb"
      },
      "execution_count": 78,
      "outputs": [
        {
          "output_type": "execute_result",
          "data": {
            "text/plain": [
              "    pay_0  pay_2  pay_3  pay_4  pay_5  pay_6  default_payment_next_month  \\\n",
              "0     0.0    0.0    0.0    0.0      0      0                           0   \n",
              "1     0.0    0.0    0.0    0.0      0      0                           0   \n",
              "2     0.0    0.0    0.0    0.0      0      0                           0   \n",
              "3    -1.0   -1.0    0.0   -1.0     -1     -1                           1   \n",
              "4     0.0    0.0    0.0    0.0      0      0                           0   \n",
              "5     2.0    0.0    0.0    0.0      0      0                           1   \n",
              "6     0.0    0.0    0.0    0.0      0      0                           0   \n",
              "7     0.0    0.0    0.0    0.0      0      0                           0   \n",
              "8    -2.0   -2.0   -2.0   -2.0     -2     -2                           0   \n",
              "9    -1.0   -1.0   -1.0   -1.0     -1     -1                           0   \n",
              "10    2.0    2.0    2.0    2.0      4      3                           0   \n",
              "11    0.0    0.0    0.0    0.0      2      2                           0   \n",
              "12    0.0    0.0    0.0   -1.0      0      0                           0   \n",
              "13    1.0   -2.0   -2.0   -2.0     -2     -2                           0   \n",
              "14   -1.0    0.0   -1.0    0.0      0      0                           0   \n",
              "\n",
              "    limit_balance  pay_amt_1  \n",
              "0        0.215190   0.641453  \n",
              "1        0.012658   0.117634  \n",
              "2        0.291139   0.714015  \n",
              "3        0.291139   1.000000  \n",
              "4        0.177215   0.178504  \n",
              "5        0.101266   0.179307  \n",
              "6        0.202532   0.642613  \n",
              "7        0.050633   0.134681  \n",
              "8        0.278481   0.098088  \n",
              "9        0.088608   0.779972  \n",
              "10       0.050633   0.178504  \n",
              "11       0.025316   0.178504  \n",
              "12       0.518987   0.626726  \n",
              "13       0.240506   0.000000  \n",
              "14       0.063291   0.091037  "
            ],
            "text/html": [
              "\n",
              "  <div id=\"df-aae4fe2e-6303-4552-8adb-c8db6e669ac7\">\n",
              "    <div class=\"colab-df-container\">\n",
              "      <div>\n",
              "<style scoped>\n",
              "    .dataframe tbody tr th:only-of-type {\n",
              "        vertical-align: middle;\n",
              "    }\n",
              "\n",
              "    .dataframe tbody tr th {\n",
              "        vertical-align: top;\n",
              "    }\n",
              "\n",
              "    .dataframe thead th {\n",
              "        text-align: right;\n",
              "    }\n",
              "</style>\n",
              "<table border=\"1\" class=\"dataframe\">\n",
              "  <thead>\n",
              "    <tr style=\"text-align: right;\">\n",
              "      <th></th>\n",
              "      <th>pay_0</th>\n",
              "      <th>pay_2</th>\n",
              "      <th>pay_3</th>\n",
              "      <th>pay_4</th>\n",
              "      <th>pay_5</th>\n",
              "      <th>pay_6</th>\n",
              "      <th>default_payment_next_month</th>\n",
              "      <th>limit_balance</th>\n",
              "      <th>pay_amt_1</th>\n",
              "    </tr>\n",
              "  </thead>\n",
              "  <tbody>\n",
              "    <tr>\n",
              "      <th>0</th>\n",
              "      <td>0.0</td>\n",
              "      <td>0.0</td>\n",
              "      <td>0.0</td>\n",
              "      <td>0.0</td>\n",
              "      <td>0</td>\n",
              "      <td>0</td>\n",
              "      <td>0</td>\n",
              "      <td>0.215190</td>\n",
              "      <td>0.641453</td>\n",
              "    </tr>\n",
              "    <tr>\n",
              "      <th>1</th>\n",
              "      <td>0.0</td>\n",
              "      <td>0.0</td>\n",
              "      <td>0.0</td>\n",
              "      <td>0.0</td>\n",
              "      <td>0</td>\n",
              "      <td>0</td>\n",
              "      <td>0</td>\n",
              "      <td>0.012658</td>\n",
              "      <td>0.117634</td>\n",
              "    </tr>\n",
              "    <tr>\n",
              "      <th>2</th>\n",
              "      <td>0.0</td>\n",
              "      <td>0.0</td>\n",
              "      <td>0.0</td>\n",
              "      <td>0.0</td>\n",
              "      <td>0</td>\n",
              "      <td>0</td>\n",
              "      <td>0</td>\n",
              "      <td>0.291139</td>\n",
              "      <td>0.714015</td>\n",
              "    </tr>\n",
              "    <tr>\n",
              "      <th>3</th>\n",
              "      <td>-1.0</td>\n",
              "      <td>-1.0</td>\n",
              "      <td>0.0</td>\n",
              "      <td>-1.0</td>\n",
              "      <td>-1</td>\n",
              "      <td>-1</td>\n",
              "      <td>1</td>\n",
              "      <td>0.291139</td>\n",
              "      <td>1.000000</td>\n",
              "    </tr>\n",
              "    <tr>\n",
              "      <th>4</th>\n",
              "      <td>0.0</td>\n",
              "      <td>0.0</td>\n",
              "      <td>0.0</td>\n",
              "      <td>0.0</td>\n",
              "      <td>0</td>\n",
              "      <td>0</td>\n",
              "      <td>0</td>\n",
              "      <td>0.177215</td>\n",
              "      <td>0.178504</td>\n",
              "    </tr>\n",
              "    <tr>\n",
              "      <th>5</th>\n",
              "      <td>2.0</td>\n",
              "      <td>0.0</td>\n",
              "      <td>0.0</td>\n",
              "      <td>0.0</td>\n",
              "      <td>0</td>\n",
              "      <td>0</td>\n",
              "      <td>1</td>\n",
              "      <td>0.101266</td>\n",
              "      <td>0.179307</td>\n",
              "    </tr>\n",
              "    <tr>\n",
              "      <th>6</th>\n",
              "      <td>0.0</td>\n",
              "      <td>0.0</td>\n",
              "      <td>0.0</td>\n",
              "      <td>0.0</td>\n",
              "      <td>0</td>\n",
              "      <td>0</td>\n",
              "      <td>0</td>\n",
              "      <td>0.202532</td>\n",
              "      <td>0.642613</td>\n",
              "    </tr>\n",
              "    <tr>\n",
              "      <th>7</th>\n",
              "      <td>0.0</td>\n",
              "      <td>0.0</td>\n",
              "      <td>0.0</td>\n",
              "      <td>0.0</td>\n",
              "      <td>0</td>\n",
              "      <td>0</td>\n",
              "      <td>0</td>\n",
              "      <td>0.050633</td>\n",
              "      <td>0.134681</td>\n",
              "    </tr>\n",
              "    <tr>\n",
              "      <th>8</th>\n",
              "      <td>-2.0</td>\n",
              "      <td>-2.0</td>\n",
              "      <td>-2.0</td>\n",
              "      <td>-2.0</td>\n",
              "      <td>-2</td>\n",
              "      <td>-2</td>\n",
              "      <td>0</td>\n",
              "      <td>0.278481</td>\n",
              "      <td>0.098088</td>\n",
              "    </tr>\n",
              "    <tr>\n",
              "      <th>9</th>\n",
              "      <td>-1.0</td>\n",
              "      <td>-1.0</td>\n",
              "      <td>-1.0</td>\n",
              "      <td>-1.0</td>\n",
              "      <td>-1</td>\n",
              "      <td>-1</td>\n",
              "      <td>0</td>\n",
              "      <td>0.088608</td>\n",
              "      <td>0.779972</td>\n",
              "    </tr>\n",
              "    <tr>\n",
              "      <th>10</th>\n",
              "      <td>2.0</td>\n",
              "      <td>2.0</td>\n",
              "      <td>2.0</td>\n",
              "      <td>2.0</td>\n",
              "      <td>4</td>\n",
              "      <td>3</td>\n",
              "      <td>0</td>\n",
              "      <td>0.050633</td>\n",
              "      <td>0.178504</td>\n",
              "    </tr>\n",
              "    <tr>\n",
              "      <th>11</th>\n",
              "      <td>0.0</td>\n",
              "      <td>0.0</td>\n",
              "      <td>0.0</td>\n",
              "      <td>0.0</td>\n",
              "      <td>2</td>\n",
              "      <td>2</td>\n",
              "      <td>0</td>\n",
              "      <td>0.025316</td>\n",
              "      <td>0.178504</td>\n",
              "    </tr>\n",
              "    <tr>\n",
              "      <th>12</th>\n",
              "      <td>0.0</td>\n",
              "      <td>0.0</td>\n",
              "      <td>0.0</td>\n",
              "      <td>-1.0</td>\n",
              "      <td>0</td>\n",
              "      <td>0</td>\n",
              "      <td>0</td>\n",
              "      <td>0.518987</td>\n",
              "      <td>0.626726</td>\n",
              "    </tr>\n",
              "    <tr>\n",
              "      <th>13</th>\n",
              "      <td>1.0</td>\n",
              "      <td>-2.0</td>\n",
              "      <td>-2.0</td>\n",
              "      <td>-2.0</td>\n",
              "      <td>-2</td>\n",
              "      <td>-2</td>\n",
              "      <td>0</td>\n",
              "      <td>0.240506</td>\n",
              "      <td>0.000000</td>\n",
              "    </tr>\n",
              "    <tr>\n",
              "      <th>14</th>\n",
              "      <td>-1.0</td>\n",
              "      <td>0.0</td>\n",
              "      <td>-1.0</td>\n",
              "      <td>0.0</td>\n",
              "      <td>0</td>\n",
              "      <td>0</td>\n",
              "      <td>0</td>\n",
              "      <td>0.063291</td>\n",
              "      <td>0.091037</td>\n",
              "    </tr>\n",
              "  </tbody>\n",
              "</table>\n",
              "</div>\n",
              "      <button class=\"colab-df-convert\" onclick=\"convertToInteractive('df-aae4fe2e-6303-4552-8adb-c8db6e669ac7')\"\n",
              "              title=\"Convert this dataframe to an interactive table.\"\n",
              "              style=\"display:none;\">\n",
              "        \n",
              "  <svg xmlns=\"http://www.w3.org/2000/svg\" height=\"24px\"viewBox=\"0 0 24 24\"\n",
              "       width=\"24px\">\n",
              "    <path d=\"M0 0h24v24H0V0z\" fill=\"none\"/>\n",
              "    <path d=\"M18.56 5.44l.94 2.06.94-2.06 2.06-.94-2.06-.94-.94-2.06-.94 2.06-2.06.94zm-11 1L8.5 8.5l.94-2.06 2.06-.94-2.06-.94L8.5 2.5l-.94 2.06-2.06.94zm10 10l.94 2.06.94-2.06 2.06-.94-2.06-.94-.94-2.06-.94 2.06-2.06.94z\"/><path d=\"M17.41 7.96l-1.37-1.37c-.4-.4-.92-.59-1.43-.59-.52 0-1.04.2-1.43.59L10.3 9.45l-7.72 7.72c-.78.78-.78 2.05 0 2.83L4 21.41c.39.39.9.59 1.41.59.51 0 1.02-.2 1.41-.59l7.78-7.78 2.81-2.81c.8-.78.8-2.07 0-2.86zM5.41 20L4 18.59l7.72-7.72 1.47 1.35L5.41 20z\"/>\n",
              "  </svg>\n",
              "      </button>\n",
              "      \n",
              "  <style>\n",
              "    .colab-df-container {\n",
              "      display:flex;\n",
              "      flex-wrap:wrap;\n",
              "      gap: 12px;\n",
              "    }\n",
              "\n",
              "    .colab-df-convert {\n",
              "      background-color: #E8F0FE;\n",
              "      border: none;\n",
              "      border-radius: 50%;\n",
              "      cursor: pointer;\n",
              "      display: none;\n",
              "      fill: #1967D2;\n",
              "      height: 32px;\n",
              "      padding: 0 0 0 0;\n",
              "      width: 32px;\n",
              "    }\n",
              "\n",
              "    .colab-df-convert:hover {\n",
              "      background-color: #E2EBFA;\n",
              "      box-shadow: 0px 1px 2px rgba(60, 64, 67, 0.3), 0px 1px 3px 1px rgba(60, 64, 67, 0.15);\n",
              "      fill: #174EA6;\n",
              "    }\n",
              "\n",
              "    [theme=dark] .colab-df-convert {\n",
              "      background-color: #3B4455;\n",
              "      fill: #D2E3FC;\n",
              "    }\n",
              "\n",
              "    [theme=dark] .colab-df-convert:hover {\n",
              "      background-color: #434B5C;\n",
              "      box-shadow: 0px 1px 3px 1px rgba(0, 0, 0, 0.15);\n",
              "      filter: drop-shadow(0px 1px 2px rgba(0, 0, 0, 0.3));\n",
              "      fill: #FFFFFF;\n",
              "    }\n",
              "  </style>\n",
              "\n",
              "      <script>\n",
              "        const buttonEl =\n",
              "          document.querySelector('#df-aae4fe2e-6303-4552-8adb-c8db6e669ac7 button.colab-df-convert');\n",
              "        buttonEl.style.display =\n",
              "          google.colab.kernel.accessAllowed ? 'block' : 'none';\n",
              "\n",
              "        async function convertToInteractive(key) {\n",
              "          const element = document.querySelector('#df-aae4fe2e-6303-4552-8adb-c8db6e669ac7');\n",
              "          const dataTable =\n",
              "            await google.colab.kernel.invokeFunction('convertToInteractive',\n",
              "                                                     [key], {});\n",
              "          if (!dataTable) return;\n",
              "\n",
              "          const docLinkHtml = 'Like what you see? Visit the ' +\n",
              "            '<a target=\"_blank\" href=https://colab.research.google.com/notebooks/data_table.ipynb>data table notebook</a>'\n",
              "            + ' to learn more about interactive tables.';\n",
              "          element.innerHTML = '';\n",
              "          dataTable['output_type'] = 'display_data';\n",
              "          await google.colab.output.renderOutput(dataTable, element);\n",
              "          const docLink = document.createElement('div');\n",
              "          docLink.innerHTML = docLinkHtml;\n",
              "          element.appendChild(docLink);\n",
              "        }\n",
              "      </script>\n",
              "    </div>\n",
              "  </div>\n",
              "  "
            ]
          },
          "metadata": {},
          "execution_count": 78
        }
      ]
    },
    {
      "cell_type": "code",
      "source": [
        "inf_final = inf.drop('default_payment_next_month', axis=1)\n",
        "inf_final"
      ],
      "metadata": {
        "colab": {
          "base_uri": "https://localhost:8080/",
          "height": 520
        },
        "id": "asw3xjGSqBrb",
        "outputId": "671386bc-c476-48e1-c1bd-bb6d8b6b3852"
      },
      "execution_count": 79,
      "outputs": [
        {
          "output_type": "execute_result",
          "data": {
            "text/plain": [
              "    pay_0  pay_2  pay_3  pay_4  pay_5  pay_6  limit_balance  pay_amt_1\n",
              "0     0.0    0.0    0.0    0.0      0      0       0.215190   0.641453\n",
              "1     0.0    0.0    0.0    0.0      0      0       0.012658   0.117634\n",
              "2     0.0    0.0    0.0    0.0      0      0       0.291139   0.714015\n",
              "3    -1.0   -1.0    0.0   -1.0     -1     -1       0.291139   1.000000\n",
              "4     0.0    0.0    0.0    0.0      0      0       0.177215   0.178504\n",
              "5     2.0    0.0    0.0    0.0      0      0       0.101266   0.179307\n",
              "6     0.0    0.0    0.0    0.0      0      0       0.202532   0.642613\n",
              "7     0.0    0.0    0.0    0.0      0      0       0.050633   0.134681\n",
              "8    -2.0   -2.0   -2.0   -2.0     -2     -2       0.278481   0.098088\n",
              "9    -1.0   -1.0   -1.0   -1.0     -1     -1       0.088608   0.779972\n",
              "10    2.0    2.0    2.0    2.0      4      3       0.050633   0.178504\n",
              "11    0.0    0.0    0.0    0.0      2      2       0.025316   0.178504\n",
              "12    0.0    0.0    0.0   -1.0      0      0       0.518987   0.626726\n",
              "13    1.0   -2.0   -2.0   -2.0     -2     -2       0.240506   0.000000\n",
              "14   -1.0    0.0   -1.0    0.0      0      0       0.063291   0.091037"
            ],
            "text/html": [
              "\n",
              "  <div id=\"df-067fba2e-f87d-4449-bfb4-fb9d8315a561\">\n",
              "    <div class=\"colab-df-container\">\n",
              "      <div>\n",
              "<style scoped>\n",
              "    .dataframe tbody tr th:only-of-type {\n",
              "        vertical-align: middle;\n",
              "    }\n",
              "\n",
              "    .dataframe tbody tr th {\n",
              "        vertical-align: top;\n",
              "    }\n",
              "\n",
              "    .dataframe thead th {\n",
              "        text-align: right;\n",
              "    }\n",
              "</style>\n",
              "<table border=\"1\" class=\"dataframe\">\n",
              "  <thead>\n",
              "    <tr style=\"text-align: right;\">\n",
              "      <th></th>\n",
              "      <th>pay_0</th>\n",
              "      <th>pay_2</th>\n",
              "      <th>pay_3</th>\n",
              "      <th>pay_4</th>\n",
              "      <th>pay_5</th>\n",
              "      <th>pay_6</th>\n",
              "      <th>limit_balance</th>\n",
              "      <th>pay_amt_1</th>\n",
              "    </tr>\n",
              "  </thead>\n",
              "  <tbody>\n",
              "    <tr>\n",
              "      <th>0</th>\n",
              "      <td>0.0</td>\n",
              "      <td>0.0</td>\n",
              "      <td>0.0</td>\n",
              "      <td>0.0</td>\n",
              "      <td>0</td>\n",
              "      <td>0</td>\n",
              "      <td>0.215190</td>\n",
              "      <td>0.641453</td>\n",
              "    </tr>\n",
              "    <tr>\n",
              "      <th>1</th>\n",
              "      <td>0.0</td>\n",
              "      <td>0.0</td>\n",
              "      <td>0.0</td>\n",
              "      <td>0.0</td>\n",
              "      <td>0</td>\n",
              "      <td>0</td>\n",
              "      <td>0.012658</td>\n",
              "      <td>0.117634</td>\n",
              "    </tr>\n",
              "    <tr>\n",
              "      <th>2</th>\n",
              "      <td>0.0</td>\n",
              "      <td>0.0</td>\n",
              "      <td>0.0</td>\n",
              "      <td>0.0</td>\n",
              "      <td>0</td>\n",
              "      <td>0</td>\n",
              "      <td>0.291139</td>\n",
              "      <td>0.714015</td>\n",
              "    </tr>\n",
              "    <tr>\n",
              "      <th>3</th>\n",
              "      <td>-1.0</td>\n",
              "      <td>-1.0</td>\n",
              "      <td>0.0</td>\n",
              "      <td>-1.0</td>\n",
              "      <td>-1</td>\n",
              "      <td>-1</td>\n",
              "      <td>0.291139</td>\n",
              "      <td>1.000000</td>\n",
              "    </tr>\n",
              "    <tr>\n",
              "      <th>4</th>\n",
              "      <td>0.0</td>\n",
              "      <td>0.0</td>\n",
              "      <td>0.0</td>\n",
              "      <td>0.0</td>\n",
              "      <td>0</td>\n",
              "      <td>0</td>\n",
              "      <td>0.177215</td>\n",
              "      <td>0.178504</td>\n",
              "    </tr>\n",
              "    <tr>\n",
              "      <th>5</th>\n",
              "      <td>2.0</td>\n",
              "      <td>0.0</td>\n",
              "      <td>0.0</td>\n",
              "      <td>0.0</td>\n",
              "      <td>0</td>\n",
              "      <td>0</td>\n",
              "      <td>0.101266</td>\n",
              "      <td>0.179307</td>\n",
              "    </tr>\n",
              "    <tr>\n",
              "      <th>6</th>\n",
              "      <td>0.0</td>\n",
              "      <td>0.0</td>\n",
              "      <td>0.0</td>\n",
              "      <td>0.0</td>\n",
              "      <td>0</td>\n",
              "      <td>0</td>\n",
              "      <td>0.202532</td>\n",
              "      <td>0.642613</td>\n",
              "    </tr>\n",
              "    <tr>\n",
              "      <th>7</th>\n",
              "      <td>0.0</td>\n",
              "      <td>0.0</td>\n",
              "      <td>0.0</td>\n",
              "      <td>0.0</td>\n",
              "      <td>0</td>\n",
              "      <td>0</td>\n",
              "      <td>0.050633</td>\n",
              "      <td>0.134681</td>\n",
              "    </tr>\n",
              "    <tr>\n",
              "      <th>8</th>\n",
              "      <td>-2.0</td>\n",
              "      <td>-2.0</td>\n",
              "      <td>-2.0</td>\n",
              "      <td>-2.0</td>\n",
              "      <td>-2</td>\n",
              "      <td>-2</td>\n",
              "      <td>0.278481</td>\n",
              "      <td>0.098088</td>\n",
              "    </tr>\n",
              "    <tr>\n",
              "      <th>9</th>\n",
              "      <td>-1.0</td>\n",
              "      <td>-1.0</td>\n",
              "      <td>-1.0</td>\n",
              "      <td>-1.0</td>\n",
              "      <td>-1</td>\n",
              "      <td>-1</td>\n",
              "      <td>0.088608</td>\n",
              "      <td>0.779972</td>\n",
              "    </tr>\n",
              "    <tr>\n",
              "      <th>10</th>\n",
              "      <td>2.0</td>\n",
              "      <td>2.0</td>\n",
              "      <td>2.0</td>\n",
              "      <td>2.0</td>\n",
              "      <td>4</td>\n",
              "      <td>3</td>\n",
              "      <td>0.050633</td>\n",
              "      <td>0.178504</td>\n",
              "    </tr>\n",
              "    <tr>\n",
              "      <th>11</th>\n",
              "      <td>0.0</td>\n",
              "      <td>0.0</td>\n",
              "      <td>0.0</td>\n",
              "      <td>0.0</td>\n",
              "      <td>2</td>\n",
              "      <td>2</td>\n",
              "      <td>0.025316</td>\n",
              "      <td>0.178504</td>\n",
              "    </tr>\n",
              "    <tr>\n",
              "      <th>12</th>\n",
              "      <td>0.0</td>\n",
              "      <td>0.0</td>\n",
              "      <td>0.0</td>\n",
              "      <td>-1.0</td>\n",
              "      <td>0</td>\n",
              "      <td>0</td>\n",
              "      <td>0.518987</td>\n",
              "      <td>0.626726</td>\n",
              "    </tr>\n",
              "    <tr>\n",
              "      <th>13</th>\n",
              "      <td>1.0</td>\n",
              "      <td>-2.0</td>\n",
              "      <td>-2.0</td>\n",
              "      <td>-2.0</td>\n",
              "      <td>-2</td>\n",
              "      <td>-2</td>\n",
              "      <td>0.240506</td>\n",
              "      <td>0.000000</td>\n",
              "    </tr>\n",
              "    <tr>\n",
              "      <th>14</th>\n",
              "      <td>-1.0</td>\n",
              "      <td>0.0</td>\n",
              "      <td>-1.0</td>\n",
              "      <td>0.0</td>\n",
              "      <td>0</td>\n",
              "      <td>0</td>\n",
              "      <td>0.063291</td>\n",
              "      <td>0.091037</td>\n",
              "    </tr>\n",
              "  </tbody>\n",
              "</table>\n",
              "</div>\n",
              "      <button class=\"colab-df-convert\" onclick=\"convertToInteractive('df-067fba2e-f87d-4449-bfb4-fb9d8315a561')\"\n",
              "              title=\"Convert this dataframe to an interactive table.\"\n",
              "              style=\"display:none;\">\n",
              "        \n",
              "  <svg xmlns=\"http://www.w3.org/2000/svg\" height=\"24px\"viewBox=\"0 0 24 24\"\n",
              "       width=\"24px\">\n",
              "    <path d=\"M0 0h24v24H0V0z\" fill=\"none\"/>\n",
              "    <path d=\"M18.56 5.44l.94 2.06.94-2.06 2.06-.94-2.06-.94-.94-2.06-.94 2.06-2.06.94zm-11 1L8.5 8.5l.94-2.06 2.06-.94-2.06-.94L8.5 2.5l-.94 2.06-2.06.94zm10 10l.94 2.06.94-2.06 2.06-.94-2.06-.94-.94-2.06-.94 2.06-2.06.94z\"/><path d=\"M17.41 7.96l-1.37-1.37c-.4-.4-.92-.59-1.43-.59-.52 0-1.04.2-1.43.59L10.3 9.45l-7.72 7.72c-.78.78-.78 2.05 0 2.83L4 21.41c.39.39.9.59 1.41.59.51 0 1.02-.2 1.41-.59l7.78-7.78 2.81-2.81c.8-.78.8-2.07 0-2.86zM5.41 20L4 18.59l7.72-7.72 1.47 1.35L5.41 20z\"/>\n",
              "  </svg>\n",
              "      </button>\n",
              "      \n",
              "  <style>\n",
              "    .colab-df-container {\n",
              "      display:flex;\n",
              "      flex-wrap:wrap;\n",
              "      gap: 12px;\n",
              "    }\n",
              "\n",
              "    .colab-df-convert {\n",
              "      background-color: #E8F0FE;\n",
              "      border: none;\n",
              "      border-radius: 50%;\n",
              "      cursor: pointer;\n",
              "      display: none;\n",
              "      fill: #1967D2;\n",
              "      height: 32px;\n",
              "      padding: 0 0 0 0;\n",
              "      width: 32px;\n",
              "    }\n",
              "\n",
              "    .colab-df-convert:hover {\n",
              "      background-color: #E2EBFA;\n",
              "      box-shadow: 0px 1px 2px rgba(60, 64, 67, 0.3), 0px 1px 3px 1px rgba(60, 64, 67, 0.15);\n",
              "      fill: #174EA6;\n",
              "    }\n",
              "\n",
              "    [theme=dark] .colab-df-convert {\n",
              "      background-color: #3B4455;\n",
              "      fill: #D2E3FC;\n",
              "    }\n",
              "\n",
              "    [theme=dark] .colab-df-convert:hover {\n",
              "      background-color: #434B5C;\n",
              "      box-shadow: 0px 1px 3px 1px rgba(0, 0, 0, 0.15);\n",
              "      filter: drop-shadow(0px 1px 2px rgba(0, 0, 0, 0.3));\n",
              "      fill: #FFFFFF;\n",
              "    }\n",
              "  </style>\n",
              "\n",
              "      <script>\n",
              "        const buttonEl =\n",
              "          document.querySelector('#df-067fba2e-f87d-4449-bfb4-fb9d8315a561 button.colab-df-convert');\n",
              "        buttonEl.style.display =\n",
              "          google.colab.kernel.accessAllowed ? 'block' : 'none';\n",
              "\n",
              "        async function convertToInteractive(key) {\n",
              "          const element = document.querySelector('#df-067fba2e-f87d-4449-bfb4-fb9d8315a561');\n",
              "          const dataTable =\n",
              "            await google.colab.kernel.invokeFunction('convertToInteractive',\n",
              "                                                     [key], {});\n",
              "          if (!dataTable) return;\n",
              "\n",
              "          const docLinkHtml = 'Like what you see? Visit the ' +\n",
              "            '<a target=\"_blank\" href=https://colab.research.google.com/notebooks/data_table.ipynb>data table notebook</a>'\n",
              "            + ' to learn more about interactive tables.';\n",
              "          element.innerHTML = '';\n",
              "          dataTable['output_type'] = 'display_data';\n",
              "          await google.colab.output.renderOutput(dataTable, element);\n",
              "          const docLink = document.createElement('div');\n",
              "          docLink.innerHTML = docLinkHtml;\n",
              "          element.appendChild(docLink);\n",
              "        }\n",
              "      </script>\n",
              "    </div>\n",
              "  </div>\n",
              "  "
            ]
          },
          "metadata": {},
          "execution_count": 79
        }
      ]
    },
    {
      "cell_type": "markdown",
      "source": [
        "Data Inference juga harus diperlakukan sama (dalam kasus kali ini adalah handling outlier dan scaling) seperti pada data train dan test"
      ],
      "metadata": {
        "id": "VSlee8UKTTqo"
      }
    },
    {
      "cell_type": "code",
      "source": [
        "inf_final[num_col] = wins.transform(inf[num_col])\n"
      ],
      "metadata": {
        "id": "ViD9PhwNqIAu"
      },
      "execution_count": 80,
      "outputs": []
    },
    {
      "cell_type": "code",
      "source": [
        "inf_final[num_col] = scaler.transform(inf[num_col])"
      ],
      "metadata": {
        "id": "ttOjJNvpqXX6"
      },
      "execution_count": 81,
      "outputs": []
    },
    {
      "cell_type": "markdown",
      "source": [
        "Melihat hasil prediksi dari model terhadap Data Inference"
      ],
      "metadata": {
        "id": "0PlJvuelTdeu"
      }
    },
    {
      "cell_type": "code",
      "source": [
        "y_pred_inf = gridcvbest.predict(inf_final)\n",
        "y_pred_inf_df = pd.DataFrame(y_pred_inf, columns=['Predicted Class'])\n",
        "y_pred_inf_df"
      ],
      "metadata": {
        "colab": {
          "base_uri": "https://localhost:8080/",
          "height": 520
        },
        "id": "6vyHbV7Fqkhl",
        "outputId": "1b8e132c-3651-408a-d9b5-fe00d7d336ff"
      },
      "execution_count": 82,
      "outputs": [
        {
          "output_type": "execute_result",
          "data": {
            "text/plain": [
              "    Predicted Class\n",
              "0                 0\n",
              "1                 0\n",
              "2                 0\n",
              "3                 0\n",
              "4                 0\n",
              "5                 0\n",
              "6                 0\n",
              "7                 0\n",
              "8                 0\n",
              "9                 0\n",
              "10                0\n",
              "11                0\n",
              "12                0\n",
              "13                0\n",
              "14                0"
            ],
            "text/html": [
              "\n",
              "  <div id=\"df-e23e8429-f22a-4ed6-b88a-83d1eb6ac693\">\n",
              "    <div class=\"colab-df-container\">\n",
              "      <div>\n",
              "<style scoped>\n",
              "    .dataframe tbody tr th:only-of-type {\n",
              "        vertical-align: middle;\n",
              "    }\n",
              "\n",
              "    .dataframe tbody tr th {\n",
              "        vertical-align: top;\n",
              "    }\n",
              "\n",
              "    .dataframe thead th {\n",
              "        text-align: right;\n",
              "    }\n",
              "</style>\n",
              "<table border=\"1\" class=\"dataframe\">\n",
              "  <thead>\n",
              "    <tr style=\"text-align: right;\">\n",
              "      <th></th>\n",
              "      <th>Predicted Class</th>\n",
              "    </tr>\n",
              "  </thead>\n",
              "  <tbody>\n",
              "    <tr>\n",
              "      <th>0</th>\n",
              "      <td>0</td>\n",
              "    </tr>\n",
              "    <tr>\n",
              "      <th>1</th>\n",
              "      <td>0</td>\n",
              "    </tr>\n",
              "    <tr>\n",
              "      <th>2</th>\n",
              "      <td>0</td>\n",
              "    </tr>\n",
              "    <tr>\n",
              "      <th>3</th>\n",
              "      <td>0</td>\n",
              "    </tr>\n",
              "    <tr>\n",
              "      <th>4</th>\n",
              "      <td>0</td>\n",
              "    </tr>\n",
              "    <tr>\n",
              "      <th>5</th>\n",
              "      <td>0</td>\n",
              "    </tr>\n",
              "    <tr>\n",
              "      <th>6</th>\n",
              "      <td>0</td>\n",
              "    </tr>\n",
              "    <tr>\n",
              "      <th>7</th>\n",
              "      <td>0</td>\n",
              "    </tr>\n",
              "    <tr>\n",
              "      <th>8</th>\n",
              "      <td>0</td>\n",
              "    </tr>\n",
              "    <tr>\n",
              "      <th>9</th>\n",
              "      <td>0</td>\n",
              "    </tr>\n",
              "    <tr>\n",
              "      <th>10</th>\n",
              "      <td>0</td>\n",
              "    </tr>\n",
              "    <tr>\n",
              "      <th>11</th>\n",
              "      <td>0</td>\n",
              "    </tr>\n",
              "    <tr>\n",
              "      <th>12</th>\n",
              "      <td>0</td>\n",
              "    </tr>\n",
              "    <tr>\n",
              "      <th>13</th>\n",
              "      <td>0</td>\n",
              "    </tr>\n",
              "    <tr>\n",
              "      <th>14</th>\n",
              "      <td>0</td>\n",
              "    </tr>\n",
              "  </tbody>\n",
              "</table>\n",
              "</div>\n",
              "      <button class=\"colab-df-convert\" onclick=\"convertToInteractive('df-e23e8429-f22a-4ed6-b88a-83d1eb6ac693')\"\n",
              "              title=\"Convert this dataframe to an interactive table.\"\n",
              "              style=\"display:none;\">\n",
              "        \n",
              "  <svg xmlns=\"http://www.w3.org/2000/svg\" height=\"24px\"viewBox=\"0 0 24 24\"\n",
              "       width=\"24px\">\n",
              "    <path d=\"M0 0h24v24H0V0z\" fill=\"none\"/>\n",
              "    <path d=\"M18.56 5.44l.94 2.06.94-2.06 2.06-.94-2.06-.94-.94-2.06-.94 2.06-2.06.94zm-11 1L8.5 8.5l.94-2.06 2.06-.94-2.06-.94L8.5 2.5l-.94 2.06-2.06.94zm10 10l.94 2.06.94-2.06 2.06-.94-2.06-.94-.94-2.06-.94 2.06-2.06.94z\"/><path d=\"M17.41 7.96l-1.37-1.37c-.4-.4-.92-.59-1.43-.59-.52 0-1.04.2-1.43.59L10.3 9.45l-7.72 7.72c-.78.78-.78 2.05 0 2.83L4 21.41c.39.39.9.59 1.41.59.51 0 1.02-.2 1.41-.59l7.78-7.78 2.81-2.81c.8-.78.8-2.07 0-2.86zM5.41 20L4 18.59l7.72-7.72 1.47 1.35L5.41 20z\"/>\n",
              "  </svg>\n",
              "      </button>\n",
              "      \n",
              "  <style>\n",
              "    .colab-df-container {\n",
              "      display:flex;\n",
              "      flex-wrap:wrap;\n",
              "      gap: 12px;\n",
              "    }\n",
              "\n",
              "    .colab-df-convert {\n",
              "      background-color: #E8F0FE;\n",
              "      border: none;\n",
              "      border-radius: 50%;\n",
              "      cursor: pointer;\n",
              "      display: none;\n",
              "      fill: #1967D2;\n",
              "      height: 32px;\n",
              "      padding: 0 0 0 0;\n",
              "      width: 32px;\n",
              "    }\n",
              "\n",
              "    .colab-df-convert:hover {\n",
              "      background-color: #E2EBFA;\n",
              "      box-shadow: 0px 1px 2px rgba(60, 64, 67, 0.3), 0px 1px 3px 1px rgba(60, 64, 67, 0.15);\n",
              "      fill: #174EA6;\n",
              "    }\n",
              "\n",
              "    [theme=dark] .colab-df-convert {\n",
              "      background-color: #3B4455;\n",
              "      fill: #D2E3FC;\n",
              "    }\n",
              "\n",
              "    [theme=dark] .colab-df-convert:hover {\n",
              "      background-color: #434B5C;\n",
              "      box-shadow: 0px 1px 3px 1px rgba(0, 0, 0, 0.15);\n",
              "      filter: drop-shadow(0px 1px 2px rgba(0, 0, 0, 0.3));\n",
              "      fill: #FFFFFF;\n",
              "    }\n",
              "  </style>\n",
              "\n",
              "      <script>\n",
              "        const buttonEl =\n",
              "          document.querySelector('#df-e23e8429-f22a-4ed6-b88a-83d1eb6ac693 button.colab-df-convert');\n",
              "        buttonEl.style.display =\n",
              "          google.colab.kernel.accessAllowed ? 'block' : 'none';\n",
              "\n",
              "        async function convertToInteractive(key) {\n",
              "          const element = document.querySelector('#df-e23e8429-f22a-4ed6-b88a-83d1eb6ac693');\n",
              "          const dataTable =\n",
              "            await google.colab.kernel.invokeFunction('convertToInteractive',\n",
              "                                                     [key], {});\n",
              "          if (!dataTable) return;\n",
              "\n",
              "          const docLinkHtml = 'Like what you see? Visit the ' +\n",
              "            '<a target=\"_blank\" href=https://colab.research.google.com/notebooks/data_table.ipynb>data table notebook</a>'\n",
              "            + ' to learn more about interactive tables.';\n",
              "          element.innerHTML = '';\n",
              "          dataTable['output_type'] = 'display_data';\n",
              "          await google.colab.output.renderOutput(dataTable, element);\n",
              "          const docLink = document.createElement('div');\n",
              "          docLink.innerHTML = docLinkHtml;\n",
              "          element.appendChild(docLink);\n",
              "        }\n",
              "      </script>\n",
              "    </div>\n",
              "  </div>\n",
              "  "
            ]
          },
          "metadata": {},
          "execution_count": 82
        }
      ]
    },
    {
      "cell_type": "markdown",
      "source": [
        "### Predicted and Real Value Comparison in Inference"
      ],
      "metadata": {
        "id": "nAvmYBSp1jky"
      }
    },
    {
      "cell_type": "markdown",
      "source": [
        "Untuk melihat lebih jelas, saya menggabungkan real value dari target dan Predicted value dari target"
      ],
      "metadata": {
        "id": "4ENUC-qiTBsp"
      }
    },
    {
      "cell_type": "code",
      "source": [
        "df_inf = pd.concat([y_pred_inf_df,inf[['default_payment_next_month']]],axis=1)\n",
        "df_inf"
      ],
      "metadata": {
        "colab": {
          "base_uri": "https://localhost:8080/",
          "height": 520
        },
        "id": "J1ZaCV9zrkuP",
        "outputId": "a78f4724-313f-4b88-98fa-d1d3075d75c4"
      },
      "execution_count": 83,
      "outputs": [
        {
          "output_type": "execute_result",
          "data": {
            "text/plain": [
              "    Predicted Class  default_payment_next_month\n",
              "0                 0                           0\n",
              "1                 0                           0\n",
              "2                 0                           0\n",
              "3                 0                           1\n",
              "4                 0                           0\n",
              "5                 0                           1\n",
              "6                 0                           0\n",
              "7                 0                           0\n",
              "8                 0                           0\n",
              "9                 0                           0\n",
              "10                0                           0\n",
              "11                0                           0\n",
              "12                0                           0\n",
              "13                0                           0\n",
              "14                0                           0"
            ],
            "text/html": [
              "\n",
              "  <div id=\"df-b5b4ad93-aa86-4e7b-838a-41ceab5b4e25\">\n",
              "    <div class=\"colab-df-container\">\n",
              "      <div>\n",
              "<style scoped>\n",
              "    .dataframe tbody tr th:only-of-type {\n",
              "        vertical-align: middle;\n",
              "    }\n",
              "\n",
              "    .dataframe tbody tr th {\n",
              "        vertical-align: top;\n",
              "    }\n",
              "\n",
              "    .dataframe thead th {\n",
              "        text-align: right;\n",
              "    }\n",
              "</style>\n",
              "<table border=\"1\" class=\"dataframe\">\n",
              "  <thead>\n",
              "    <tr style=\"text-align: right;\">\n",
              "      <th></th>\n",
              "      <th>Predicted Class</th>\n",
              "      <th>default_payment_next_month</th>\n",
              "    </tr>\n",
              "  </thead>\n",
              "  <tbody>\n",
              "    <tr>\n",
              "      <th>0</th>\n",
              "      <td>0</td>\n",
              "      <td>0</td>\n",
              "    </tr>\n",
              "    <tr>\n",
              "      <th>1</th>\n",
              "      <td>0</td>\n",
              "      <td>0</td>\n",
              "    </tr>\n",
              "    <tr>\n",
              "      <th>2</th>\n",
              "      <td>0</td>\n",
              "      <td>0</td>\n",
              "    </tr>\n",
              "    <tr>\n",
              "      <th>3</th>\n",
              "      <td>0</td>\n",
              "      <td>1</td>\n",
              "    </tr>\n",
              "    <tr>\n",
              "      <th>4</th>\n",
              "      <td>0</td>\n",
              "      <td>0</td>\n",
              "    </tr>\n",
              "    <tr>\n",
              "      <th>5</th>\n",
              "      <td>0</td>\n",
              "      <td>1</td>\n",
              "    </tr>\n",
              "    <tr>\n",
              "      <th>6</th>\n",
              "      <td>0</td>\n",
              "      <td>0</td>\n",
              "    </tr>\n",
              "    <tr>\n",
              "      <th>7</th>\n",
              "      <td>0</td>\n",
              "      <td>0</td>\n",
              "    </tr>\n",
              "    <tr>\n",
              "      <th>8</th>\n",
              "      <td>0</td>\n",
              "      <td>0</td>\n",
              "    </tr>\n",
              "    <tr>\n",
              "      <th>9</th>\n",
              "      <td>0</td>\n",
              "      <td>0</td>\n",
              "    </tr>\n",
              "    <tr>\n",
              "      <th>10</th>\n",
              "      <td>0</td>\n",
              "      <td>0</td>\n",
              "    </tr>\n",
              "    <tr>\n",
              "      <th>11</th>\n",
              "      <td>0</td>\n",
              "      <td>0</td>\n",
              "    </tr>\n",
              "    <tr>\n",
              "      <th>12</th>\n",
              "      <td>0</td>\n",
              "      <td>0</td>\n",
              "    </tr>\n",
              "    <tr>\n",
              "      <th>13</th>\n",
              "      <td>0</td>\n",
              "      <td>0</td>\n",
              "    </tr>\n",
              "    <tr>\n",
              "      <th>14</th>\n",
              "      <td>0</td>\n",
              "      <td>0</td>\n",
              "    </tr>\n",
              "  </tbody>\n",
              "</table>\n",
              "</div>\n",
              "      <button class=\"colab-df-convert\" onclick=\"convertToInteractive('df-b5b4ad93-aa86-4e7b-838a-41ceab5b4e25')\"\n",
              "              title=\"Convert this dataframe to an interactive table.\"\n",
              "              style=\"display:none;\">\n",
              "        \n",
              "  <svg xmlns=\"http://www.w3.org/2000/svg\" height=\"24px\"viewBox=\"0 0 24 24\"\n",
              "       width=\"24px\">\n",
              "    <path d=\"M0 0h24v24H0V0z\" fill=\"none\"/>\n",
              "    <path d=\"M18.56 5.44l.94 2.06.94-2.06 2.06-.94-2.06-.94-.94-2.06-.94 2.06-2.06.94zm-11 1L8.5 8.5l.94-2.06 2.06-.94-2.06-.94L8.5 2.5l-.94 2.06-2.06.94zm10 10l.94 2.06.94-2.06 2.06-.94-2.06-.94-.94-2.06-.94 2.06-2.06.94z\"/><path d=\"M17.41 7.96l-1.37-1.37c-.4-.4-.92-.59-1.43-.59-.52 0-1.04.2-1.43.59L10.3 9.45l-7.72 7.72c-.78.78-.78 2.05 0 2.83L4 21.41c.39.39.9.59 1.41.59.51 0 1.02-.2 1.41-.59l7.78-7.78 2.81-2.81c.8-.78.8-2.07 0-2.86zM5.41 20L4 18.59l7.72-7.72 1.47 1.35L5.41 20z\"/>\n",
              "  </svg>\n",
              "      </button>\n",
              "      \n",
              "  <style>\n",
              "    .colab-df-container {\n",
              "      display:flex;\n",
              "      flex-wrap:wrap;\n",
              "      gap: 12px;\n",
              "    }\n",
              "\n",
              "    .colab-df-convert {\n",
              "      background-color: #E8F0FE;\n",
              "      border: none;\n",
              "      border-radius: 50%;\n",
              "      cursor: pointer;\n",
              "      display: none;\n",
              "      fill: #1967D2;\n",
              "      height: 32px;\n",
              "      padding: 0 0 0 0;\n",
              "      width: 32px;\n",
              "    }\n",
              "\n",
              "    .colab-df-convert:hover {\n",
              "      background-color: #E2EBFA;\n",
              "      box-shadow: 0px 1px 2px rgba(60, 64, 67, 0.3), 0px 1px 3px 1px rgba(60, 64, 67, 0.15);\n",
              "      fill: #174EA6;\n",
              "    }\n",
              "\n",
              "    [theme=dark] .colab-df-convert {\n",
              "      background-color: #3B4455;\n",
              "      fill: #D2E3FC;\n",
              "    }\n",
              "\n",
              "    [theme=dark] .colab-df-convert:hover {\n",
              "      background-color: #434B5C;\n",
              "      box-shadow: 0px 1px 3px 1px rgba(0, 0, 0, 0.15);\n",
              "      filter: drop-shadow(0px 1px 2px rgba(0, 0, 0, 0.3));\n",
              "      fill: #FFFFFF;\n",
              "    }\n",
              "  </style>\n",
              "\n",
              "      <script>\n",
              "        const buttonEl =\n",
              "          document.querySelector('#df-b5b4ad93-aa86-4e7b-838a-41ceab5b4e25 button.colab-df-convert');\n",
              "        buttonEl.style.display =\n",
              "          google.colab.kernel.accessAllowed ? 'block' : 'none';\n",
              "\n",
              "        async function convertToInteractive(key) {\n",
              "          const element = document.querySelector('#df-b5b4ad93-aa86-4e7b-838a-41ceab5b4e25');\n",
              "          const dataTable =\n",
              "            await google.colab.kernel.invokeFunction('convertToInteractive',\n",
              "                                                     [key], {});\n",
              "          if (!dataTable) return;\n",
              "\n",
              "          const docLinkHtml = 'Like what you see? Visit the ' +\n",
              "            '<a target=\"_blank\" href=https://colab.research.google.com/notebooks/data_table.ipynb>data table notebook</a>'\n",
              "            + ' to learn more about interactive tables.';\n",
              "          element.innerHTML = '';\n",
              "          dataTable['output_type'] = 'display_data';\n",
              "          await google.colab.output.renderOutput(dataTable, element);\n",
              "          const docLink = document.createElement('div');\n",
              "          docLink.innerHTML = docLinkHtml;\n",
              "          element.appendChild(docLink);\n",
              "        }\n",
              "      </script>\n",
              "    </div>\n",
              "  </div>\n",
              "  "
            ]
          },
          "metadata": {},
          "execution_count": 83
        }
      ]
    },
    {
      "cell_type": "markdown",
      "source": [
        "dapat dilihat bahwa model dapat memprediksi kelas 0 dengan baik tetapi ketika memprediksi kelas 1, model tidak dapat memprediksi dengan benar, situasi ini juga terjadi pada saat training dan testing, penyebabnya adalah data yang imbalance."
      ],
      "metadata": {
        "id": "-8keJOJ_T4Y-"
      }
    },
    {
      "cell_type": "markdown",
      "source": [
        "--------------------------------------------------------------------------------"
      ],
      "metadata": {
        "id": "KitIlIAHUMHQ"
      }
    },
    {
      "cell_type": "markdown",
      "source": [
        "## Conclusion"
      ],
      "metadata": {
        "id": "nEg6nVlxfl6I"
      }
    },
    {
      "cell_type": "markdown",
      "source": [
        "Dalam pembuatan model kali ini, saya melakukan pembuatan 8 model yaitu:\n",
        "- Logistic Regression\n",
        "- SVM\n",
        "- Decision Tree\n",
        "- KNN\n",
        "- Naive Bayes\n",
        "- Random Forest\n",
        "- Gradient Boosting\n",
        "- AdaBoost\n",
        "\n",
        "1. Dari 8 permodelan tersebut, model terbaik yang didapatkan adalah logistic Regression untuk mengklasifikasikan default payment nasabah Bank Nasional Taiwan. Walaupun Logistic Regression adalah model yang paling tepat diantara yang lainnya, model ini tetap saja tidak cukup baik dalam memprediksi nasabah yang melakukan pembayaran telat atau belum lunas. Situasi tersebut bisa jadi disebabkan oleh data imbalance dimana dari total 2965 entry data, 2330 merupakan data yang default payment nya adalah 0 dan 635 data yang default payment nya adalah 1. \n",
        "\n",
        "2. Di kasus Hyperparameter Tuning dengan Grid Search, model Logistic Regression yang sudah dituning ternyata tidak menjadi lebih baik dari model Default Logistic Regression (ditinjau dari nilai recall dan f1 nya)\n",
        "\n",
        "Kesimpulan secara keseluruhan adalah pada modeling kali ini, dilihat dari urgensi nya untuk memprediksi nasabah yang melakukan pembayaran telat atau belum lunas, maka model yang telah dibuat tidak cukup baik untuk dipakai memprediksi klasifikasi default payment nasabah di Bank Nasional Taiwan karena model hanya akurat dalam memprediksi nasabah yang melakukan pembayaran tepat waktu namun tidak akurat ketika memprediksi nasabah yang melakukan pembayaran telat atau belum lunas"
      ],
      "metadata": {
        "id": "I9-WBncG56kR"
      }
    },
    {
      "cell_type": "markdown",
      "source": [
        "## Conceptual Problems"
      ],
      "metadata": {
        "id": "1EaWsJGifou4"
      }
    },
    {
      "cell_type": "markdown",
      "source": [
        "**1. Apakah fungsi parameter criterion pada Decision Tree? Jelaskan salah satu criterion yang kalian pahami!**\n",
        "\n",
        "Decision Tree merupakan model dengan konsep partisi sehingga setiap pemisahan kategori yang terjadi sangatlah penting dan Criterion merupakan parameter untuk memisahkan atribut. Untuk masing-masing kriteria yang dapat dipilih harus dapat mengoptimalkan nilai split dari decision tree.\n",
        "\n",
        "**Gini:**\n",
        "Gini merupakan criterion default pada Decision Tree,  criteria ini mengukur ketidaksetaraan antara distribusi karakteristik target yang ada. Pemisahan pada Atribut yang dipilih menghasilkan pengurangan indeks gini rata-rata.\n",
        "\n",
        "**2. Apakah fungsi dari pruning pada Tree model?**\n",
        "\n",
        "pruning adalaah metode untuk memangkas atau mengurangi ukuran pada suatu tree model dengan mengurangi cabang atau kedalaman tree model yang tidak dibutuhkan. Tujuan dari adanya pruning adalah ketika decision tree berukuran besar, maka dapat disederhanakan tergantung pada confidence level asumsi pribadi. Tujuan lainnya juga adalah untuk mengurangi tingkat kesalahan prediksi dan mencegah overfitting pada data\n",
        "\n",
        "**3. Bagaimana cara memilih K yang optimal pada KNN?**\n",
        "\n",
        "Ada 2 cara yang bisa dipakai:\n",
        "- Membagi data menjadi train set dan tuning/validation set (Jangan gunakan Test set). gunakan validation set untuk menemukan k yang terbaik dan cocok untuk suatu kondisi yang sedang dijalani\n",
        "\n",
        "- Elbow method adalah metode yang sering dipakai untuk menentukan jumlah K yang akan digunakan pada kNN. Metode elbow menggunakan nilai total wss (within sum square) sebagai penentu k optimalnya. WSS adalah ukuran untuk mengetahui keseragaman suatu cluster.\n",
        "\n",
        "**4. Jelaskan apa yang kalian ketahui tentang Cross Validation!**\n",
        "\n",
        "Cross-validation merupakan metode yang digunakan untuk mengevaluasi kinerja model yang sebelumnya data yang sudah ada sudah dibagi menjadi Train Set dan Test Set untuk dilakukan modeling. dalam Cross Validation, kita bisa melihat kinerja model (scoring,rata-rata dari hasil scoring, standar deviasi dan lain-lain). Salah satu keuntungan yang saya ketahui dari cross validation adalah sebuah metode yang bisa digunakan untuk membandingkan kinerja antar model dan menentukan model mana yang terbaik. \n",
        "\n",
        "**5. Jelaskan apa yang kalian ketahui tentang Accuracy, Precision, Recall, F1 Score!**\n",
        "Accuracy adalah jumlah prediksi benar pada target pada semua entry data. nilai Accuracy bisa membantu untuk mengetahui seberapa konsisten model dalam memprediksi, namun nilai accuracy akan lebih baik dijadikan acuan jika data target balance\n",
        "\n",
        "Precision dilihat jika kita berfokus pada False Positive sedangkan Recall dilihat jika kita berfokus pada False Negative semakin besar nilai precision maupun recall (semakin mendekati 1) maka model sedikit dalam salah memprediksi karena precision atau recall yang besar artinya model berhasil meminimalisir False Negative ataupun False Positive\n",
        "\n",
        "F1 Score adalah gabungan dari nilai precision dan recall, dan F1 score adalah rata-rata dari precision dan recall\n",
        "\n",
        "Berikut adalah cara kalkulasi dari classification report:\n",
        "- Accuracy = (TP + TN) /(TP + TN + FP + FN)\n",
        "- Precision = (TP) / (TP + FP)\n",
        "- Recall = (TP) / (TP + FN)\n",
        "- F1 Score = (2 x Precision x Recall) / (Precision + Recall)"
      ],
      "metadata": {
        "id": "yYN_pyXPCxlt"
      }
    }
  ],
  "metadata": {
    "colab": {
      "toc_visible": true,
      "provenance": [],
      "collapsed_sections": [
        "rNgd9pmZ6BHh",
        "PsaPnglg6Paz",
        "lni7jpMLDjJ_",
        "RCMQvaEGFYIm",
        "HJ8N2gvxFdaA",
        "2_jOuhAW6TiM",
        "PtYV6e2QI4lJ",
        "qqFydlxg2RPW",
        "9z25kAq32ipD",
        "d1X3LSlU8PMx",
        "fXL6ug6xJ05q",
        "PHVVDwntBhO-",
        "oZjdEOOgBaA9",
        "d73vrEx9P_Zv",
        "aogTdigaIgw9",
        "S_SrLyp6JTOm",
        "0IW45zAuKT3e",
        "OLoexVskilJx",
        "A5HoKSp-lLDS",
        "eZllFy4WirLO",
        "j9w7I2Jmzze1",
        "ZXnA2PtS0oRG",
        "AVFF07rO0oTU",
        "PGKbQYQb08lI",
        "_34BceFd0-KC",
        "pm4ETsBM1BNV",
        "2fOvSvPV1FEw",
        "A7vzBN7SKAuo",
        "0BNo8qXALO_W",
        "bIybDspbmSRp"
      ]
    },
    "kernelspec": {
      "display_name": "Python 3",
      "name": "python3"
    },
    "language_info": {
      "name": "python"
    }
  },
  "nbformat": 4,
  "nbformat_minor": 0
}